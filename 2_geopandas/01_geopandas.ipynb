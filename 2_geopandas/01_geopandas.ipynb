{
 "cells": [
  {
   "cell_type": "markdown",
   "metadata": {},
   "source": [
    "# Introduction to Geopandas\n",
    "\n",
    "**Credit:**\n",
    "\n",
    "[Vuokko Heikinheimo, Henrikki Tenkanen](https://automating-gis-processes.github.io/)  \n",
    "Department of Geosciences & Geography, University of Helsinki  "
   ]
  },
  {
   "cell_type": "markdown",
   "metadata": {},
   "source": [
    "**Geopandas** (http://geopandas.org/) makes it possible to work with geospatial data in Python in a relatively easy way. Geopandas combines the capabilities of the data analysis library [pandas](https://pandas.pydata.org/pandas-docs/stable/) with other packages like [shapely](https://shapely.readthedocs.io/en/stable/manual.html) and [fiona](https://fiona.readthedocs.io/en/latest/manual.html) for managing spatial data. \n",
    "\n",
    "The main data structures in geopandas are `GeoSeries` and `GeoDataFrame` which extend the capabilities of `Series` and `DataFrames` from pandas. This means that we can use all our pandas skills also when working with geopandas!  \n",
    "\n",
    "The main difference between geodataframes and pandas dataframes is that a [geodataframe](http://geopandas.org/data_structures.html#geodataframe) should contain one column for geometries. By default, the name of this column is `'geometry'`. The geometry column is a [geoseries](http://geopandas.org/data_structures.html#geoseries) which contains the geometries (points, lines, polygons, multipolygons etc.) as shapely objects. \n",
    "\n",
    "![geodataframe.png](img/geodataframe.png)\n",
    "\n",
    "It is conventional to import pandas as `pd`. Similarly,we will import geopandas as `gpd`:"
   ]
  },
  {
   "cell_type": "code",
   "execution_count": 1,
   "metadata": {},
   "outputs": [],
   "source": [
    "import geopandas as gpd"
   ]
  },
  {
   "cell_type": "markdown",
   "metadata": {},
   "source": [
    "In this lesson, we will cover basics steps needed for interacting with spatial data in Python using geopandas:\n",
    "\n",
    "- Managing filepaths\n",
    "- Reading spatial data from file \n",
    "- Geometry calculations \n",
    "- Writing spatial data to file\n",
    "- Grouping and splitting spatial data into multiple layers"
   ]
  },
  {
   "cell_type": "markdown",
   "metadata": {},
   "source": [
    "## Input data: Finnish topographic database \n",
    "\n",
    "In this lesson we will work with the [National Land Survey of Finland (NLS) topographic database (from 2018)](https://www.maanmittauslaitos.fi/en/maps-and-spatial-data/expert-users/product-descriptions/topographic-database). \n",
    "- The data set is licensed under the NLS' [open data licence](https://www.maanmittauslaitos.fi/en/opendata-licence-cc40) (CC BY 4.0).\n",
    "- Structure of the data is described in a separate Excel file ([download link](http://www.maanmittauslaitos.fi/sites/maanmittauslaitos.fi/files/attachments/2018/10/maastotietokanta_kohdemalli_eng.xlsx)).\n",
    "- Further information about file naming is available at [fairdata.fi](https://etsin.fairdata.fi/dataset/5023ecc7-914a-4494-9e32-d0a39d3b56ae).\n",
    "\n",
    "For this lesson, we have acquired a subset of the topographic database as shapefiles from the Helsinki Region in Finland via the [CSC open data portal](https://avaa.tdata.fi/web/paituli/latauspalvelu):\n",
    "\n",
    "![Paituli data download](img/Paituli_maastotietokanta_download.png)\n",
    "\n",
    "\n",
    "In this lesson, we will focus on **terrain objects** (Feature group: \"Terrain/1\" in the topographic database). The Terrain/1 feature group contains several feature classes. **Our aim in this lesson is to save all the Terrain/1 feature classes into separate files**.\n",
    "\n",
    "*Terrain/1 features in the Topographic Database:*\n",
    "\n",
    "|  feature class | Name of feature                                            | Feature group |\n",
    "|----------------|------------------------------------------------------------|---------------|\n",
    "| 32421          | Motor traffic area                                         | Terrain/1     |\n",
    "| 32200          | Cemetery                                                   | Terrain/1     |\n",
    "| 34300          | Sand                                                       | Terrain/1     |\n",
    "| 34100          | Rock - area                                                | Terrain/1     |\n",
    "| 34700          | Rocky area                                                 | Terrain/1     |\n",
    "| 32500          | Quarry                                                     | Terrain/1     |\n",
    "| 32112          | Mineral resources extraction area, fine-grained material   | Terrain/1     |\n",
    "| 32111          | Mineral resources extraction area, coarse-grained material | Terrain/1     |\n",
    "| 32611          | Field                                                      | Terrain/1     |\n",
    "| 32612          | Garden                                                     | Terrain/1     |\n",
    "| 32800          | Meadow                                                     | Terrain/1     |\n",
    "| 32900          | Park                                                       | Terrain/1     |\n",
    "| 35300          | Paludified land                                            | Terrain/1     |\n",
    "| 35412          | Bog, easy to traverse forested                             | Terrain/1     |\n",
    "| 35411          | Open bog, easy to traverse treeless                        | Terrain/1     |\n",
    "| 35421          | Open fen, difficult to traverse treeless                   | Terrain/1     |\n",
    "| 33000          | Earth fill                                                 | Terrain/1     |\n",
    "| 33100          | Sports and recreation area                                 | Terrain/1     |\n",
    "| 36200          | Lake water                                                 | Terrain/1     |\n",
    "| 36313          | Watercourse area                                           | Terrain/1     |\n",
    "\n",
    "\n",
    "According to the [naming convention](https://etsin.fairdata.fi/dataset/5023ecc7-914a-4494-9e32-d0a39d3b56ae), all files that start with a letter `m` and end with `p` contain the objects we are interested in (Terrain/1 polygons). "
   ]
  },
  {
   "cell_type": "markdown",
   "metadata": {},
   "source": [
    "Let's store this mapping"
   ]
  },
  {
   "cell_type": "code",
   "execution_count": null,
   "metadata": {},
   "outputs": [],
   "source": [
    "# Define mapping\n",
    "terrain_types = {\n",
    "    32421: \"Motor traffic area\",\n",
    "    32200: \"Cemetery\",\n",
    "    34300: \"Sand\",\n",
    "    34100: \"Rock area\",\n",
    "    34700: \"Rocky area\",\n",
    "    32500: \"Quarry\",\n",
    "    32112: \"Mineral resources extraction area, fine-grained material\",\n",
    "    32111: \"Mineral resources extraction area, coarse-grained material\",\n",
    "    32611: \"Field\",\n",
    "    32612: \"Garden\",\n",
    "    32800: \"Meadow\",\n",
    "    32900: \"Park\",\n",
    "    35300: \"Paludified land\",\n",
    "    35412: \"Bog, easy to traverse forested\",\n",
    "    35411: \"Open bog, easy to traverse treeless\",\n",
    "    35421: \"Open fen, difficult to traverse treeless\",\n",
    "    33000: \"Earth fill\",\n",
    "    33100: \"Sports and recreation area\",\n",
    "    36200: \"Lake water\",\n",
    "    36313: \"Watercourse area\"}"
   ]
  },
  {
   "cell_type": "markdown",
   "metadata": {},
   "source": [
    "## Data\n",
    "\n",
    "The data for this tutorial is available under: `data/L4132R.shp`. Notice that Shapefile -fileformat contains many separate files such as `.dbf` that contains the attribute information, and `.prj` -file that contains information about coordinate reference system."
   ]
  },
  {
   "cell_type": "markdown",
   "metadata": {},
   "source": [
    "## Managing filepaths\n",
    "\n",
    "Built-in module `os` provides many useful functions for interacting with the operating system. One of the most useful submodules in the os package is the [os.path-module](https://docs.python.org/2/library/os.path.html) for manipulating file paths. This week, we have data in different sub-folders and we can practice how to use `os` path tools when defining filepaths.\n",
    "\n",
    "Let's import `os` and see how we can construct a filepath by joining a folder path and file name:"
   ]
  },
  {
   "cell_type": "code",
   "execution_count": 3,
   "metadata": {},
   "outputs": [
    {
     "name": "stdout",
     "output_type": "stream",
     "text": [
      "..\\data\\L4132R.shp\\m_L4132R_p.shp\n"
     ]
    }
   ],
   "source": [
    "# Import\n",
    "import os\n",
    "\n",
    "# Define path to folder\n",
    "input_folders = ['..', 'data', 'L4132R.shp', 'm_L4132R_p.shp']\n",
    "\n",
    "# Join folder path and filename \n",
    "fp = os.path.join(*input_folders)\n",
    "\n",
    "# Print out the full file path\n",
    "print(fp)"
   ]
  },
  {
   "cell_type": "markdown",
   "metadata": {},
   "source": [
    "## Reading a Shapefile\n",
    "\n",
    "Esri Shapefile is the default file format when reading in data usign geopandas, so we only need to pass the file path in order to read in our data:"
   ]
  },
  {
   "cell_type": "code",
   "execution_count": 32,
   "metadata": {},
   "outputs": [],
   "source": [
    "# Import dependencies\n",
    "import geopandas as gpd\n",
    "\n",
    "# Read file using gpd.read_file()\n",
    "data = gpd.read_file(fp)"
   ]
  },
  {
   "cell_type": "markdown",
   "metadata": {},
   "source": [
    "Let's check the data type:"
   ]
  },
  {
   "cell_type": "code",
   "execution_count": 33,
   "metadata": {
    "jupyter": {
     "outputs_hidden": false
    }
   },
   "outputs": [
    {
     "data": {
      "text/plain": [
       "geopandas.geodataframe.GeoDataFrame"
      ]
     },
     "execution_count": 33,
     "metadata": {},
     "output_type": "execute_result"
    }
   ],
   "source": [
    "type(data)"
   ]
  },
  {
   "cell_type": "markdown",
   "metadata": {},
   "source": [
    "Here we see that our `data` -variable is a `GeoDataFrame`. GeoDataFrame extends the functionalities of\n",
    "`pandas.DataFrame` in a way that it is possible to handle spatial data using similar approaches and datastructures as in pandas (hence the name geopandas). \n",
    "\n",
    "Let's check the first rows of data: "
   ]
  },
  {
   "cell_type": "code",
   "execution_count": 34,
   "metadata": {
    "jupyter": {
     "outputs_hidden": false
    }
   },
   "outputs": [
    {
     "data": {
      "text/html": [
       "<div>\n",
       "<style scoped>\n",
       "    .dataframe tbody tr th:only-of-type {\n",
       "        vertical-align: middle;\n",
       "    }\n",
       "\n",
       "    .dataframe tbody tr th {\n",
       "        vertical-align: top;\n",
       "    }\n",
       "\n",
       "    .dataframe thead th {\n",
       "        text-align: right;\n",
       "    }\n",
       "</style>\n",
       "<table border=\"1\" class=\"dataframe\">\n",
       "  <thead>\n",
       "    <tr style=\"text-align: right;\">\n",
       "      <th></th>\n",
       "      <th>TEKSTI</th>\n",
       "      <th>RYHMA</th>\n",
       "      <th>LUOKKA</th>\n",
       "      <th>TASTAR</th>\n",
       "      <th>KORTAR</th>\n",
       "      <th>KORARV</th>\n",
       "      <th>KULKUTAPA</th>\n",
       "      <th>KOHDEOSO</th>\n",
       "      <th>AINLAHDE</th>\n",
       "      <th>SYNTYHETKI</th>\n",
       "      <th>...</th>\n",
       "      <th>KARTOGLK</th>\n",
       "      <th>ALUEJAKOON</th>\n",
       "      <th>VERSUH</th>\n",
       "      <th>SUUNTA</th>\n",
       "      <th>SIIRT_DX</th>\n",
       "      <th>SIIRT_DY</th>\n",
       "      <th>KORKEUS</th>\n",
       "      <th>ATTR2</th>\n",
       "      <th>ATTR3</th>\n",
       "      <th>geometry</th>\n",
       "    </tr>\n",
       "  </thead>\n",
       "  <tbody>\n",
       "    <tr>\n",
       "      <th>0</th>\n",
       "      <td>None</td>\n",
       "      <td>64</td>\n",
       "      <td>32421</td>\n",
       "      <td>5000</td>\n",
       "      <td>0</td>\n",
       "      <td>0.0</td>\n",
       "      <td>0</td>\n",
       "      <td>1812247077</td>\n",
       "      <td>1</td>\n",
       "      <td>20180125</td>\n",
       "      <td>...</td>\n",
       "      <td>0</td>\n",
       "      <td>0</td>\n",
       "      <td>0</td>\n",
       "      <td>0</td>\n",
       "      <td>0</td>\n",
       "      <td>0</td>\n",
       "      <td>0.0</td>\n",
       "      <td>0</td>\n",
       "      <td>0</td>\n",
       "      <td>POLYGON ((379394.248 6689991.936, 379389.790 6...</td>\n",
       "    </tr>\n",
       "    <tr>\n",
       "      <th>1</th>\n",
       "      <td>None</td>\n",
       "      <td>64</td>\n",
       "      <td>32421</td>\n",
       "      <td>5000</td>\n",
       "      <td>0</td>\n",
       "      <td>0.0</td>\n",
       "      <td>0</td>\n",
       "      <td>1718796908</td>\n",
       "      <td>1</td>\n",
       "      <td>20180120</td>\n",
       "      <td>...</td>\n",
       "      <td>0</td>\n",
       "      <td>0</td>\n",
       "      <td>0</td>\n",
       "      <td>0</td>\n",
       "      <td>0</td>\n",
       "      <td>0</td>\n",
       "      <td>0.0</td>\n",
       "      <td>0</td>\n",
       "      <td>0</td>\n",
       "      <td>POLYGON ((378980.811 6689359.377, 378983.401 6...</td>\n",
       "    </tr>\n",
       "    <tr>\n",
       "      <th>2</th>\n",
       "      <td>None</td>\n",
       "      <td>64</td>\n",
       "      <td>32421</td>\n",
       "      <td>20000</td>\n",
       "      <td>0</td>\n",
       "      <td>0.0</td>\n",
       "      <td>0</td>\n",
       "      <td>411167695</td>\n",
       "      <td>1</td>\n",
       "      <td>20180120</td>\n",
       "      <td>...</td>\n",
       "      <td>0</td>\n",
       "      <td>0</td>\n",
       "      <td>0</td>\n",
       "      <td>0</td>\n",
       "      <td>0</td>\n",
       "      <td>0</td>\n",
       "      <td>0.0</td>\n",
       "      <td>0</td>\n",
       "      <td>0</td>\n",
       "      <td>POLYGON ((378804.766 6689256.471, 378817.107 6...</td>\n",
       "    </tr>\n",
       "    <tr>\n",
       "      <th>3</th>\n",
       "      <td>None</td>\n",
       "      <td>64</td>\n",
       "      <td>32421</td>\n",
       "      <td>20000</td>\n",
       "      <td>0</td>\n",
       "      <td>0.0</td>\n",
       "      <td>0</td>\n",
       "      <td>411173768</td>\n",
       "      <td>1</td>\n",
       "      <td>20180120</td>\n",
       "      <td>...</td>\n",
       "      <td>0</td>\n",
       "      <td>0</td>\n",
       "      <td>0</td>\n",
       "      <td>0</td>\n",
       "      <td>0</td>\n",
       "      <td>0</td>\n",
       "      <td>0.0</td>\n",
       "      <td>0</td>\n",
       "      <td>0</td>\n",
       "      <td>POLYGON ((379229.695 6685025.111, 379233.366 6...</td>\n",
       "    </tr>\n",
       "    <tr>\n",
       "      <th>4</th>\n",
       "      <td>None</td>\n",
       "      <td>64</td>\n",
       "      <td>32421</td>\n",
       "      <td>20000</td>\n",
       "      <td>0</td>\n",
       "      <td>0.0</td>\n",
       "      <td>0</td>\n",
       "      <td>411173698</td>\n",
       "      <td>1</td>\n",
       "      <td>20180120</td>\n",
       "      <td>...</td>\n",
       "      <td>0</td>\n",
       "      <td>0</td>\n",
       "      <td>0</td>\n",
       "      <td>0</td>\n",
       "      <td>0</td>\n",
       "      <td>0</td>\n",
       "      <td>0.0</td>\n",
       "      <td>0</td>\n",
       "      <td>0</td>\n",
       "      <td>POLYGON ((379825.199 6685096.247, 379829.651 6...</td>\n",
       "    </tr>\n",
       "  </tbody>\n",
       "</table>\n",
       "<p>5 rows × 21 columns</p>\n",
       "</div>"
      ],
      "text/plain": [
       "  TEKSTI  RYHMA  LUOKKA  TASTAR  KORTAR  KORARV  KULKUTAPA    KOHDEOSO  \\\n",
       "0   None     64   32421    5000       0     0.0          0  1812247077   \n",
       "1   None     64   32421    5000       0     0.0          0  1718796908   \n",
       "2   None     64   32421   20000       0     0.0          0   411167695   \n",
       "3   None     64   32421   20000       0     0.0          0   411173768   \n",
       "4   None     64   32421   20000       0     0.0          0   411173698   \n",
       "\n",
       "   AINLAHDE SYNTYHETKI  ... KARTOGLK  ALUEJAKOON  VERSUH  SUUNTA  SIIRT_DX  \\\n",
       "0         1   20180125  ...        0           0       0       0         0   \n",
       "1         1   20180120  ...        0           0       0       0         0   \n",
       "2         1   20180120  ...        0           0       0       0         0   \n",
       "3         1   20180120  ...        0           0       0       0         0   \n",
       "4         1   20180120  ...        0           0       0       0         0   \n",
       "\n",
       "   SIIRT_DY  KORKEUS  ATTR2  ATTR3  \\\n",
       "0         0      0.0      0      0   \n",
       "1         0      0.0      0      0   \n",
       "2         0      0.0      0      0   \n",
       "3         0      0.0      0      0   \n",
       "4         0      0.0      0      0   \n",
       "\n",
       "                                            geometry  \n",
       "0  POLYGON ((379394.248 6689991.936, 379389.790 6...  \n",
       "1  POLYGON ((378980.811 6689359.377, 378983.401 6...  \n",
       "2  POLYGON ((378804.766 6689256.471, 378817.107 6...  \n",
       "3  POLYGON ((379229.695 6685025.111, 379233.366 6...  \n",
       "4  POLYGON ((379825.199 6685096.247, 379829.651 6...  \n",
       "\n",
       "[5 rows x 21 columns]"
      ]
     },
     "execution_count": 34,
     "metadata": {},
     "output_type": "execute_result"
    }
   ],
   "source": [
    "data.head()"
   ]
  },
  {
   "cell_type": "markdown",
   "metadata": {},
   "source": [
    "- Check all column names:"
   ]
  },
  {
   "cell_type": "code",
   "execution_count": 35,
   "metadata": {},
   "outputs": [
    {
     "name": "stdout",
     "output_type": "stream",
     "text": [
      "TEKSTI\n",
      "RYHMA\n",
      "LUOKKA\n",
      "TASTAR\n",
      "KORTAR\n",
      "KORARV\n",
      "KULKUTAPA\n",
      "KOHDEOSO\n",
      "AINLAHDE\n",
      "SYNTYHETKI\n",
      "KUOLHETKI\n",
      "KARTOGLK\n",
      "ALUEJAKOON\n",
      "VERSUH\n",
      "SUUNTA\n",
      "SIIRT_DX\n",
      "SIIRT_DY\n",
      "KORKEUS\n",
      "ATTR2\n",
      "ATTR3\n",
      "geometry\n"
     ]
    }
   ],
   "source": [
    "for col in data.columns:\n",
    "    print(col)"
   ]
  },
  {
   "cell_type": "markdown",
   "metadata": {},
   "source": [
    "As you might guess, the column names are in Finnish. Let's keep only the relevant columns, and rename them into English:\n",
    "\n",
    "\"RYHMA\" -> \"GROUP\"  \n",
    "\"LUOKKA\" -> \"CLASS\""
   ]
  },
  {
   "cell_type": "code",
   "execution_count": 37,
   "metadata": {},
   "outputs": [],
   "source": [
    "# Keep only relevant columns\n",
    "data = data[['RYHMA', 'LUOKKA', 'geometry']]"
   ]
  },
  {
   "cell_type": "markdown",
   "metadata": {},
   "source": [
    "Define new column names in a dictionary:"
   ]
  },
  {
   "cell_type": "code",
   "execution_count": 38,
   "metadata": {},
   "outputs": [],
   "source": [
    "# Names dict\n",
    "colnames = {'RYHMA': 'GROUP',\n",
    "           'LUOKKA': 'CLASS'}"
   ]
  },
  {
   "cell_type": "markdown",
   "metadata": {},
   "source": [
    "Rename:"
   ]
  },
  {
   "cell_type": "code",
   "execution_count": 39,
   "metadata": {},
   "outputs": [],
   "source": [
    "data = data.rename(columns=colnames)"
   ]
  },
  {
   "cell_type": "markdown",
   "metadata": {},
   "source": [
    "Check the output:"
   ]
  },
  {
   "cell_type": "code",
   "execution_count": 40,
   "metadata": {},
   "outputs": [
    {
     "data": {
      "text/html": [
       "<div>\n",
       "<style scoped>\n",
       "    .dataframe tbody tr th:only-of-type {\n",
       "        vertical-align: middle;\n",
       "    }\n",
       "\n",
       "    .dataframe tbody tr th {\n",
       "        vertical-align: top;\n",
       "    }\n",
       "\n",
       "    .dataframe thead th {\n",
       "        text-align: right;\n",
       "    }\n",
       "</style>\n",
       "<table border=\"1\" class=\"dataframe\">\n",
       "  <thead>\n",
       "    <tr style=\"text-align: right;\">\n",
       "      <th></th>\n",
       "      <th>GROUP</th>\n",
       "      <th>CLASS</th>\n",
       "      <th>geometry</th>\n",
       "    </tr>\n",
       "  </thead>\n",
       "  <tbody>\n",
       "    <tr>\n",
       "      <th>0</th>\n",
       "      <td>64</td>\n",
       "      <td>32421</td>\n",
       "      <td>POLYGON ((379394.248 6689991.936, 379389.790 6...</td>\n",
       "    </tr>\n",
       "    <tr>\n",
       "      <th>1</th>\n",
       "      <td>64</td>\n",
       "      <td>32421</td>\n",
       "      <td>POLYGON ((378980.811 6689359.377, 378983.401 6...</td>\n",
       "    </tr>\n",
       "    <tr>\n",
       "      <th>2</th>\n",
       "      <td>64</td>\n",
       "      <td>32421</td>\n",
       "      <td>POLYGON ((378804.766 6689256.471, 378817.107 6...</td>\n",
       "    </tr>\n",
       "    <tr>\n",
       "      <th>3</th>\n",
       "      <td>64</td>\n",
       "      <td>32421</td>\n",
       "      <td>POLYGON ((379229.695 6685025.111, 379233.366 6...</td>\n",
       "    </tr>\n",
       "    <tr>\n",
       "      <th>4</th>\n",
       "      <td>64</td>\n",
       "      <td>32421</td>\n",
       "      <td>POLYGON ((379825.199 6685096.247, 379829.651 6...</td>\n",
       "    </tr>\n",
       "  </tbody>\n",
       "</table>\n",
       "</div>"
      ],
      "text/plain": [
       "   GROUP  CLASS                                           geometry\n",
       "0     64  32421  POLYGON ((379394.248 6689991.936, 379389.790 6...\n",
       "1     64  32421  POLYGON ((378980.811 6689359.377, 378983.401 6...\n",
       "2     64  32421  POLYGON ((378804.766 6689256.471, 378817.107 6...\n",
       "3     64  32421  POLYGON ((379229.695 6685025.111, 379233.366 6...\n",
       "4     64  32421  POLYGON ((379825.199 6685096.247, 379829.651 6..."
      ]
     },
     "execution_count": 40,
     "metadata": {},
     "output_type": "execute_result"
    }
   ],
   "source": [
    "data.head()"
   ]
  },
  {
   "cell_type": "markdown",
   "metadata": {},
   "source": [
    "It is always a good idea to explore your data also on a map. Creating a simple map from a `GeoDataFrame` is really easy: you can use ``.plot()`` -function from geopandas that **creates a map based on the geometries of the data**. Geopandas actually uses matplotlib for plotting.\n",
    "\n",
    "Let's try it out, and plot our GeoDataFrame:"
   ]
  },
  {
   "cell_type": "code",
   "execution_count": 41,
   "metadata": {
    "jupyter": {
     "outputs_hidden": false
    }
   },
   "outputs": [
    {
     "data": {
      "text/plain": [
       "<AxesSubplot:>"
      ]
     },
     "execution_count": 41,
     "metadata": {},
     "output_type": "execute_result"
    },
    {
     "data": {
      "image/png": "[encoded data removed]",
      "text/plain": [
       "<Figure size 360x360 with 1 Axes>"
      ]
     },
     "metadata": {
      "needs_background": "light"
     },
     "output_type": "display_data"
    }
   ],
   "source": [
    "# Plot data\n",
    "%matplotlib inline\n",
    "\n",
    "data.plot(figsize=(5, 5))\n"
   ]
  },
  {
   "cell_type": "markdown",
   "metadata": {},
   "source": [
    "Voilá! As we can see, it is really easy to produce a map out of your Shapefile with geopandas. Geopandas automatically positions your map in a way that it covers the whole extent of your data.\n",
    "\n",
    "*If you know the Helsinki region, you might recognize the shapes plotted on the map!*"
   ]
  },
  {
   "cell_type": "markdown",
   "metadata": {},
   "source": [
    "## Geometries in Geopandas\n",
    "\n",
    "Geopandas takes advantage of Shapely's geometric objects. Geometries are stored in a column called *geometry* that is a default column name for\n",
    "storing geometric information in geopandas."
   ]
  },
  {
   "cell_type": "markdown",
   "metadata": {},
   "source": [
    "Let's print the first 5 rows of the column 'geometry':"
   ]
  },
  {
   "cell_type": "code",
   "execution_count": 42,
   "metadata": {
    "jupyter": {
     "outputs_hidden": false
    }
   },
   "outputs": [
    {
     "name": "stdout",
     "output_type": "stream",
     "text": [
      "GROUP\n",
      "CLASS\n",
      "geometry\n"
     ]
    }
   ],
   "source": [
    "for row in data:\n",
    "    print(row)"
   ]
  },
  {
   "cell_type": "markdown",
   "metadata": {},
   "source": [
    "As we can see the `geometry` column contains familiar looking values, namely Shapely `Polygon` -objects. Since the spatial data is stored as Shapely objects, **it is possible to use Shapely methods** when dealing with geometries in geopandas.\n",
    "\n",
    "Let's have a closer look at the polygons and try to apply some of the Shapely methods we are already familiar with.\n",
    "\n",
    "Let's start by checking the area of the first polygon in the data:"
   ]
  },
  {
   "cell_type": "code",
   "execution_count": 43,
   "metadata": {},
   "outputs": [],
   "source": [
    "# Access the geometry on the first row of data\n",
    "first_geom = data.at[0, \"geometry\"]\n"
   ]
  },
  {
   "cell_type": "code",
   "execution_count": 48,
   "metadata": {},
   "outputs": [
    {
     "name": "stdout",
     "output_type": "stream",
     "text": [
      "Area: 76.02739200243447 square meters\n"
     ]
    }
   ],
   "source": [
    "# Print information about the area \n",
    "print(\"Area:\", first_geom.area, \"square meters\")"
   ]
  },
  {
   "cell_type": "markdown",
   "metadata": {},
   "source": [
    "\n",
    "Let's do the same for the first five rows in the data; \n",
    "\n",
    "- Iterate over the GeoDataFrame rows using the `iterrows()`. \n",
    "- For each row, print the area of the polygon (here, we'll limit the for-loop to a selection of the first five rows):"
   ]
  },
  {
   "cell_type": "code",
   "execution_count": 47,
   "metadata": {
    "jupyter": {
     "outputs_hidden": false
    }
   },
   "outputs": [
    {
     "name": "stdout",
     "output_type": "stream",
     "text": [
      "0\n"
     ]
    },
    {
     "ename": "TypeError",
     "evalue": "unsupported format string passed to Series.__format__",
     "output_type": "error",
     "traceback": [
      "\u001b[1;31m---------------------------------------------------------------------------\u001b[0m",
      "\u001b[1;31mTypeError\u001b[0m                                 Traceback (most recent call last)",
      "\u001b[1;32m<ipython-input-47-5078778e17b9>\u001b[0m in \u001b[0;36m<module>\u001b[1;34m\u001b[0m\n\u001b[0;32m      6\u001b[0m \u001b[1;33m\u001b[0m\u001b[0m\n\u001b[0;32m      7\u001b[0m     \u001b[1;31m# Print info\u001b[0m\u001b[1;33m\u001b[0m\u001b[1;33m\u001b[0m\u001b[1;33m\u001b[0m\u001b[0m\n\u001b[1;32m----> 8\u001b[1;33m     \u001b[0mprint\u001b[0m\u001b[1;33m(\u001b[0m\u001b[1;34m\"Polygon area at index {index} is: {area:.0f} square meters\"\u001b[0m\u001b[1;33m.\u001b[0m\u001b[0mformat\u001b[0m\u001b[1;33m(\u001b[0m\u001b[0mindex\u001b[0m\u001b[1;33m=\u001b[0m\u001b[0mindex\u001b[0m\u001b[1;33m,\u001b[0m \u001b[0marea\u001b[0m\u001b[1;33m=\u001b[0m\u001b[0mdata\u001b[0m\u001b[1;33m.\u001b[0m\u001b[0marea\u001b[0m\u001b[1;33m)\u001b[0m\u001b[1;33m)\u001b[0m\u001b[1;33m\u001b[0m\u001b[1;33m\u001b[0m\u001b[0m\n\u001b[0m",
      "\u001b[1;31mTypeError\u001b[0m: unsupported format string passed to Series.__format__"
     ]
    }
   ],
   "source": [
    "# Iterate over rows and print the area of a Polygon\n",
    "for row, index in data.iterrows():\n",
    "    print(row)\n",
    "    # Get the area from the shapely-object stored in the geometry-column\n",
    "    \n",
    "    \n",
    "    # Print info\n",
    "    print(\"Polygon area at index {index} is: {area:.0f} square meters\".format(index=index, area=data.area))"
   ]
  },
  {
   "cell_type": "markdown",
   "metadata": {},
   "source": [
    "As you see from here, all **pandas** methods, such as the `iterrows()` function, are directly available in Geopandas without the need to call pandas separately because Geopandas is an **extension** for pandas. \n",
    "\n",
    "In practice, it is not necessary to use the iterrows()-approach to calculate the area for all features. Geodataframes and geoseries have an attribute `area` which we can use for accessing the area for each feature at once: "
   ]
  },
  {
   "cell_type": "code",
   "execution_count": null,
   "metadata": {},
   "outputs": [],
   "source": []
  },
  {
   "cell_type": "markdown",
   "metadata": {},
   "source": [
    "Let's next create a new column into our GeoDataFrame where we calculate and store the areas of individual polygons:"
   ]
  },
  {
   "cell_type": "code",
   "execution_count": null,
   "metadata": {
    "jupyter": {
     "outputs_hidden": false
    }
   },
   "outputs": [],
   "source": [
    "# Create a new column called 'area' \n"
   ]
  },
  {
   "cell_type": "markdown",
   "metadata": {},
   "source": [
    "Check the output:"
   ]
  },
  {
   "cell_type": "code",
   "execution_count": null,
   "metadata": {},
   "outputs": [],
   "source": []
  },
  {
   "cell_type": "markdown",
   "metadata": {},
   "source": [
    "These values correspond to the ones we saw in previous step when iterating rows.\n",
    "\n",
    "Let's check what is the `min`, `max` and `mean` of those areas."
   ]
  },
  {
   "cell_type": "code",
   "execution_count": null,
   "metadata": {},
   "outputs": [],
   "source": [
    "# Maximum area\n",
    "max_area = None"
   ]
  },
  {
   "cell_type": "code",
   "execution_count": null,
   "metadata": {},
   "outputs": [],
   "source": [
    "# Minimum area\n",
    "min_area = None"
   ]
  },
  {
   "cell_type": "code",
   "execution_count": null,
   "metadata": {},
   "outputs": [],
   "source": [
    "# Average area\n",
    "mean_area = None"
   ]
  },
  {
   "cell_type": "code",
   "execution_count": null,
   "metadata": {},
   "outputs": [],
   "source": [
    "print(\"Max area: {maximum} square meters\".format(maximum=round(max_area, 0)))\n",
    "print(\"Min area: {minimum} square meters\".format(minimum=round(min_area, 0)))\n",
    "print(\"Mean area: {mean} square meters\".format(mean=round(mean_area, 0)))"
   ]
  },
  {
   "cell_type": "markdown",
   "metadata": {},
   "source": [
    "## Writing data into a shapefile\n",
    "\n",
    "It is possible to export GeoDataFrames into various data formats using the [to_file()](http://geopandas.org/io.html#writing-spatial-data) method. In our case, we want to export subsets of the data into Shapefiles (one file for each feature class).\n",
    "\n",
    "Let's first select one class (class number `36200`, \"Lake water\") from the data as a new GeoDataFrame:\n"
   ]
  },
  {
   "cell_type": "code",
   "execution_count": null,
   "metadata": {},
   "outputs": [],
   "source": [
    "# Select a class\n",
    "selection = None"
   ]
  },
  {
   "cell_type": "markdown",
   "metadata": {},
   "source": [
    "Visualize the selection:"
   ]
  },
  {
   "cell_type": "code",
   "execution_count": null,
   "metadata": {},
   "outputs": [],
   "source": []
  },
  {
   "cell_type": "markdown",
   "metadata": {},
   "source": [
    "- write this layer into a new Shapefile using the `gpd.to_file()` -function:"
   ]
  },
  {
   "cell_type": "code",
   "execution_count": null,
   "metadata": {},
   "outputs": [],
   "source": [
    "# Create a output path for the data\n",
    "output_folder = None\n",
    "output_fp = None"
   ]
  },
  {
   "cell_type": "code",
   "execution_count": null,
   "metadata": {},
   "outputs": [],
   "source": [
    "# Write those rows into a new file (the default output file format is Shapefile)\n"
   ]
  },
  {
   "cell_type": "markdown",
   "metadata": {},
   "source": [
    "#### Check your understanding"
   ]
  },
  {
   "cell_type": "markdown",
   "metadata": {},
   "source": [
    "<div class=\"alert alert-info\">\n",
    "\n",
    "Read the output Shapefile in a new geodataframe, and check that the data looks ok.\n",
    "</div>"
   ]
  },
  {
   "cell_type": "code",
   "execution_count": null,
   "metadata": {},
   "outputs": [],
   "source": [
    "# Read file\n",
    "temp = None"
   ]
  },
  {
   "cell_type": "code",
   "execution_count": null,
   "metadata": {},
   "outputs": [],
   "source": [
    "# Visualize first rows\n"
   ]
  },
  {
   "cell_type": "code",
   "execution_count": null,
   "metadata": {},
   "outputs": [],
   "source": [
    "# Check number of classes\n"
   ]
  },
  {
   "cell_type": "markdown",
   "metadata": {},
   "source": [
    "## Grouping the Geodataframe\n",
    "\n",
    "One really useful function that can be used in Pandas/Geopandas is [groupby()](http://pandas.pydata.org/pandas-docs/stable/generated/pandas.DataFrame.groupby.html) which groups data based on values on selected column(s).\n",
    "\n",
    "Next we will automate the file export task; we will group the data based on column `CLASS` and export a shapefile for each class.\n",
    "\n",
    "Let's continue with the same input file we already read previously into the variable `data`. We also selected and renamed a subset of the columns.\n",
    "\n",
    "Check again the first rows of our input data:"
   ]
  },
  {
   "cell_type": "code",
   "execution_count": null,
   "metadata": {},
   "outputs": [],
   "source": []
  },
  {
   "cell_type": "markdown",
   "metadata": {},
   "source": [
    "The `CLASS` column in the data contains information about different land use types. With `.unique()` -function we can quickly see all different values in that column:"
   ]
  },
  {
   "cell_type": "code",
   "execution_count": null,
   "metadata": {
    "jupyter": {
     "outputs_hidden": false
    }
   },
   "outputs": [],
   "source": [
    "# Print all unique values in the column\n"
   ]
  },
  {
   "cell_type": "markdown",
   "metadata": {},
   "source": [
    "- Now we can use that information to group our data and save all land use types into different layers:"
   ]
  },
  {
   "cell_type": "code",
   "execution_count": null,
   "metadata": {
    "jupyter": {
     "outputs_hidden": false
    }
   },
   "outputs": [],
   "source": [
    "# Group the data by class\n",
    "grouped = None\n",
    "\n",
    "# Let's see what we have\n",
    "grouped"
   ]
  },
  {
   "cell_type": "markdown",
   "metadata": {},
   "source": [
    "As we can see, `groupby` -function gives us an object called `DataFrameGroupBy` which is similar to list of keys and values (in a dictionary) that we can iterate over.\n",
    "\n",
    "Check group keys:"
   ]
  },
  {
   "cell_type": "code",
   "execution_count": null,
   "metadata": {},
   "outputs": [],
   "source": []
  },
  {
   "cell_type": "markdown",
   "metadata": {},
   "source": [
    "The group keys are unique values from the column by which we grouped the dataframe.\n",
    "\n",
    "Check how many rows of data each group has:"
   ]
  },
  {
   "cell_type": "code",
   "execution_count": null,
   "metadata": {
    "jupyter": {
     "outputs_hidden": false
    }
   },
   "outputs": [],
   "source": [
    "# Iterate over the grouped object\n",
    "\n",
    "    # Let's check how many rows each group has:\n",
    "    "
   ]
  },
  {
   "cell_type": "markdown",
   "metadata": {},
   "source": [
    "There are, for example, 56 lake polygons in the input data."
   ]
  },
  {
   "cell_type": "markdown",
   "metadata": {},
   "source": [
    "We can also check how the _last_ group looks like (we have the variables in memory from the last iteration of the for-loop):"
   ]
  },
  {
   "cell_type": "code",
   "execution_count": null,
   "metadata": {},
   "outputs": [],
   "source": []
  },
  {
   "cell_type": "markdown",
   "metadata": {},
   "source": [
    "Notice that the index numbers refer to the row numbers in the original data -GeoDataFrame."
   ]
  },
  {
   "cell_type": "markdown",
   "metadata": {},
   "source": [
    "Check also the data type of the group:"
   ]
  },
  {
   "cell_type": "code",
   "execution_count": null,
   "metadata": {},
   "outputs": [],
   "source": []
  },
  {
   "cell_type": "markdown",
   "metadata": {},
   "source": [
    "As we can see, each set of data are now grouped into separate GeoDataFrames, and we can save them into separate files."
   ]
  },
  {
   "cell_type": "markdown",
   "metadata": {},
   "source": [
    "### Saving multiple output files\n",
    "\n",
    "Let's **export each class into a separate Shapefile**. While doing this, we also want to **create unique filenames for each class**.\n",
    "\n",
    "When looping over the grouped object, information about the class is stored in the variable `key`, and we can use this information for creating new variable names inside the for-loop. For example, we want to name the shapefile containing lake polygons as \"terrain_36200.shp\".\n",
    "\n",
    "\n",
    "<div class=\"alert alert-info\">\n",
    "\n",
    "**String formatting**\n",
    "    \n",
    "There are different approaches for formatting strings in Python. Here are a couple of different ways for putting together file-path names using two variables:\n",
    "\n",
    "```\n",
    "basename = \"terrain\"\n",
    "key = 36200\n",
    "\n",
    "# OPTION 1. Concatenating using the `+` operator:\n",
    "out_fp = basename + \"_\" + str(key) + \".shp\"\n",
    "\n",
    "# OPTION 2. Positional formatting using `%` operator\n",
    "out_fp = \"%s_%s.shp\" %(basename, key)\n",
    "    \n",
    "# OPTION 3. Positional formatting using `.format()`\n",
    "out_fp = \"{}_{}.shp\".format(basename, key)\n",
    "```\n",
    "    \n",
    "Read more from here: https://pyformat.info/\n",
    "</div>\n",
    "\n",
    "\n",
    "Let's now export terrain classes into separate Shapefiles.\n",
    "\n",
    "- First, create a new folder for the outputs:"
   ]
  },
  {
   "cell_type": "code",
   "execution_count": null,
   "metadata": {},
   "outputs": [],
   "source": [
    "# Determine output directory\n",
    "output_folder = None\n",
    "\n",
    "# Create a new folder called 'Results' \n",
    "result_folder = None"
   ]
  },
  {
   "cell_type": "code",
   "execution_count": null,
   "metadata": {},
   "outputs": [],
   "source": [
    "# Check if the folder exists already\n",
    "if not os.path.exists(result_folder):\n",
    "    \n",
    "    # If it does not exist, create one\n",
    "    print(\"Creating a folder for the results..\")\n",
    "    os.makedirs(result_folder)\n",
    "    \n",
    "else:\n",
    "    print(\"Results folder exists already.\")"
   ]
  },
  {
   "cell_type": "markdown",
   "metadata": {},
   "source": [
    "At this point, you can go to the file browser and check that the new folder was created successfully.\n",
    "\n",
    "- Iterate over groups, create a file name, and save group to file:"
   ]
  },
  {
   "cell_type": "code",
   "execution_count": null,
   "metadata": {
    "jupyter": {
     "outputs_hidden": false
    }
   },
   "outputs": [],
   "source": [
    "# Iterate over the groups\n",
    "for key, group in grouped:\n",
    "    \n",
    "    # Format the filename \n",
    "    output_name = None\n",
    "\n",
    "    # Print information about the process\n",
    "    print(\"Saving file\", os.path.basename(output_name))\n",
    "\n",
    "    # Create an output path\n",
    "    outpath = None\n",
    "\n",
    "    # Export the data\n",
    "    \n"
   ]
  },
  {
   "cell_type": "markdown",
   "metadata": {},
   "source": [
    "Excellent! Now we have saved those individual classes into separate Shapefiles and named the file according to the class name. These kind of grouping operations can be really handy when dealing with layers of spatial data. Doing similar process manually would be really laborious and error-prone."
   ]
  },
  {
   "cell_type": "markdown",
   "metadata": {},
   "source": [
    "### Extra: save data to csv"
   ]
  },
  {
   "cell_type": "markdown",
   "metadata": {},
   "source": [
    "We can also extract basic statistics from our geodataframe, and save this information as a text file. \n",
    "\n",
    "Let's summarize the total area of each group:"
   ]
  },
  {
   "cell_type": "code",
   "execution_count": null,
   "metadata": {},
   "outputs": [],
   "source": [
    "# Calculate area for each group\n",
    "area_info = None"
   ]
  },
  {
   "cell_type": "code",
   "execution_count": null,
   "metadata": {},
   "outputs": [],
   "source": [
    "# Inspect results\n"
   ]
  },
  {
   "cell_type": "markdown",
   "metadata": {},
   "source": [
    "- save area info to csv using pandas:"
   ]
  },
  {
   "cell_type": "code",
   "execution_count": null,
   "metadata": {},
   "outputs": [],
   "source": [
    "# Create an output path\n",
    "area_file_path = None\n",
    "\n",
    "# Save results to csv\n"
   ]
  },
  {
   "cell_type": "markdown",
   "metadata": {},
   "source": [
    "## Summary\n",
    "\n",
    "In this tutorial we introduced the first steps of using geopandas. More specifically you should know how to:\n",
    "\n",
    "1. Read data from Shapefile using geopandas\n",
    "\n",
    "2. Access geometry information in a geodataframe\n",
    "\n",
    "4. Write GeoDataFrame data from Shapefile using geopandas\n",
    "\n",
    "5. Automate a task to save specific rows from data into Shapefile based on specific key using `groupby()` -function\n",
    "\n",
    "6. Extra: saving attribute information to a csv file.\n",
    "\n",
    "\n",
    " "
   ]
  }
 ],
 "metadata": {
  "kernelspec": {
   "display_name": "Python 3",
   "language": "python",
   "name": "python3"
  },
  "language_info": {
   "codemirror_mode": {
    "name": "ipython",
    "version": 3
   },
   "file_extension": ".py",
   "mimetype": "text/x-python",
   "name": "python",
   "nbconvert_exporter": "python",
   "pygments_lexer": "ipython3",
   "version": "3.9.2"
  }
 },
 "nbformat": 4,
 "nbformat_minor": 4
}
