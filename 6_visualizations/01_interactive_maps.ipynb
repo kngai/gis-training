{
 "cells": [
  {
   "cell_type": "markdown",
   "metadata": {},
   "source": [
    "# Interactive maps with Bokeh\n",
    "\n",
    "**Credit**\n",
    "[Vuokko Heikinheimo, Henrikki Tenkanen](https://automating-gis-processes.github.io/2017/lessons/L5/interactive-map-bokeh.html)  \n",
    "Department of Geosciences & Geography, University of Helsinki  \n",
    "\n",
    "Our ultimate goal today is to learn how to produce nice looking interactive maps using Geopandas and Bokeh."
   ]
  },
  {
   "cell_type": "code",
   "execution_count": 1,
   "metadata": {},
   "outputs": [
    {
     "data": {
      "text/html": [
       "\n",
       "    <div class=\"bk-root\">\n",
       "        <a href=\"https://bokeh.org\" target=\"_blank\" class=\"bk-logo bk-logo-small bk-logo-notebook\"></a>\n",
       "        <span id=\"1002\">Loading BokehJS ...</span>\n",
       "    </div>"
      ]
     },
     "metadata": {},
     "output_type": "display_data"
    },
    {
     "data": {
      "application/javascript": [
       "\n",
       "(function(root) {\n",
       "  function now() {\n",
       "    return new Date();\n",
       "  }\n",
       "\n",
       "  var force = true;\n",
       "\n",
       "  if (typeof root._bokeh_onload_callbacks === \"undefined\" || force === true) {\n",
       "    root._bokeh_onload_callbacks = [];\n",
       "    root._bokeh_is_loading = undefined;\n",
       "  }\n",
       "\n",
       "  var JS_MIME_TYPE = 'application/javascript';\n",
       "  var HTML_MIME_TYPE = 'text/html';\n",
       "  var EXEC_MIME_TYPE = 'application/vnd.bokehjs_exec.v0+json';\n",
       "  var CLASS_NAME = 'output_bokeh rendered_html';\n",
       "\n",
       "  /**\n",
       "   * Render data to the DOM node\n",
       "   */\n",
       "  function render(props, node) {\n",
       "    var script = document.createElement(\"script\");\n",
       "    node.appendChild(script);\n",
       "  }\n",
       "\n",
       "  /**\n",
       "   * Handle when an output is cleared or removed\n",
       "   */\n",
       "  function handleClearOutput(event, handle) {\n",
       "    var cell = handle.cell;\n",
       "\n",
       "    var id = cell.output_area._bokeh_element_id;\n",
       "    var server_id = cell.output_area._bokeh_server_id;\n",
       "    // Clean up Bokeh references\n",
       "    if (id != null && id in Bokeh.index) {\n",
       "      Bokeh.index[id].model.document.clear();\n",
       "      delete Bokeh.index[id];\n",
       "    }\n",
       "\n",
       "    if (server_id !== undefined) {\n",
       "      // Clean up Bokeh references\n",
       "      var cmd = \"from bokeh.io.state import curstate; print(curstate().uuid_to_server['\" + server_id + \"'].get_sessions()[0].document.roots[0]._id)\";\n",
       "      cell.notebook.kernel.execute(cmd, {\n",
       "        iopub: {\n",
       "          output: function(msg) {\n",
       "            var id = msg.content.text.trim();\n",
       "            if (id in Bokeh.index) {\n",
       "              Bokeh.index[id].model.document.clear();\n",
       "              delete Bokeh.index[id];\n",
       "            }\n",
       "          }\n",
       "        }\n",
       "      });\n",
       "      // Destroy server and session\n",
       "      var cmd = \"import bokeh.io.notebook as ion; ion.destroy_server('\" + server_id + \"')\";\n",
       "      cell.notebook.kernel.execute(cmd);\n",
       "    }\n",
       "  }\n",
       "\n",
       "  /**\n",
       "   * Handle when a new output is added\n",
       "   */\n",
       "  function handleAddOutput(event, handle) {\n",
       "    var output_area = handle.output_area;\n",
       "    var output = handle.output;\n",
       "\n",
       "    // limit handleAddOutput to display_data with EXEC_MIME_TYPE content only\n",
       "    if ((output.output_type != \"display_data\") || (!Object.prototype.hasOwnProperty.call(output.data, EXEC_MIME_TYPE))) {\n",
       "      return\n",
       "    }\n",
       "\n",
       "    var toinsert = output_area.element.find(\".\" + CLASS_NAME.split(' ')[0]);\n",
       "\n",
       "    if (output.metadata[EXEC_MIME_TYPE][\"id\"] !== undefined) {\n",
       "      toinsert[toinsert.length - 1].firstChild.textContent = output.data[JS_MIME_TYPE];\n",
       "      // store reference to embed id on output_area\n",
       "      output_area._bokeh_element_id = output.metadata[EXEC_MIME_TYPE][\"id\"];\n",
       "    }\n",
       "    if (output.metadata[EXEC_MIME_TYPE][\"server_id\"] !== undefined) {\n",
       "      var bk_div = document.createElement(\"div\");\n",
       "      bk_div.innerHTML = output.data[HTML_MIME_TYPE];\n",
       "      var script_attrs = bk_div.children[0].attributes;\n",
       "      for (var i = 0; i < script_attrs.length; i++) {\n",
       "        toinsert[toinsert.length - 1].firstChild.setAttribute(script_attrs[i].name, script_attrs[i].value);\n",
       "        toinsert[toinsert.length - 1].firstChild.textContent = bk_div.children[0].textContent\n",
       "      }\n",
       "      // store reference to server id on output_area\n",
       "      output_area._bokeh_server_id = output.metadata[EXEC_MIME_TYPE][\"server_id\"];\n",
       "    }\n",
       "  }\n",
       "\n",
       "  function register_renderer(events, OutputArea) {\n",
       "\n",
       "    function append_mime(data, metadata, element) {\n",
       "      // create a DOM node to render to\n",
       "      var toinsert = this.create_output_subarea(\n",
       "        metadata,\n",
       "        CLASS_NAME,\n",
       "        EXEC_MIME_TYPE\n",
       "      );\n",
       "      this.keyboard_manager.register_events(toinsert);\n",
       "      // Render to node\n",
       "      var props = {data: data, metadata: metadata[EXEC_MIME_TYPE]};\n",
       "      render(props, toinsert[toinsert.length - 1]);\n",
       "      element.append(toinsert);\n",
       "      return toinsert\n",
       "    }\n",
       "\n",
       "    /* Handle when an output is cleared or removed */\n",
       "    events.on('clear_output.CodeCell', handleClearOutput);\n",
       "    events.on('delete.Cell', handleClearOutput);\n",
       "\n",
       "    /* Handle when a new output is added */\n",
       "    events.on('output_added.OutputArea', handleAddOutput);\n",
       "\n",
       "    /**\n",
       "     * Register the mime type and append_mime function with output_area\n",
       "     */\n",
       "    OutputArea.prototype.register_mime_type(EXEC_MIME_TYPE, append_mime, {\n",
       "      /* Is output safe? */\n",
       "      safe: true,\n",
       "      /* Index of renderer in `output_area.display_order` */\n",
       "      index: 0\n",
       "    });\n",
       "  }\n",
       "\n",
       "  // register the mime type if in Jupyter Notebook environment and previously unregistered\n",
       "  if (root.Jupyter !== undefined) {\n",
       "    var events = require('base/js/events');\n",
       "    var OutputArea = require('notebook/js/outputarea').OutputArea;\n",
       "\n",
       "    if (OutputArea.prototype.mime_types().indexOf(EXEC_MIME_TYPE) == -1) {\n",
       "      register_renderer(events, OutputArea);\n",
       "    }\n",
       "  }\n",
       "\n",
       "  \n",
       "  if (typeof (root._bokeh_timeout) === \"undefined\" || force === true) {\n",
       "    root._bokeh_timeout = Date.now() + 5000;\n",
       "    root._bokeh_failed_load = false;\n",
       "  }\n",
       "\n",
       "  var NB_LOAD_WARNING = {'data': {'text/html':\n",
       "     \"<div style='background-color: #fdd'>\\n\"+\n",
       "     \"<p>\\n\"+\n",
       "     \"BokehJS does not appear to have successfully loaded. If loading BokehJS from CDN, this \\n\"+\n",
       "     \"may be due to a slow or bad network connection. Possible fixes:\\n\"+\n",
       "     \"</p>\\n\"+\n",
       "     \"<ul>\\n\"+\n",
       "     \"<li>re-rerun `output_notebook()` to attempt to load from CDN again, or</li>\\n\"+\n",
       "     \"<li>use INLINE resources instead, as so:</li>\\n\"+\n",
       "     \"</ul>\\n\"+\n",
       "     \"<code>\\n\"+\n",
       "     \"from bokeh.resources import INLINE\\n\"+\n",
       "     \"output_notebook(resources=INLINE)\\n\"+\n",
       "     \"</code>\\n\"+\n",
       "     \"</div>\"}};\n",
       "\n",
       "  function display_loaded() {\n",
       "    var el = document.getElementById(\"1002\");\n",
       "    if (el != null) {\n",
       "      el.textContent = \"BokehJS is loading...\";\n",
       "    }\n",
       "    if (root.Bokeh !== undefined) {\n",
       "      if (el != null) {\n",
       "        el.textContent = \"BokehJS \" + root.Bokeh.version + \" successfully loaded.\";\n",
       "      }\n",
       "    } else if (Date.now() < root._bokeh_timeout) {\n",
       "      setTimeout(display_loaded, 100)\n",
       "    }\n",
       "  }\n",
       "\n",
       "\n",
       "  function run_callbacks() {\n",
       "    try {\n",
       "      root._bokeh_onload_callbacks.forEach(function(callback) {\n",
       "        if (callback != null)\n",
       "          callback();\n",
       "      });\n",
       "    } finally {\n",
       "      delete root._bokeh_onload_callbacks\n",
       "    }\n",
       "    console.debug(\"Bokeh: all callbacks have finished\");\n",
       "  }\n",
       "\n",
       "  function load_libs(css_urls, js_urls, callback) {\n",
       "    if (css_urls == null) css_urls = [];\n",
       "    if (js_urls == null) js_urls = [];\n",
       "\n",
       "    root._bokeh_onload_callbacks.push(callback);\n",
       "    if (root._bokeh_is_loading > 0) {\n",
       "      console.debug(\"Bokeh: BokehJS is being loaded, scheduling callback at\", now());\n",
       "      return null;\n",
       "    }\n",
       "    if (js_urls == null || js_urls.length === 0) {\n",
       "      run_callbacks();\n",
       "      return null;\n",
       "    }\n",
       "    console.debug(\"Bokeh: BokehJS not loaded, scheduling load and callback at\", now());\n",
       "    root._bokeh_is_loading = css_urls.length + js_urls.length;\n",
       "\n",
       "    function on_load() {\n",
       "      root._bokeh_is_loading--;\n",
       "      if (root._bokeh_is_loading === 0) {\n",
       "        console.debug(\"Bokeh: all BokehJS libraries/stylesheets loaded\");\n",
       "        run_callbacks()\n",
       "      }\n",
       "    }\n",
       "\n",
       "    function on_error(url) {\n",
       "      console.error(\"failed to load \" + url);\n",
       "    }\n",
       "\n",
       "    for (let i = 0; i < css_urls.length; i++) {\n",
       "      const url = css_urls[i];\n",
       "      const element = document.createElement(\"link\");\n",
       "      element.onload = on_load;\n",
       "      element.onerror = on_error.bind(null, url);\n",
       "      element.rel = \"stylesheet\";\n",
       "      element.type = \"text/css\";\n",
       "      element.href = url;\n",
       "      console.debug(\"Bokeh: injecting link tag for BokehJS stylesheet: \", url);\n",
       "      document.body.appendChild(element);\n",
       "    }\n",
       "\n",
       "    const hashes = {\"https://cdn.bokeh.org/bokeh/release/bokeh-2.3.0.min.js\": \"HjagQp6T0/7bxYTAXbLotF1MLAGWmhkY5siA1Gc/pcEgvgRPtMsRn0gQtMwGKiw1\", \"https://cdn.bokeh.org/bokeh/release/bokeh-widgets-2.3.0.min.js\": \"ZEPPTjL+mdyqgIq+/pl9KTwzji8Kow2NnI3zWY8+sFinWP/SYJ80BnfeJsa45iYj\", \"https://cdn.bokeh.org/bokeh/release/bokeh-tables-2.3.0.min.js\": \"exLqv2ACDRIaV7ZK1iL8aGzGYQvKVuT3U2CT7FsQREBxRah6JrkVCoFy0koY1YqV\"};\n",
       "\n",
       "    for (let i = 0; i < js_urls.length; i++) {\n",
       "      const url = js_urls[i];\n",
       "      const element = document.createElement('script');\n",
       "      element.onload = on_load;\n",
       "      element.onerror = on_error.bind(null, url);\n",
       "      element.async = false;\n",
       "      element.src = url;\n",
       "      if (url in hashes) {\n",
       "        element.crossOrigin = \"anonymous\";\n",
       "        element.integrity = \"sha384-\" + hashes[url];\n",
       "      }\n",
       "      console.debug(\"Bokeh: injecting script tag for BokehJS library: \", url);\n",
       "      document.head.appendChild(element);\n",
       "    }\n",
       "  };\n",
       "\n",
       "  function inject_raw_css(css) {\n",
       "    const element = document.createElement(\"style\");\n",
       "    element.appendChild(document.createTextNode(css));\n",
       "    document.body.appendChild(element);\n",
       "  }\n",
       "\n",
       "  \n",
       "  var js_urls = [\"https://cdn.bokeh.org/bokeh/release/bokeh-2.3.0.min.js\", \"https://cdn.bokeh.org/bokeh/release/bokeh-widgets-2.3.0.min.js\", \"https://cdn.bokeh.org/bokeh/release/bokeh-tables-2.3.0.min.js\"];\n",
       "  var css_urls = [];\n",
       "  \n",
       "\n",
       "  var inline_js = [\n",
       "    function(Bokeh) {\n",
       "      Bokeh.set_log_level(\"info\");\n",
       "    },\n",
       "    function(Bokeh) {\n",
       "    \n",
       "    \n",
       "    }\n",
       "  ];\n",
       "\n",
       "  function run_inline_js() {\n",
       "    \n",
       "    if (root.Bokeh !== undefined || force === true) {\n",
       "      \n",
       "    for (var i = 0; i < inline_js.length; i++) {\n",
       "      inline_js[i].call(root, root.Bokeh);\n",
       "    }\n",
       "    if (force === true) {\n",
       "        display_loaded();\n",
       "      }} else if (Date.now() < root._bokeh_timeout) {\n",
       "      setTimeout(run_inline_js, 100);\n",
       "    } else if (!root._bokeh_failed_load) {\n",
       "      console.log(\"Bokeh: BokehJS failed to load within specified timeout.\");\n",
       "      root._bokeh_failed_load = true;\n",
       "    } else if (force !== true) {\n",
       "      var cell = $(document.getElementById(\"1002\")).parents('.cell').data().cell;\n",
       "      cell.output_area.append_execute_result(NB_LOAD_WARNING)\n",
       "    }\n",
       "\n",
       "  }\n",
       "\n",
       "  if (root._bokeh_is_loading === 0) {\n",
       "    console.debug(\"Bokeh: BokehJS loaded, going straight to plotting\");\n",
       "    run_inline_js();\n",
       "  } else {\n",
       "    load_libs(css_urls, js_urls, function() {\n",
       "      console.debug(\"Bokeh: BokehJS plotting callback run at\", now());\n",
       "      run_inline_js();\n",
       "    });\n",
       "  }\n",
       "}(window));"
      ],
      "application/vnd.bokehjs_load.v0+json": "\n(function(root) {\n  function now() {\n    return new Date();\n  }\n\n  var force = true;\n\n  if (typeof root._bokeh_onload_callbacks === \"undefined\" || force === true) {\n    root._bokeh_onload_callbacks = [];\n    root._bokeh_is_loading = undefined;\n  }\n\n  \n\n  \n  if (typeof (root._bokeh_timeout) === \"undefined\" || force === true) {\n    root._bokeh_timeout = Date.now() + 5000;\n    root._bokeh_failed_load = false;\n  }\n\n  var NB_LOAD_WARNING = {'data': {'text/html':\n     \"<div style='background-color: #fdd'>\\n\"+\n     \"<p>\\n\"+\n     \"BokehJS does not appear to have successfully loaded. If loading BokehJS from CDN, this \\n\"+\n     \"may be due to a slow or bad network connection. Possible fixes:\\n\"+\n     \"</p>\\n\"+\n     \"<ul>\\n\"+\n     \"<li>re-rerun `output_notebook()` to attempt to load from CDN again, or</li>\\n\"+\n     \"<li>use INLINE resources instead, as so:</li>\\n\"+\n     \"</ul>\\n\"+\n     \"<code>\\n\"+\n     \"from bokeh.resources import INLINE\\n\"+\n     \"output_notebook(resources=INLINE)\\n\"+\n     \"</code>\\n\"+\n     \"</div>\"}};\n\n  function display_loaded() {\n    var el = document.getElementById(\"1002\");\n    if (el != null) {\n      el.textContent = \"BokehJS is loading...\";\n    }\n    if (root.Bokeh !== undefined) {\n      if (el != null) {\n        el.textContent = \"BokehJS \" + root.Bokeh.version + \" successfully loaded.\";\n      }\n    } else if (Date.now() < root._bokeh_timeout) {\n      setTimeout(display_loaded, 100)\n    }\n  }\n\n\n  function run_callbacks() {\n    try {\n      root._bokeh_onload_callbacks.forEach(function(callback) {\n        if (callback != null)\n          callback();\n      });\n    } finally {\n      delete root._bokeh_onload_callbacks\n    }\n    console.debug(\"Bokeh: all callbacks have finished\");\n  }\n\n  function load_libs(css_urls, js_urls, callback) {\n    if (css_urls == null) css_urls = [];\n    if (js_urls == null) js_urls = [];\n\n    root._bokeh_onload_callbacks.push(callback);\n    if (root._bokeh_is_loading > 0) {\n      console.debug(\"Bokeh: BokehJS is being loaded, scheduling callback at\", now());\n      return null;\n    }\n    if (js_urls == null || js_urls.length === 0) {\n      run_callbacks();\n      return null;\n    }\n    console.debug(\"Bokeh: BokehJS not loaded, scheduling load and callback at\", now());\n    root._bokeh_is_loading = css_urls.length + js_urls.length;\n\n    function on_load() {\n      root._bokeh_is_loading--;\n      if (root._bokeh_is_loading === 0) {\n        console.debug(\"Bokeh: all BokehJS libraries/stylesheets loaded\");\n        run_callbacks()\n      }\n    }\n\n    function on_error(url) {\n      console.error(\"failed to load \" + url);\n    }\n\n    for (let i = 0; i < css_urls.length; i++) {\n      const url = css_urls[i];\n      const element = document.createElement(\"link\");\n      element.onload = on_load;\n      element.onerror = on_error.bind(null, url);\n      element.rel = \"stylesheet\";\n      element.type = \"text/css\";\n      element.href = url;\n      console.debug(\"Bokeh: injecting link tag for BokehJS stylesheet: \", url);\n      document.body.appendChild(element);\n    }\n\n    const hashes = {\"https://cdn.bokeh.org/bokeh/release/bokeh-2.3.0.min.js\": \"HjagQp6T0/7bxYTAXbLotF1MLAGWmhkY5siA1Gc/pcEgvgRPtMsRn0gQtMwGKiw1\", \"https://cdn.bokeh.org/bokeh/release/bokeh-widgets-2.3.0.min.js\": \"ZEPPTjL+mdyqgIq+/pl9KTwzji8Kow2NnI3zWY8+sFinWP/SYJ80BnfeJsa45iYj\", \"https://cdn.bokeh.org/bokeh/release/bokeh-tables-2.3.0.min.js\": \"exLqv2ACDRIaV7ZK1iL8aGzGYQvKVuT3U2CT7FsQREBxRah6JrkVCoFy0koY1YqV\"};\n\n    for (let i = 0; i < js_urls.length; i++) {\n      const url = js_urls[i];\n      const element = document.createElement('script');\n      element.onload = on_load;\n      element.onerror = on_error.bind(null, url);\n      element.async = false;\n      element.src = url;\n      if (url in hashes) {\n        element.crossOrigin = \"anonymous\";\n        element.integrity = \"sha384-\" + hashes[url];\n      }\n      console.debug(\"Bokeh: injecting script tag for BokehJS library: \", url);\n      document.head.appendChild(element);\n    }\n  };\n\n  function inject_raw_css(css) {\n    const element = document.createElement(\"style\");\n    element.appendChild(document.createTextNode(css));\n    document.body.appendChild(element);\n  }\n\n  \n  var js_urls = [\"https://cdn.bokeh.org/bokeh/release/bokeh-2.3.0.min.js\", \"https://cdn.bokeh.org/bokeh/release/bokeh-widgets-2.3.0.min.js\", \"https://cdn.bokeh.org/bokeh/release/bokeh-tables-2.3.0.min.js\"];\n  var css_urls = [];\n  \n\n  var inline_js = [\n    function(Bokeh) {\n      Bokeh.set_log_level(\"info\");\n    },\n    function(Bokeh) {\n    \n    \n    }\n  ];\n\n  function run_inline_js() {\n    \n    if (root.Bokeh !== undefined || force === true) {\n      \n    for (var i = 0; i < inline_js.length; i++) {\n      inline_js[i].call(root, root.Bokeh);\n    }\n    if (force === true) {\n        display_loaded();\n      }} else if (Date.now() < root._bokeh_timeout) {\n      setTimeout(run_inline_js, 100);\n    } else if (!root._bokeh_failed_load) {\n      console.log(\"Bokeh: BokehJS failed to load within specified timeout.\");\n      root._bokeh_failed_load = true;\n    } else if (force !== true) {\n      var cell = $(document.getElementById(\"1002\")).parents('.cell').data().cell;\n      cell.output_area.append_execute_result(NB_LOAD_WARNING)\n    }\n\n  }\n\n  if (root._bokeh_is_loading === 0) {\n    console.debug(\"Bokeh: BokehJS loaded, going straight to plotting\");\n    run_inline_js();\n  } else {\n    load_libs(css_urls, js_urls, function() {\n      console.debug(\"Bokeh: BokehJS plotting callback run at\", now());\n      run_inline_js();\n    });\n  }\n}(window));"
     },
     "metadata": {},
     "output_type": "display_data"
    }
   ],
   "source": [
    "import os\n",
    "\n",
    "import bokeh.io\n",
    "import geopandas as gpd\n",
    "import mapclassify\n",
    "\n",
    "from bokeh.plotting import figure, save, show\n",
    "from bokeh.models import ColumnDataSource, HoverTool, LinearColorMapper\n",
    "\n",
    "bokeh.io.output_notebook()"
   ]
  },
  {
   "cell_type": "markdown",
   "metadata": {},
   "source": [
    "## Simple interactive point plot\n",
    "\n",
    "First, we learn the basic logic of plotting in Bokeh by making a simple interactive plot with few points.\n",
    "\n",
    "First we need to initialize our plot by calling the `figure` object."
   ]
  },
  {
   "cell_type": "markdown",
   "metadata": {},
   "source": [
    "In Bokeh drawing points, lines or polygons are always done using list(s) of x and y coordinates. \n",
    "\n",
    "Let's create those"
   ]
  },
  {
   "cell_type": "code",
   "execution_count": 2,
   "metadata": {},
   "outputs": [],
   "source": [
    "# Create a list of x-coordinates\n",
    "x_coords = [0,1,2,3,4]\n",
    "\n",
    "# Create a list of y-coordinates\n",
    "y_coords = [5,4,3,2,1]"
   ]
  },
  {
   "cell_type": "markdown",
   "metadata": {},
   "source": [
    "Now we can plot those as points using a `.circle()` -object. Let’s give it a red color and size of 10."
   ]
  },
  {
   "cell_type": "code",
   "execution_count": 6,
   "metadata": {},
   "outputs": [
    {
     "data": {
      "text/html": [
       "\n",
       "\n",
       "\n",
       "\n",
       "\n",
       "\n",
       "  <div class=\"bk-root\" id=\"f559f68d-2934-4fcb-b9f0-0b41ee5f3891\" data-root-id=\"1069\"></div>\n"
      ]
     },
     "metadata": {},
     "output_type": "display_data"
    },
    {
     "data": {
      "application/javascript": [
       "(function(root) {\n",
       "  function embed_document(root) {\n",
       "    \n",
       "  var docs_json = {\"89277097-7859-4795-ad48-b053b7a0ad32\":{\"defs\":[{\"extends\":null,\"module\":null,\"name\":\"DataModel\",\"overrides\":[],\"properties\":[]}],\"roots\":{\"references\":[{\"attributes\":{\"below\":[{\"id\":\"1080\"}],\"center\":[{\"id\":\"1083\"},{\"id\":\"1087\"}],\"left\":[{\"id\":\"1084\"}],\"renderers\":[{\"id\":\"1105\"}],\"title\":{\"id\":\"1070\"},\"toolbar\":{\"id\":\"1095\"},\"x_range\":{\"id\":\"1072\"},\"x_scale\":{\"id\":\"1076\"},\"y_range\":{\"id\":\"1074\"},\"y_scale\":{\"id\":\"1078\"}},\"id\":\"1069\",\"subtype\":\"Figure\",\"type\":\"Plot\"},{\"attributes\":{},\"id\":\"1093\",\"type\":\"HelpTool\"},{\"attributes\":{\"axis\":{\"id\":\"1084\"},\"dimension\":1,\"ticker\":null},\"id\":\"1087\",\"type\":\"Grid\"},{\"attributes\":{},\"id\":\"1089\",\"type\":\"WheelZoomTool\"},{\"attributes\":{},\"id\":\"1088\",\"type\":\"PanTool\"},{\"attributes\":{\"overlay\":{\"id\":\"1094\"}},\"id\":\"1090\",\"type\":\"BoxZoomTool\"},{\"attributes\":{},\"id\":\"1091\",\"type\":\"SaveTool\"},{\"attributes\":{},\"id\":\"1092\",\"type\":\"ResetTool\"},{\"attributes\":{},\"id\":\"1081\",\"type\":\"BasicTicker\"},{\"attributes\":{},\"id\":\"1110\",\"type\":\"AllLabels\"},{\"attributes\":{},\"id\":\"1074\",\"type\":\"DataRange1d\"},{\"attributes\":{\"bottom_units\":\"screen\",\"fill_alpha\":0.5,\"fill_color\":\"lightgrey\",\"left_units\":\"screen\",\"level\":\"overlay\",\"line_alpha\":1.0,\"line_color\":\"black\",\"line_dash\":[4,4],\"line_width\":2,\"right_units\":\"screen\",\"syncable\":false,\"top_units\":\"screen\"},\"id\":\"1094\",\"type\":\"BoxAnnotation\"},{\"attributes\":{},\"id\":\"1108\",\"type\":\"BasicTickFormatter\"},{\"attributes\":{},\"id\":\"1085\",\"type\":\"BasicTicker\"},{\"attributes\":{},\"id\":\"1111\",\"type\":\"BasicTickFormatter\"},{\"attributes\":{\"formatter\":{\"id\":\"1108\"},\"major_label_policy\":{\"id\":\"1110\"},\"ticker\":{\"id\":\"1085\"}},\"id\":\"1084\",\"type\":\"LinearAxis\"},{\"attributes\":{},\"id\":\"1078\",\"type\":\"LinearScale\"},{\"attributes\":{},\"id\":\"1113\",\"type\":\"AllLabels\"},{\"attributes\":{},\"id\":\"1072\",\"type\":\"DataRange1d\"},{\"attributes\":{\"formatter\":{\"id\":\"1111\"},\"major_label_policy\":{\"id\":\"1113\"},\"ticker\":{\"id\":\"1081\"}},\"id\":\"1080\",\"type\":\"LinearAxis\"},{\"attributes\":{},\"id\":\"1076\",\"type\":\"LinearScale\"},{\"attributes\":{\"data_source\":{\"id\":\"1102\"},\"glyph\":{\"id\":\"1103\"},\"hover_glyph\":null,\"muted_glyph\":null,\"nonselection_glyph\":{\"id\":\"1104\"},\"view\":{\"id\":\"1106\"}},\"id\":\"1105\",\"type\":\"GlyphRenderer\"},{\"attributes\":{\"fill_alpha\":{\"value\":0.1},\"fill_color\":{\"value\":\"red\"},\"line_alpha\":{\"value\":0.1},\"line_color\":{\"value\":\"red\"},\"size\":{\"value\":10},\"x\":{\"field\":\"x\"},\"y\":{\"field\":\"y\"}},\"id\":\"1104\",\"type\":\"Circle\"},{\"attributes\":{\"fill_color\":{\"value\":\"red\"},\"line_color\":{\"value\":\"red\"},\"size\":{\"value\":10},\"x\":{\"field\":\"x\"},\"y\":{\"field\":\"y\"}},\"id\":\"1103\",\"type\":\"Circle\"},{\"attributes\":{\"data\":{\"x\":[0,1,2,3,4],\"y\":[5,4,3,2,1]},\"selected\":{\"id\":\"1115\"},\"selection_policy\":{\"id\":\"1114\"}},\"id\":\"1102\",\"type\":\"ColumnDataSource\"},{\"attributes\":{},\"id\":\"1114\",\"type\":\"UnionRenderers\"},{\"attributes\":{\"source\":{\"id\":\"1102\"}},\"id\":\"1106\",\"type\":\"CDSView\"},{\"attributes\":{\"axis\":{\"id\":\"1080\"},\"ticker\":null},\"id\":\"1083\",\"type\":\"Grid\"},{\"attributes\":{\"active_multi\":null,\"tools\":[{\"id\":\"1088\"},{\"id\":\"1089\"},{\"id\":\"1090\"},{\"id\":\"1091\"},{\"id\":\"1092\"},{\"id\":\"1093\"}]},\"id\":\"1095\",\"type\":\"Toolbar\"},{\"attributes\":{\"text\":\"My awesome plot\"},\"id\":\"1070\",\"type\":\"Title\"},{\"attributes\":{},\"id\":\"1115\",\"type\":\"Selection\"}],\"root_ids\":[\"1069\"]},\"title\":\"Bokeh Application\",\"version\":\"2.3.0\"}};\n",
       "  var render_items = [{\"docid\":\"89277097-7859-4795-ad48-b053b7a0ad32\",\"root_ids\":[\"1069\"],\"roots\":{\"1069\":\"f559f68d-2934-4fcb-b9f0-0b41ee5f3891\"}}];\n",
       "  root.Bokeh.embed.embed_items_notebook(docs_json, render_items);\n",
       "\n",
       "  }\n",
       "  if (root.Bokeh !== undefined) {\n",
       "    embed_document(root);\n",
       "  } else {\n",
       "    var attempts = 0;\n",
       "    var timer = setInterval(function(root) {\n",
       "      if (root.Bokeh !== undefined) {\n",
       "        clearInterval(timer);\n",
       "        embed_document(root);\n",
       "      } else {\n",
       "        attempts++;\n",
       "        if (attempts > 100) {\n",
       "          clearInterval(timer);\n",
       "          console.log(\"Bokeh: ERROR: Unable to run BokehJS code because BokehJS library is missing\");\n",
       "        }\n",
       "      }\n",
       "    }, 10, root)\n",
       "  }\n",
       "})(window);"
      ],
      "application/vnd.bokehjs_exec.v0+json": ""
     },
     "metadata": {
      "application/vnd.bokehjs_exec.v0+json": {
       "id": "1069"
      }
     },
     "output_type": "display_data"
    }
   ],
   "source": [
    "# Initialize the plot (p) and give it a title\n",
    "p=figure(title='My awesome plot')\n",
    "\n",
    "# Plot it\n",
    "p.circle(x=x_coords, y=y_coords, size=10, color='red')\n",
    "\n",
    "# Show it\n",
    "show(p)"
   ]
  },
  {
   "cell_type": "markdown",
   "metadata": {},
   "source": [
    "Finally, we can save our interactive plot into the disk with `save` -function that we imported in the beginning. All interactive plots are typically saved as `html` files which you can open in a web-browser."
   ]
  },
  {
   "cell_type": "code",
   "execution_count": 25,
   "metadata": {},
   "outputs": [
    {
     "data": {
      "text/plain": [
       "'C:\\\\Users\\\\ngaik\\\\Documents\\\\gis-training\\\\6_visualizations\\\\points.html'"
      ]
     },
     "execution_count": 25,
     "metadata": {},
     "output_type": "execute_result"
    }
   ],
   "source": [
    "# Give output filepath\n",
    "outfp = 'points.html'\n",
    "\n",
    "# Save the plot by passing the plot -object and output path\n",
    "bokeh.io.output_file(filename=outfp, title='Points')\n",
    "save(p, filename=outfp)"
   ]
  },
  {
   "cell_type": "markdown",
   "metadata": {},
   "source": [
    "Let's go to the points.html file. That's how it should look like:\n",
    "\n",
    "![sample plot](img/bokeh_plot.png)"
   ]
  },
  {
   "cell_type": "markdown",
   "metadata": {},
   "source": [
    "## Creating interactive maps using Bokeh and Geopandas\n",
    "Now we now khow how to make a really simple interactive point plot using Bokeh. What about creating such a map from a Shapefile of points? Of course we can do that, and we can use Geopandas for achieving that goal which is nice!\n",
    "\n",
    "Creating an interactive Bokeh map from Shapefile(s) contains typically following steps:\n",
    "\n",
    "1. **Read the Shapefile** into GeoDataFrame\n",
    "2. **Calculate the x and y coordinates** of the geometries into separate columns\n",
    "3. Convert the GeoDataFrame into a **Bokeh DataSource**\n",
    "4. **Plot** the x and y coordinates as points, lines or polygons (which are in Bokeh words: circle, multi_line and patches)\n",
    "\n",
    "Let’s practice these things and see how we can first create an interactive point map, then a map with lines, and finally a map with polygons where we also add those points and lines into our final map."
   ]
  },
  {
   "cell_type": "markdown",
   "metadata": {},
   "source": [
    "## Point map\n",
    "\n",
    "Let’s first make a map out of the addresses that we geocoded in Module 3. \n",
    "\n",
    "Read the data using geopandas which is the first step."
   ]
  },
  {
   "cell_type": "code",
   "execution_count": 10,
   "metadata": {},
   "outputs": [],
   "source": [
    "fp = [\"..\", \"data\", \"Addresses\", \"addresses.shp\"]\n",
    "points = gpd.read_file(os.path.join(*fp))"
   ]
  },
  {
   "cell_type": "markdown",
   "metadata": {},
   "source": [
    "\n",
    "Let's see what we have"
   ]
  },
  {
   "cell_type": "code",
   "execution_count": 11,
   "metadata": {},
   "outputs": [
    {
     "data": {
      "text/html": [
       "<div>\n",
       "<style scoped>\n",
       "    .dataframe tbody tr th:only-of-type {\n",
       "        vertical-align: middle;\n",
       "    }\n",
       "\n",
       "    .dataframe tbody tr th {\n",
       "        vertical-align: top;\n",
       "    }\n",
       "\n",
       "    .dataframe thead th {\n",
       "        text-align: right;\n",
       "    }\n",
       "</style>\n",
       "<table border=\"1\" class=\"dataframe\">\n",
       "  <thead>\n",
       "    <tr style=\"text-align: right;\">\n",
       "      <th></th>\n",
       "      <th>address</th>\n",
       "      <th>id</th>\n",
       "      <th>addr</th>\n",
       "      <th>geometry</th>\n",
       "    </tr>\n",
       "  </thead>\n",
       "  <tbody>\n",
       "    <tr>\n",
       "      <th>0</th>\n",
       "      <td>Ruoholahti, 14, Itämerenkatu, Ruoholahti, Läns...</td>\n",
       "      <td>1000</td>\n",
       "      <td>Itämerenkatu 14, 00101 Helsinki, Finland</td>\n",
       "      <td>POINT (24.91556 60.16320)</td>\n",
       "    </tr>\n",
       "    <tr>\n",
       "      <th>1</th>\n",
       "      <td>Kamppi, 1, Kampinkuja, Kamppi, Eteläinen suurp...</td>\n",
       "      <td>1001</td>\n",
       "      <td>Kampinkuja 1, 00100 Helsinki, Finland</td>\n",
       "      <td>POINT (24.93169 60.16902)</td>\n",
       "    </tr>\n",
       "    <tr>\n",
       "      <th>2</th>\n",
       "      <td>Kauppakeskus Citycenter, 8, Kaivokatu, Keskust...</td>\n",
       "      <td>1002</td>\n",
       "      <td>Kaivokatu 8, 00101 Helsinki, Finland</td>\n",
       "      <td>POINT (24.94179 60.16989)</td>\n",
       "    </tr>\n",
       "    <tr>\n",
       "      <th>3</th>\n",
       "      <td>Hermannin rantatie, Hermanninmäki, Hermanni, K...</td>\n",
       "      <td>1003</td>\n",
       "      <td>Hermannin rantatie 1, 00580 Helsinki, Finland</td>\n",
       "      <td>POINT (24.97759 60.19361)</td>\n",
       "    </tr>\n",
       "    <tr>\n",
       "      <th>4</th>\n",
       "      <td>Hesburger, 9, Tyynenmerenkatu, Jätkäsaari, Län...</td>\n",
       "      <td>1005</td>\n",
       "      <td>Tyynenmerenkatu 9, 00220 Helsinki, Finland</td>\n",
       "      <td>POINT (24.92160 60.15665)</td>\n",
       "    </tr>\n",
       "  </tbody>\n",
       "</table>\n",
       "</div>"
      ],
      "text/plain": [
       "                                             address    id  \\\n",
       "0  Ruoholahti, 14, Itämerenkatu, Ruoholahti, Läns...  1000   \n",
       "1  Kamppi, 1, Kampinkuja, Kamppi, Eteläinen suurp...  1001   \n",
       "2  Kauppakeskus Citycenter, 8, Kaivokatu, Keskust...  1002   \n",
       "3  Hermannin rantatie, Hermanninmäki, Hermanni, K...  1003   \n",
       "4  Hesburger, 9, Tyynenmerenkatu, Jätkäsaari, Län...  1005   \n",
       "\n",
       "                                            addr                   geometry  \n",
       "0       Itämerenkatu 14, 00101 Helsinki, Finland  POINT (24.91556 60.16320)  \n",
       "1          Kampinkuja 1, 00100 Helsinki, Finland  POINT (24.93169 60.16902)  \n",
       "2           Kaivokatu 8, 00101 Helsinki, Finland  POINT (24.94179 60.16989)  \n",
       "3  Hermannin rantatie 1, 00580 Helsinki, Finland  POINT (24.97759 60.19361)  \n",
       "4     Tyynenmerenkatu 9, 00220 Helsinki, Finland  POINT (24.92160 60.15665)  "
      ]
     },
     "execution_count": 11,
     "metadata": {},
     "output_type": "execute_result"
    }
   ],
   "source": [
    "points.head()"
   ]
  },
  {
   "cell_type": "markdown",
   "metadata": {},
   "source": [
    "Okey, so we have the address and id columns plus the geometry column as attributes.\n",
    "\n",
    "Now, as a second step, we need to **calculate the x and y coordinates of those points**. Unfortunately there is not a ready made function in geopandas to do that.\n",
    "\n",
    "Thus, let’s create our own function called `getPointCoords()` which will return the x or y coordinate of a given geometry. It shall have two parameters: `geom` and `coord_type` where the first one should be a Shapely geometry object and coord_type should be either `'x'` or `'y'`."
   ]
  },
  {
   "cell_type": "code",
   "execution_count": 20,
   "metadata": {},
   "outputs": [],
   "source": [
    "def getPointCoords(row, geom, coord_type):\n",
    "    \"\"\"Calculates coordinates ('x' or 'y') of a Point geometry\"\"\"\n",
    "    \n",
    "    if coord_type == 'x':\n",
    "        return row[geom].x\n",
    "    elif coord_type == 'y':\n",
    "        return row[geom].y\n"
   ]
  },
  {
   "cell_type": "markdown",
   "metadata": {},
   "source": [
    "Let’s then use our function in a similar manner as we did before when classifying data using `.apply()` function."
   ]
  },
  {
   "cell_type": "code",
   "execution_count": 21,
   "metadata": {},
   "outputs": [
    {
     "data": {
      "text/html": [
       "<div>\n",
       "<style scoped>\n",
       "    .dataframe tbody tr th:only-of-type {\n",
       "        vertical-align: middle;\n",
       "    }\n",
       "\n",
       "    .dataframe tbody tr th {\n",
       "        vertical-align: top;\n",
       "    }\n",
       "\n",
       "    .dataframe thead th {\n",
       "        text-align: right;\n",
       "    }\n",
       "</style>\n",
       "<table border=\"1\" class=\"dataframe\">\n",
       "  <thead>\n",
       "    <tr style=\"text-align: right;\">\n",
       "      <th></th>\n",
       "      <th>address</th>\n",
       "      <th>id</th>\n",
       "      <th>addr</th>\n",
       "      <th>geometry</th>\n",
       "      <th>x</th>\n",
       "      <th>y</th>\n",
       "    </tr>\n",
       "  </thead>\n",
       "  <tbody>\n",
       "    <tr>\n",
       "      <th>0</th>\n",
       "      <td>Ruoholahti, 14, Itämerenkatu, Ruoholahti, Läns...</td>\n",
       "      <td>1000</td>\n",
       "      <td>Itämerenkatu 14, 00101 Helsinki, Finland</td>\n",
       "      <td>POINT (24.91556 60.16320)</td>\n",
       "      <td>24.915562</td>\n",
       "      <td>60.163201</td>\n",
       "    </tr>\n",
       "    <tr>\n",
       "      <th>1</th>\n",
       "      <td>Kamppi, 1, Kampinkuja, Kamppi, Eteläinen suurp...</td>\n",
       "      <td>1001</td>\n",
       "      <td>Kampinkuja 1, 00100 Helsinki, Finland</td>\n",
       "      <td>POINT (24.93169 60.16902)</td>\n",
       "      <td>24.931691</td>\n",
       "      <td>60.169022</td>\n",
       "    </tr>\n",
       "    <tr>\n",
       "      <th>2</th>\n",
       "      <td>Kauppakeskus Citycenter, 8, Kaivokatu, Keskust...</td>\n",
       "      <td>1002</td>\n",
       "      <td>Kaivokatu 8, 00101 Helsinki, Finland</td>\n",
       "      <td>POINT (24.94179 60.16989)</td>\n",
       "      <td>24.941791</td>\n",
       "      <td>60.169887</td>\n",
       "    </tr>\n",
       "    <tr>\n",
       "      <th>3</th>\n",
       "      <td>Hermannin rantatie, Hermanninmäki, Hermanni, K...</td>\n",
       "      <td>1003</td>\n",
       "      <td>Hermannin rantatie 1, 00580 Helsinki, Finland</td>\n",
       "      <td>POINT (24.97759 60.19361)</td>\n",
       "      <td>24.977590</td>\n",
       "      <td>60.193610</td>\n",
       "    </tr>\n",
       "    <tr>\n",
       "      <th>4</th>\n",
       "      <td>Hesburger, 9, Tyynenmerenkatu, Jätkäsaari, Län...</td>\n",
       "      <td>1005</td>\n",
       "      <td>Tyynenmerenkatu 9, 00220 Helsinki, Finland</td>\n",
       "      <td>POINT (24.92160 60.15665)</td>\n",
       "      <td>24.921600</td>\n",
       "      <td>60.156647</td>\n",
       "    </tr>\n",
       "  </tbody>\n",
       "</table>\n",
       "</div>"
      ],
      "text/plain": [
       "                                             address    id  \\\n",
       "0  Ruoholahti, 14, Itämerenkatu, Ruoholahti, Läns...  1000   \n",
       "1  Kamppi, 1, Kampinkuja, Kamppi, Eteläinen suurp...  1001   \n",
       "2  Kauppakeskus Citycenter, 8, Kaivokatu, Keskust...  1002   \n",
       "3  Hermannin rantatie, Hermanninmäki, Hermanni, K...  1003   \n",
       "4  Hesburger, 9, Tyynenmerenkatu, Jätkäsaari, Län...  1005   \n",
       "\n",
       "                                            addr                   geometry  \\\n",
       "0       Itämerenkatu 14, 00101 Helsinki, Finland  POINT (24.91556 60.16320)   \n",
       "1          Kampinkuja 1, 00100 Helsinki, Finland  POINT (24.93169 60.16902)   \n",
       "2           Kaivokatu 8, 00101 Helsinki, Finland  POINT (24.94179 60.16989)   \n",
       "3  Hermannin rantatie 1, 00580 Helsinki, Finland  POINT (24.97759 60.19361)   \n",
       "4     Tyynenmerenkatu 9, 00220 Helsinki, Finland  POINT (24.92160 60.15665)   \n",
       "\n",
       "           x          y  \n",
       "0  24.915562  60.163201  \n",
       "1  24.931691  60.169022  \n",
       "2  24.941791  60.169887  \n",
       "3  24.977590  60.193610  \n",
       "4  24.921600  60.156647  "
      ]
     },
     "execution_count": 21,
     "metadata": {},
     "output_type": "execute_result"
    }
   ],
   "source": [
    "# Calculate x coordinates\n",
    "points['x'] = points.apply(getPointCoords, geom='geometry', coord_type='x', axis=1)\n",
    "\n",
    "# Calculate y coordinates\n",
    "points['y'] = points.apply(getPointCoords, geom='geometry', coord_type='y', axis=1)\n",
    "\n",
    "# Let's see what we have now\n",
    "points.head()"
   ]
  },
  {
   "cell_type": "markdown",
   "metadata": {},
   "source": [
    "Now we have the x and y columns in our GeoDataFrame.\n",
    "\n",
    "The third step, is to convert our DataFrame into a format that Bokeh can understand. Thus, we will convert our DataFrame into ColumnDataSource which is a Bokeh-specific way of storing the data.\n",
    "\n",
    "**Bokeh `ColumnDataSource` do not understand Shapely geometry -objects. Thus, we need to remove the `geometry` -column before convert our DataFrame into a ColumnDataSouce.**\n",
    "\n",
    "Let’s make a copy of our points GeoDataFrame where we drop the geometry column."
   ]
  },
  {
   "cell_type": "code",
   "execution_count": 22,
   "metadata": {},
   "outputs": [
    {
     "data": {
      "text/html": [
       "<div>\n",
       "<style scoped>\n",
       "    .dataframe tbody tr th:only-of-type {\n",
       "        vertical-align: middle;\n",
       "    }\n",
       "\n",
       "    .dataframe tbody tr th {\n",
       "        vertical-align: top;\n",
       "    }\n",
       "\n",
       "    .dataframe thead th {\n",
       "        text-align: right;\n",
       "    }\n",
       "</style>\n",
       "<table border=\"1\" class=\"dataframe\">\n",
       "  <thead>\n",
       "    <tr style=\"text-align: right;\">\n",
       "      <th></th>\n",
       "      <th>address</th>\n",
       "      <th>id</th>\n",
       "      <th>addr</th>\n",
       "      <th>x</th>\n",
       "      <th>y</th>\n",
       "    </tr>\n",
       "  </thead>\n",
       "  <tbody>\n",
       "    <tr>\n",
       "      <th>0</th>\n",
       "      <td>Ruoholahti, 14, Itämerenkatu, Ruoholahti, Läns...</td>\n",
       "      <td>1000</td>\n",
       "      <td>Itämerenkatu 14, 00101 Helsinki, Finland</td>\n",
       "      <td>24.915562</td>\n",
       "      <td>60.163201</td>\n",
       "    </tr>\n",
       "    <tr>\n",
       "      <th>1</th>\n",
       "      <td>Kamppi, 1, Kampinkuja, Kamppi, Eteläinen suurp...</td>\n",
       "      <td>1001</td>\n",
       "      <td>Kampinkuja 1, 00100 Helsinki, Finland</td>\n",
       "      <td>24.931691</td>\n",
       "      <td>60.169022</td>\n",
       "    </tr>\n",
       "    <tr>\n",
       "      <th>2</th>\n",
       "      <td>Kauppakeskus Citycenter, 8, Kaivokatu, Keskust...</td>\n",
       "      <td>1002</td>\n",
       "      <td>Kaivokatu 8, 00101 Helsinki, Finland</td>\n",
       "      <td>24.941791</td>\n",
       "      <td>60.169887</td>\n",
       "    </tr>\n",
       "    <tr>\n",
       "      <th>3</th>\n",
       "      <td>Hermannin rantatie, Hermanninmäki, Hermanni, K...</td>\n",
       "      <td>1003</td>\n",
       "      <td>Hermannin rantatie 1, 00580 Helsinki, Finland</td>\n",
       "      <td>24.977590</td>\n",
       "      <td>60.193610</td>\n",
       "    </tr>\n",
       "    <tr>\n",
       "      <th>4</th>\n",
       "      <td>Hesburger, 9, Tyynenmerenkatu, Jätkäsaari, Län...</td>\n",
       "      <td>1005</td>\n",
       "      <td>Tyynenmerenkatu 9, 00220 Helsinki, Finland</td>\n",
       "      <td>24.921600</td>\n",
       "      <td>60.156647</td>\n",
       "    </tr>\n",
       "  </tbody>\n",
       "</table>\n",
       "</div>"
      ],
      "text/plain": [
       "                                             address    id  \\\n",
       "0  Ruoholahti, 14, Itämerenkatu, Ruoholahti, Läns...  1000   \n",
       "1  Kamppi, 1, Kampinkuja, Kamppi, Eteläinen suurp...  1001   \n",
       "2  Kauppakeskus Citycenter, 8, Kaivokatu, Keskust...  1002   \n",
       "3  Hermannin rantatie, Hermanninmäki, Hermanni, K...  1003   \n",
       "4  Hesburger, 9, Tyynenmerenkatu, Jätkäsaari, Län...  1005   \n",
       "\n",
       "                                            addr          x          y  \n",
       "0       Itämerenkatu 14, 00101 Helsinki, Finland  24.915562  60.163201  \n",
       "1          Kampinkuja 1, 00100 Helsinki, Finland  24.931691  60.169022  \n",
       "2           Kaivokatu 8, 00101 Helsinki, Finland  24.941791  60.169887  \n",
       "3  Hermannin rantatie 1, 00580 Helsinki, Finland  24.977590  60.193610  \n",
       "4     Tyynenmerenkatu 9, 00220 Helsinki, Finland  24.921600  60.156647  "
      ]
     },
     "execution_count": 22,
     "metadata": {},
     "output_type": "execute_result"
    }
   ],
   "source": [
    "# Make a copy and drop the geometry column\n",
    "p_df = points.drop('geometry', axis=1).copy()\n",
    "\n",
    "# See head\n",
    "p_df.head()"
   ]
  },
  {
   "cell_type": "markdown",
   "metadata": {},
   "source": [
    "Now we can convert that pandas DataFrame into a ColumnDataSource."
   ]
  },
  {
   "cell_type": "code",
   "execution_count": 23,
   "metadata": {},
   "outputs": [
    {
     "data": {
      "text/html": [
       "<div style=\"display: table;\"><div style=\"display: table-row;\"><div style=\"display: table-cell;\"><b title=\"bokeh.models.sources.ColumnDataSource\">ColumnDataSource</b>(</div><div style=\"display: table-cell;\">id&nbsp;=&nbsp;'1626', <span id=\"1628\" style=\"cursor: pointer;\">&hellip;)</span></div></div><div class=\"1627\" style=\"display: none;\"><div style=\"display: table-cell;\"></div><div style=\"display: table-cell;\">data&nbsp;=&nbsp;{'addr': ['Itämerenkatu 14, 00101 Helsinki, Finland', 'Kampinkuja 1, 00100 Helsinki, Finland', 'Kaivokatu 8, 00101 Helsinki, Finland', 'Hermannin rantatie 1, 00580 Helsinki, Finland', 'Tyynenmerenkatu 9, 00220 Helsinki, Finland', 'Kontulantie 18, 00940 Helsinki, Finland', 'Itäväylä 3, 00950 Helsinki, Finland', 'Tapulikaupungintie 3, 00750 Helsinki, Finland', 'Sompionpolku 2, 00730 Helsinki, Finland', 'Atomitie 5, 00370 Helsinki, Finland', 'Rautatientori 1, 00100 Helsinki, Finland', 'Kuparitie 8, 00440 Helsinki, Finland', 'Rumpupolku 8, 00420 Helsinki, Finland', 'Mäkitorpantie 1, 00620 Helsinki, Finland', 'Malminkaari 15, 00700 Helsinki, Finland', 'Kylätie 23, 00320 Helsinki, Finland', 'Malminkartanontie 17, 00410 Helsinki, Finland', 'Oulunkylän tori 2b, 00640 Helsinki, Finland', 'Ratapihantie 6, 00101 Helsinki, Finland', 'Pitäjänmäentie 15, 00370 Helsinki, Finland', 'Eskolantie 2, 00720 Helsinki, Finland', 'Tattariharjuntie, 00700 Helsinki, Finland', 'Tallinnanaukio 1, 00930 Helsinki, Finland', 'Tyynylaavantie 7, 00980 Helsinki, Finland', 'Myllypurontie 5, 00920 Helsinki, Finland', 'Mellunmäenraitio 6, 00970 Helsinki, Finland', 'Vaasanpolku 2, 00101 Helsinki, Finland', 'Hiihtäjäntie 2, 00810 Helsinki, Finland', 'Ukko-Pekan porras 2, 00570 Helsinki, Finland', 'Siltasaarenkatu 16, 00530 Helsinki, Finland', 'Urho Kekkosen katu 1, 00100 Helsinki, Finland', 'Ruoholahdenkatu 17, 00101 Helsinki, Finland', 'Tyynenmerenkatu 3, 00220 Helsinki, Finland', 'Vilhonkatu 4, 00101 Helsinki, Finland'], 'address': ['Ruoholahti, 14, Itämerenkatu, Ruoholahti, Länsisatama, Eteläinen suurpiiri, Helsinki, Helsingin seutukunta, Uusimaa, Etelä-Suomen aluehallintovirasto, Manner-Suomi, 00180, Suomi / Finland', 'Kamppi, 1, Kampinkuja, Kamppi, Eteläinen suurpiiri, Helsinki, Helsingin seutukunta, Uusimaa, Etelä-Suomen aluehallintovirasto, Manner-Suomi, 00100, Suomi / Finland', 'Kauppakeskus Citycenter, 8, Kaivokatu, Keskusta, Kluuvi, Eteläinen suurpiiri, Helsinki, Helsingin seutukunta, Uusimaa, Etelä-Suomen aluehallintovirasto, Manner-Suomi, 00100, Suomi / Finland', 'Hermannin rantatie, Hermanninmäki, Hermanni, Keskinen suurpiiri, Helsinki, Helsingin seutukunta, Uusimaa, Etelä-Suomen aluehallintovirasto, Manner-Suomi, 00580, Suomi / Finland', 'Hesburger, 9, Tyynenmerenkatu, Jätkäsaari, Länsisatama, Eteläinen suurpiiri, Helsinki, Helsingin seutukunta, Uusimaa, Etelä-Suomen aluehallintovirasto, Manner-Suomi, 00220, Suomi / Finland', '18, Kontulantie, Kontula, Mellunkylä, Itäinen suurpiiri, Helsinki, Helsingin seutukunta, Uusimaa, Etelä-Suomen aluehallintovirasto, Manner-Suomi, 00940, Suomi / Finland', 'Itäväylä, Vartioharju, Vartiokylä, Itäinen suurpiiri, Helsinki, Helsingin seutukunta, Uusimaa, Etelä-Suomen aluehallintovirasto, Manner-Suomi, 00950, Suomi / Finland', 'Tapulikaupungintie, Tapulikaupunki, Suutarila, Koillinen suurpiiri, Helsinki, Helsingin seutukunta, Uusimaa, Etelä-Suomen aluehallintovirasto, Manner-Suomi, 00750, Suomi / Finland', 'Sompionpolku, Tapanila, Tapaninkylä, Koillinen suurpiiri, Helsinki, Helsingin seutukunta, Uusimaa, Etelä-Suomen aluehallintovirasto, Manner-Suomi, 00730, Suomi / Finland', '5, Atomitie, Pitäjänmäen teollisuusalue, Pitäjänmäki, Läntinen suurpiiri, Helsinki, Helsingin seutukunta, Uusimaa, Etelä-Suomen aluehallintovirasto, Manner-Suomi, 00370, Suomi / Finland', 'Rautatientori, 2, Kaivokatu, Keskusta, Kluuvi, Eteläinen suurpiiri, Helsinki, Helsingin seutukunta, Uusimaa, Etelä-Suomen aluehallintovirasto, Manner-Suomi, 00100, Suomi / Finland', 'Kuparitie, Lassila, Haaga, Läntinen suurpiiri, Helsinki, Helsingin seutukunta, Uusimaa, Etelä-Suomen aluehallintovirasto, Manner-Suomi, 00440, Suomi / Finland', 'Rumpupolku, Kannelmäki, Kaarela, Läntinen suurpiiri, Helsinki, Helsingin seutukunta, Uusimaa, Etelä-Suomen aluehallintovirasto, Manner-Suomi, 00420, Suomi / Finland', 'K-Supermarket Mustapekka, 1, Mäkitorpantie, Patola, Oulunkylä, Pohjoinen suurpiiri, Helsinki, Helsingin seutukunta, Uusimaa, Etelä-Suomen aluehallintovirasto, Manner-Suomi, 00620, Suomi / Finland', '15, Malminkaari, Ala-Malmi, Malmi, Koillinen suurpiiri, Helsinki, Helsingin seutukunta, Uusimaa, Etelä-Suomen aluehallintovirasto, Manner-Suomi, 00700, Suomi / Finland', '23, Kylätie, Etelä-Haaga, Haaga, Läntinen suurpiiri, Helsinki, Helsingin seutukunta, Uusimaa, Etelä-Suomen aluehallintovirasto, Manner-Suomi, 00320, Suomi / Finland', 'Malminkartanontie, Malminkartano, Kaarela, Läntinen suurpiiri, Helsinki, Helsingin seutukunta, Uusimaa, Etelä-Suomen aluehallintovirasto, Manner-Suomi, 00410, Suomi / Finland', 'Oulunkylän tori, Patola, Oulunkylä, Pohjoinen suurpiiri, Helsinki, Helsingin seutukunta, Uusimaa, Etelä-Suomen aluehallintovirasto, Manner-Suomi, 00640, Suomi / Finland', '6, Ratapihantie, Itä-Pasila, Pasila, Keskinen suurpiiri, Helsinki, Helsingin seutukunta, Uusimaa, Etelä-Suomen aluehallintovirasto, Manner-Suomi, 00077, Suomi / Finland', 'Pizza Benitto, 15, Pitäjänmäentie, Reimarla, Pitäjänmäki, Läntinen suurpiiri, Helsinki, Helsingin seutukunta, Uusimaa, Etelä-Suomen aluehallintovirasto, Manner-Suomi, 00370, Suomi / Finland', 'K-Market Pukinmäki, 2, Eskolantie, Savela, Pukinmäki, Koillinen suurpiiri, Helsinki, Helsingin seutukunta, Uusimaa, Etelä-Suomen aluehallintovirasto, Manner-Suomi, 00720, Suomi / Finland', 'Tattariharjuntie, Ala-Malmi, Malmi, Koillinen suurpiiri, Helsinki, Helsingin seutukunta, Uusimaa, Etelä-Suomen aluehallintovirasto, Manner-Suomi, 00700, Suomi / Finland', 'Danske Bank, 1, Tallinnanaukio, Itäkeskus, Vartiokylä, Itäinen suurpiiri, Helsinki, Helsingin seutukunta, Uusimaa, Etelä-Suomen aluehallintovirasto, Manner-Suomi, 00930, Suomi / Finland', 'Tyynylaavantie, Keski-Vuosaari, Vuosaari, Itäinen suurpiiri, Helsinki, Helsingin seutukunta, Uusimaa, Etelä-Suomen aluehallintovirasto, Manner-Suomi, 00980, Suomi / Finland', 'Myllypurontie, Myllypuro, Vartiokylä, Itäinen suurpiiri, Helsinki, Helsingin seutukunta, Uusimaa, Etelä-Suomen aluehallintovirasto, Manner-Suomi, 00920, Suomi / Finland', 'Mellunmäenraitio, Mellunmäki, Mellunkylä, Itäinen suurpiiri, Helsinki, Helsingin seutukunta, Uusimaa, Etelä-Suomen aluehallintovirasto, Manner-Suomi, 00970, Suomi / Finland', 'Vaasanpolku, Harju, Alppiharju, Keskinen suurpiiri, Helsinki, Helsingin seutukunta, Uusimaa, Etelä-Suomen aluehallintovirasto, Manner-Suomi, 00500, Suomi / Finland', 'Alko Herttoniemi Hertta, 2, Hiihtäjäntie, Länsi-Herttoniemi, Herttoniemi, Kaakkoinen suurpiiri, Helsinki, Helsingin seutukunta, Uusimaa, Etelä-Suomen aluehallintovirasto, Manner-Suomi, 00810, Suomi / Finland', 'Metro Kulosaari, 2, Ukko-Pekan porras, Kulosaari, Kaakkoinen suurpiiri, Helsinki, Helsingin seutukunta, Uusimaa, Etelä-Suomen aluehallintovirasto, Manner-Suomi, 00570, Suomi / Finland', 'Instrumentarium Hakaniemi, 16, Siltasaarenkatu, Siltasaari, Kallio, Keskinen suurpiiri, Helsinki, Helsingin seutukunta, Uusimaa, Etelä-Suomen aluehallintovirasto, Manner-Suomi, 00530, Suomi / Finland', 'Kampin keskus, 1, Urho Kekkosen katu, Kamppi, Eteläinen suurpiiri, Helsinki, Helsingin seutukunta, Uusimaa, Etelä-Suomen aluehallintovirasto, Manner-Suomi, 00100, Suomi / Finland', 'Ruoholahdenkatu, Hietalahti, Kamppi, Eteläinen suurpiiri, Helsinki, Helsingin seutukunta, Uusimaa, Etelä-Suomen aluehallintovirasto, Manner-Suomi, 00180, Suomi / Finland', 'Easy Cycles, 3, Tyynenmerenkatu, Jätkäsaari, Länsisatama, Eteläinen suurpiiri, Helsinki, Helsingin seutukunta, Uusimaa, Etelä-Suomen aluehallintovirasto, Manner-Suomi, 00220, Suomi / Finland', 'Oluthuone Kaisla, 4, Vilhonkatu, Kaisaniemi, Kluuvi, Eteläinen suurpiiri, Helsinki, Helsingin seutukunta, Uusimaa, Etelä-Suomen aluehallintovirasto, Manner-Suomi, 00100, Suomi / Finland'], 'x': {'__ndarray__': 'gHIlTGLqOEDm9txTg+44QBkqFDwZ8ThAtGREWEP6OEDae0z/7es4QJYaCtXsFDlAnYlE/B4cOUBxZ3Cl6Ag5QNsLFphfBzlA92MvjznfOEBGyVC6mfA4QE35aw0A4jhA1tC80ujgOEDz8FR2sPI4QJg76TNWAzlAb6hwBunkOEBF1hpK7d04QG6h0Fc19zhARnZKrDHvOEA6+qk7YNw4QI4Y4v1d/jhAHcHXIUgFOUAQxB5/DhQ5QBoJfmXvIjlAlG07yEYTOUAER7h/Gxw5QAhUpGcf9jhAc7GzMisHOUA5WKQuvgE5QGziicUU8zhAiqyiqeDuOEB7Ngb4yew4QJT9Tu7S6zhAWf1sP3TyOEA=', 'shape': (34,), 'dtype': 'float64', 'order': 'little'}, 'y': {'__ndarray__': 'PpRoyeMUTkAkpvqEohVOQF2htNy+FU5ABZYSOMgYTkAFwHgGDRROQMKcRZQbHk5A0Lx3L1IcTkAaOtEJ/CJOQOEjB5GxIU5AYwys43gcTkDS3/AnzxVOQBhiUAGLHU5AM4HHXL4eTkADk8CLYxxOQHLFIAssIE5AzPdCt80bTkATNvIvOCBOQLjI4qNqHU5AC/VPy2oZTkC5iO/ErBxOQJQZyuQvH05AbKaMySwfTkArildZ2xpOQJRGcTOBGk5Ae9FovL4cTkAlZqzscR5OQDHvcaYJGE5AfWjVnd0YTkDs2RjgJxhOQAPqzaj5Fk5AuEX0xqQVTkBcWDfeHRVOQIwXZvxWFE5AvoAD/wAWTkA=', 'shape': (34,), 'dtype': 'float64', 'order': 'little'}, 'index': [0, 1, 2, 3, 4, 5, 6, 7, 8, 9, 10, 11, 12, 13, 14, 15, 16, 17, 18, 19, 20, 21, 22, 23, 24, 25, 26, 27, 28, 29, 30, 31, 32, 33], 'id': [1000, 1001, 1002, 1003, 1005, 1006, 1007, 1008, 1009, 1010, 1011, 1012, 1013, 1014, 1015, 1016, 1017, 1018, 1019, 1020, 1021, 1022, 1023, 1024, 1025, 1026, 1027, 1028, 1029, 1030, 1031, 1032, 1033, 1034]},</div></div><div class=\"1627\" style=\"display: none;\"><div style=\"display: table-cell;\"></div><div style=\"display: table-cell;\">js_event_callbacks&nbsp;=&nbsp;{},</div></div><div class=\"1627\" style=\"display: none;\"><div style=\"display: table-cell;\"></div><div style=\"display: table-cell;\">js_property_callbacks&nbsp;=&nbsp;{},</div></div><div class=\"1627\" style=\"display: none;\"><div style=\"display: table-cell;\"></div><div style=\"display: table-cell;\">name&nbsp;=&nbsp;None,</div></div><div class=\"1627\" style=\"display: none;\"><div style=\"display: table-cell;\"></div><div style=\"display: table-cell;\">selected&nbsp;=&nbsp;Selection(id='1630', ...),</div></div><div class=\"1627\" style=\"display: none;\"><div style=\"display: table-cell;\"></div><div style=\"display: table-cell;\">selection_policy&nbsp;=&nbsp;UnionRenderers(id='1629', ...),</div></div><div class=\"1627\" style=\"display: none;\"><div style=\"display: table-cell;\"></div><div style=\"display: table-cell;\">subscribed_events&nbsp;=&nbsp;[],</div></div><div class=\"1627\" style=\"display: none;\"><div style=\"display: table-cell;\"></div><div style=\"display: table-cell;\">syncable&nbsp;=&nbsp;True,</div></div><div class=\"1627\" style=\"display: none;\"><div style=\"display: table-cell;\"></div><div style=\"display: table-cell;\">tags&nbsp;=&nbsp;[])</div></div></div>\n",
       "<script>\n",
       "(function() {\n",
       "  var expanded = false;\n",
       "  var ellipsis = document.getElementById(\"1628\");\n",
       "  ellipsis.addEventListener(\"click\", function() {\n",
       "    var rows = document.getElementsByClassName(\"1627\");\n",
       "    for (var i = 0; i < rows.length; i++) {\n",
       "      var el = rows[i];\n",
       "      el.style.display = expanded ? \"none\" : \"table-row\";\n",
       "    }\n",
       "    ellipsis.innerHTML = expanded ? \"&hellip;)\" : \"&lsaquo;&lsaquo;&lsaquo;\";\n",
       "    expanded = !expanded;\n",
       "  });\n",
       "})();\n",
       "</script>\n"
      ],
      "text/plain": [
       "ColumnDataSource(id='1626', ...)"
      ]
     },
     "execution_count": 23,
     "metadata": {},
     "output_type": "execute_result"
    }
   ],
   "source": [
    "# Point DataSource\n",
    "psource = ColumnDataSource(p_df)\n",
    "\n",
    "# What is it?\n",
    "psource"
   ]
  },
  {
   "cell_type": "markdown",
   "metadata": {},
   "source": [
    "Okey, so now we have a ColumnDataSource object that has our data stored in a way that Bokeh wants it.\n",
    "\n",
    "Finally, we can make a Point map of those points in a fairly similar manner as in the first example. Now instead of passing the coordinate lists, we can pass the data as a `source` for the plot with column names containing those coordinates."
   ]
  },
  {
   "cell_type": "code",
   "execution_count": 26,
   "metadata": {},
   "outputs": [
    {
     "data": {
      "text/html": [
       "\n",
       "\n",
       "\n",
       "\n",
       "\n",
       "\n",
       "  <div class=\"bk-root\" id=\"af5fea81-1977-45b2-bc38-8256bb7caee7\" data-root-id=\"1971\"></div>\n"
      ]
     },
     "metadata": {},
     "output_type": "display_data"
    },
    {
     "data": {
      "application/javascript": [
       "(function(root) {\n",
       "  function embed_document(root) {\n",
       "    \n",
       "  var docs_json = {\"cfa993b9-999c-404f-96ae-e117a15bac39\":{\"defs\":[{\"extends\":null,\"module\":null,\"name\":\"DataModel\",\"overrides\":[],\"properties\":[]}],\"roots\":{\"references\":[{\"attributes\":{\"below\":[{\"id\":\"1982\"}],\"center\":[{\"id\":\"1985\"},{\"id\":\"1989\"}],\"left\":[{\"id\":\"1986\"}],\"renderers\":[{\"id\":\"2007\"}],\"title\":{\"id\":\"1972\"},\"toolbar\":{\"id\":\"1997\"},\"x_range\":{\"id\":\"1974\"},\"x_scale\":{\"id\":\"1978\"},\"y_range\":{\"id\":\"1976\"},\"y_scale\":{\"id\":\"1980\"}},\"id\":\"1971\",\"subtype\":\"Figure\",\"type\":\"Plot\"},{\"attributes\":{},\"id\":\"1978\",\"type\":\"LinearScale\"},{\"attributes\":{\"source\":{\"id\":\"1626\"}},\"id\":\"2008\",\"type\":\"CDSView\"},{\"attributes\":{\"data_source\":{\"id\":\"1626\"},\"glyph\":{\"id\":\"2005\"},\"hover_glyph\":null,\"muted_glyph\":null,\"nonselection_glyph\":{\"id\":\"2006\"},\"view\":{\"id\":\"2008\"}},\"id\":\"2007\",\"type\":\"GlyphRenderer\"},{\"attributes\":{\"formatter\":{\"id\":\"2040\"},\"major_label_policy\":{\"id\":\"2042\"},\"ticker\":{\"id\":\"1987\"}},\"id\":\"1986\",\"type\":\"LinearAxis\"},{\"attributes\":{\"data\":{\"addr\":[\"It\\u00e4merenkatu 14, 00101 Helsinki, Finland\",\"Kampinkuja 1, 00100 Helsinki, Finland\",\"Kaivokatu 8, 00101 Helsinki, Finland\",\"Hermannin rantatie 1, 00580 Helsinki, Finland\",\"Tyynenmerenkatu 9, 00220 Helsinki, Finland\",\"Kontulantie 18, 00940 Helsinki, Finland\",\"It\\u00e4v\\u00e4yl\\u00e4 3, 00950 Helsinki, Finland\",\"Tapulikaupungintie 3, 00750 Helsinki, Finland\",\"Sompionpolku 2, 00730 Helsinki, Finland\",\"Atomitie 5, 00370 Helsinki, Finland\",\"Rautatientori 1, 00100 Helsinki, Finland\",\"Kuparitie 8, 00440 Helsinki, Finland\",\"Rumpupolku 8, 00420 Helsinki, Finland\",\"M\\u00e4kitorpantie 1, 00620 Helsinki, Finland\",\"Malminkaari 15, 00700 Helsinki, Finland\",\"Kyl\\u00e4tie 23, 00320 Helsinki, Finland\",\"Malminkartanontie 17, 00410 Helsinki, Finland\",\"Oulunkyl\\u00e4n tori 2b, 00640 Helsinki, Finland\",\"Ratapihantie 6, 00101 Helsinki, Finland\",\"Pit\\u00e4j\\u00e4nm\\u00e4entie 15, 00370 Helsinki, Finland\",\"Eskolantie 2, 00720 Helsinki, Finland\",\"Tattariharjuntie, 00700 Helsinki, Finland\",\"Tallinnanaukio 1, 00930 Helsinki, Finland\",\"Tyynylaavantie 7, 00980 Helsinki, Finland\",\"Myllypurontie 5, 00920 Helsinki, Finland\",\"Mellunm\\u00e4enraitio 6, 00970 Helsinki, Finland\",\"Vaasanpolku 2, 00101 Helsinki, Finland\",\"Hiiht\\u00e4j\\u00e4ntie 2, 00810 Helsinki, Finland\",\"Ukko-Pekan porras 2, 00570 Helsinki, Finland\",\"Siltasaarenkatu 16, 00530 Helsinki, Finland\",\"Urho Kekkosen katu 1, 00100 Helsinki, Finland\",\"Ruoholahdenkatu 17, 00101 Helsinki, Finland\",\"Tyynenmerenkatu 3, 00220 Helsinki, Finland\",\"Vilhonkatu 4, 00101 Helsinki, Finland\"],\"address\":[\"Ruoholahti, 14, It\\u00e4merenkatu, Ruoholahti, L\\u00e4nsisatama, Etel\\u00e4inen suurpiiri, Helsinki, Helsingin seutukunta, Uusimaa, Etel\\u00e4-Suomen aluehallintovirasto, Manner-Suomi, 00180, Suomi / Finland\",\"Kamppi, 1, Kampinkuja, Kamppi, Etel\\u00e4inen suurpiiri, Helsinki, Helsingin seutukunta, Uusimaa, Etel\\u00e4-Suomen aluehallintovirasto, Manner-Suomi, 00100, Suomi / Finland\",\"Kauppakeskus Citycenter, 8, Kaivokatu, Keskusta, Kluuvi, Etel\\u00e4inen suurpiiri, Helsinki, Helsingin seutukunta, Uusimaa, Etel\\u00e4-Suomen aluehallintovirasto, Manner-Suomi, 00100, Suomi / Finland\",\"Hermannin rantatie, Hermanninm\\u00e4ki, Hermanni, Keskinen suurpiiri, Helsinki, Helsingin seutukunta, Uusimaa, Etel\\u00e4-Suomen aluehallintovirasto, Manner-Suomi, 00580, Suomi / Finland\",\"Hesburger, 9, Tyynenmerenkatu, J\\u00e4tk\\u00e4saari, L\\u00e4nsisatama, Etel\\u00e4inen suurpiiri, Helsinki, Helsingin seutukunta, Uusimaa, Etel\\u00e4-Suomen aluehallintovirasto, Manner-Suomi, 00220, Suomi / Finland\",\"18, Kontulantie, Kontula, Mellunkyl\\u00e4, It\\u00e4inen suurpiiri, Helsinki, Helsingin seutukunta, Uusimaa, Etel\\u00e4-Suomen aluehallintovirasto, Manner-Suomi, 00940, Suomi / Finland\",\"It\\u00e4v\\u00e4yl\\u00e4, Vartioharju, Vartiokyl\\u00e4, It\\u00e4inen suurpiiri, Helsinki, Helsingin seutukunta, Uusimaa, Etel\\u00e4-Suomen aluehallintovirasto, Manner-Suomi, 00950, Suomi / Finland\",\"Tapulikaupungintie, Tapulikaupunki, Suutarila, Koillinen suurpiiri, Helsinki, Helsingin seutukunta, Uusimaa, Etel\\u00e4-Suomen aluehallintovirasto, Manner-Suomi, 00750, Suomi / Finland\",\"Sompionpolku, Tapanila, Tapaninkyl\\u00e4, Koillinen suurpiiri, Helsinki, Helsingin seutukunta, Uusimaa, Etel\\u00e4-Suomen aluehallintovirasto, Manner-Suomi, 00730, Suomi / Finland\",\"5, Atomitie, Pit\\u00e4j\\u00e4nm\\u00e4en teollisuusalue, Pit\\u00e4j\\u00e4nm\\u00e4ki, L\\u00e4ntinen suurpiiri, Helsinki, Helsingin seutukunta, Uusimaa, Etel\\u00e4-Suomen aluehallintovirasto, Manner-Suomi, 00370, Suomi / Finland\",\"Rautatientori, 2, Kaivokatu, Keskusta, Kluuvi, Etel\\u00e4inen suurpiiri, Helsinki, Helsingin seutukunta, Uusimaa, Etel\\u00e4-Suomen aluehallintovirasto, Manner-Suomi, 00100, Suomi / Finland\",\"Kuparitie, Lassila, Haaga, L\\u00e4ntinen suurpiiri, Helsinki, Helsingin seutukunta, Uusimaa, Etel\\u00e4-Suomen aluehallintovirasto, Manner-Suomi, 00440, Suomi / Finland\",\"Rumpupolku, Kannelm\\u00e4ki, Kaarela, L\\u00e4ntinen suurpiiri, Helsinki, Helsingin seutukunta, Uusimaa, Etel\\u00e4-Suomen aluehallintovirasto, Manner-Suomi, 00420, Suomi / Finland\",\"K-Supermarket Mustapekka, 1, M\\u00e4kitorpantie, Patola, Oulunkyl\\u00e4, Pohjoinen suurpiiri, Helsinki, Helsingin seutukunta, Uusimaa, Etel\\u00e4-Suomen aluehallintovirasto, Manner-Suomi, 00620, Suomi / Finland\",\"15, Malminkaari, Ala-Malmi, Malmi, Koillinen suurpiiri, Helsinki, Helsingin seutukunta, Uusimaa, Etel\\u00e4-Suomen aluehallintovirasto, Manner-Suomi, 00700, Suomi / Finland\",\"23, Kyl\\u00e4tie, Etel\\u00e4-Haaga, Haaga, L\\u00e4ntinen suurpiiri, Helsinki, Helsingin seutukunta, Uusimaa, Etel\\u00e4-Suomen aluehallintovirasto, Manner-Suomi, 00320, Suomi / Finland\",\"Malminkartanontie, Malminkartano, Kaarela, L\\u00e4ntinen suurpiiri, Helsinki, Helsingin seutukunta, Uusimaa, Etel\\u00e4-Suomen aluehallintovirasto, Manner-Suomi, 00410, Suomi / Finland\",\"Oulunkyl\\u00e4n tori, Patola, Oulunkyl\\u00e4, Pohjoinen suurpiiri, Helsinki, Helsingin seutukunta, Uusimaa, Etel\\u00e4-Suomen aluehallintovirasto, Manner-Suomi, 00640, Suomi / Finland\",\"6, Ratapihantie, It\\u00e4-Pasila, Pasila, Keskinen suurpiiri, Helsinki, Helsingin seutukunta, Uusimaa, Etel\\u00e4-Suomen aluehallintovirasto, Manner-Suomi, 00077, Suomi / Finland\",\"Pizza Benitto, 15, Pit\\u00e4j\\u00e4nm\\u00e4entie, Reimarla, Pit\\u00e4j\\u00e4nm\\u00e4ki, L\\u00e4ntinen suurpiiri, Helsinki, Helsingin seutukunta, Uusimaa, Etel\\u00e4-Suomen aluehallintovirasto, Manner-Suomi, 00370, Suomi / Finland\",\"K-Market Pukinm\\u00e4ki, 2, Eskolantie, Savela, Pukinm\\u00e4ki, Koillinen suurpiiri, Helsinki, Helsingin seutukunta, Uusimaa, Etel\\u00e4-Suomen aluehallintovirasto, Manner-Suomi, 00720, Suomi / Finland\",\"Tattariharjuntie, Ala-Malmi, Malmi, Koillinen suurpiiri, Helsinki, Helsingin seutukunta, Uusimaa, Etel\\u00e4-Suomen aluehallintovirasto, Manner-Suomi, 00700, Suomi / Finland\",\"Danske Bank, 1, Tallinnanaukio, It\\u00e4keskus, Vartiokyl\\u00e4, It\\u00e4inen suurpiiri, Helsinki, Helsingin seutukunta, Uusimaa, Etel\\u00e4-Suomen aluehallintovirasto, Manner-Suomi, 00930, Suomi / Finland\",\"Tyynylaavantie, Keski-Vuosaari, Vuosaari, It\\u00e4inen suurpiiri, Helsinki, Helsingin seutukunta, Uusimaa, Etel\\u00e4-Suomen aluehallintovirasto, Manner-Suomi, 00980, Suomi / Finland\",\"Myllypurontie, Myllypuro, Vartiokyl\\u00e4, It\\u00e4inen suurpiiri, Helsinki, Helsingin seutukunta, Uusimaa, Etel\\u00e4-Suomen aluehallintovirasto, Manner-Suomi, 00920, Suomi / Finland\",\"Mellunm\\u00e4enraitio, Mellunm\\u00e4ki, Mellunkyl\\u00e4, It\\u00e4inen suurpiiri, Helsinki, Helsingin seutukunta, Uusimaa, Etel\\u00e4-Suomen aluehallintovirasto, Manner-Suomi, 00970, Suomi / Finland\",\"Vaasanpolku, Harju, Alppiharju, Keskinen suurpiiri, Helsinki, Helsingin seutukunta, Uusimaa, Etel\\u00e4-Suomen aluehallintovirasto, Manner-Suomi, 00500, Suomi / Finland\",\"Alko Herttoniemi Hertta, 2, Hiiht\\u00e4j\\u00e4ntie, L\\u00e4nsi-Herttoniemi, Herttoniemi, Kaakkoinen suurpiiri, Helsinki, Helsingin seutukunta, Uusimaa, Etel\\u00e4-Suomen aluehallintovirasto, Manner-Suomi, 00810, Suomi / Finland\",\"Metro Kulosaari, 2, Ukko-Pekan porras, Kulosaari, Kaakkoinen suurpiiri, Helsinki, Helsingin seutukunta, Uusimaa, Etel\\u00e4-Suomen aluehallintovirasto, Manner-Suomi, 00570, Suomi / Finland\",\"Instrumentarium Hakaniemi, 16, Siltasaarenkatu, Siltasaari, Kallio, Keskinen suurpiiri, Helsinki, Helsingin seutukunta, Uusimaa, Etel\\u00e4-Suomen aluehallintovirasto, Manner-Suomi, 00530, Suomi / Finland\",\"Kampin keskus, 1, Urho Kekkosen katu, Kamppi, Etel\\u00e4inen suurpiiri, Helsinki, Helsingin seutukunta, Uusimaa, Etel\\u00e4-Suomen aluehallintovirasto, Manner-Suomi, 00100, Suomi / Finland\",\"Ruoholahdenkatu, Hietalahti, Kamppi, Etel\\u00e4inen suurpiiri, Helsinki, Helsingin seutukunta, Uusimaa, Etel\\u00e4-Suomen aluehallintovirasto, Manner-Suomi, 00180, Suomi / Finland\",\"Easy Cycles, 3, Tyynenmerenkatu, J\\u00e4tk\\u00e4saari, L\\u00e4nsisatama, Etel\\u00e4inen suurpiiri, Helsinki, Helsingin seutukunta, Uusimaa, Etel\\u00e4-Suomen aluehallintovirasto, Manner-Suomi, 00220, Suomi / Finland\",\"Oluthuone Kaisla, 4, Vilhonkatu, Kaisaniemi, Kluuvi, Etel\\u00e4inen suurpiiri, Helsinki, Helsingin seutukunta, Uusimaa, Etel\\u00e4-Suomen aluehallintovirasto, Manner-Suomi, 00100, Suomi / Finland\"],\"id\":[1000,1001,1002,1003,1005,1006,1007,1008,1009,1010,1011,1012,1013,1014,1015,1016,1017,1018,1019,1020,1021,1022,1023,1024,1025,1026,1027,1028,1029,1030,1031,1032,1033,1034],\"index\":[0,1,2,3,4,5,6,7,8,9,10,11,12,13,14,15,16,17,18,19,20,21,22,23,24,25,26,27,28,29,30,31,32,33],\"x\":{\"__ndarray__\":\"gHIlTGLqOEDm9txTg+44QBkqFDwZ8ThAtGREWEP6OEDae0z/7es4QJYaCtXsFDlAnYlE/B4cOUBxZ3Cl6Ag5QNsLFphfBzlA92MvjznfOEBGyVC6mfA4QE35aw0A4jhA1tC80ujgOEDz8FR2sPI4QJg76TNWAzlAb6hwBunkOEBF1hpK7d04QG6h0Fc19zhARnZKrDHvOEA6+qk7YNw4QI4Y4v1d/jhAHcHXIUgFOUAQxB5/DhQ5QBoJfmXvIjlAlG07yEYTOUAER7h/Gxw5QAhUpGcf9jhAc7GzMisHOUA5WKQuvgE5QGziicUU8zhAiqyiqeDuOEB7Ngb4yew4QJT9Tu7S6zhAWf1sP3TyOEA=\",\"dtype\":\"float64\",\"order\":\"little\",\"shape\":[34]},\"y\":{\"__ndarray__\":\"PpRoyeMUTkAkpvqEohVOQF2htNy+FU5ABZYSOMgYTkAFwHgGDRROQMKcRZQbHk5A0Lx3L1IcTkAaOtEJ/CJOQOEjB5GxIU5AYwys43gcTkDS3/AnzxVOQBhiUAGLHU5AM4HHXL4eTkADk8CLYxxOQHLFIAssIE5AzPdCt80bTkATNvIvOCBOQLjI4qNqHU5AC/VPy2oZTkC5iO/ErBxOQJQZyuQvH05AbKaMySwfTkArildZ2xpOQJRGcTOBGk5Ae9FovL4cTkAlZqzscR5OQDHvcaYJGE5AfWjVnd0YTkDs2RjgJxhOQAPqzaj5Fk5AuEX0xqQVTkBcWDfeHRVOQIwXZvxWFE5AvoAD/wAWTkA=\",\"dtype\":\"float64\",\"order\":\"little\",\"shape\":[34]}},\"selected\":{\"id\":\"1630\"},\"selection_policy\":{\"id\":\"1629\"}},\"id\":\"1626\",\"type\":\"ColumnDataSource\"},{\"attributes\":{\"axis\":{\"id\":\"1986\"},\"dimension\":1,\"ticker\":null},\"id\":\"1989\",\"type\":\"Grid\"},{\"attributes\":{},\"id\":\"1983\",\"type\":\"BasicTicker\"},{\"attributes\":{\"text\":\"Some points map\"},\"id\":\"1972\",\"type\":\"Title\"},{\"attributes\":{\"axis\":{\"id\":\"1982\"},\"ticker\":null},\"id\":\"1985\",\"type\":\"Grid\"},{\"attributes\":{},\"id\":\"1980\",\"type\":\"LinearScale\"},{\"attributes\":{},\"id\":\"2040\",\"type\":\"BasicTickFormatter\"},{\"attributes\":{},\"id\":\"1995\",\"type\":\"HelpTool\"},{\"attributes\":{\"formatter\":{\"id\":\"2043\"},\"major_label_policy\":{\"id\":\"2045\"},\"ticker\":{\"id\":\"1983\"}},\"id\":\"1982\",\"type\":\"LinearAxis\"},{\"attributes\":{},\"id\":\"2042\",\"type\":\"AllLabels\"},{\"attributes\":{},\"id\":\"1987\",\"type\":\"BasicTicker\"},{\"attributes\":{\"active_multi\":null,\"tools\":[{\"id\":\"1990\"},{\"id\":\"1991\"},{\"id\":\"1992\"},{\"id\":\"1993\"},{\"id\":\"1994\"},{\"id\":\"1995\"}]},\"id\":\"1997\",\"type\":\"Toolbar\"},{\"attributes\":{},\"id\":\"1991\",\"type\":\"WheelZoomTool\"},{\"attributes\":{},\"id\":\"1990\",\"type\":\"PanTool\"},{\"attributes\":{\"fill_color\":{\"value\":\"#1f77b4\"},\"line_color\":{\"value\":\"#1f77b4\"},\"size\":{\"value\":10},\"x\":{\"field\":\"x\"},\"y\":{\"field\":\"y\"}},\"id\":\"2005\",\"type\":\"Circle\"},{\"attributes\":{\"overlay\":{\"id\":\"1996\"}},\"id\":\"1992\",\"type\":\"BoxZoomTool\"},{\"attributes\":{},\"id\":\"1993\",\"type\":\"SaveTool\"},{\"attributes\":{},\"id\":\"2043\",\"type\":\"BasicTickFormatter\"},{\"attributes\":{},\"id\":\"1974\",\"type\":\"DataRange1d\"},{\"attributes\":{},\"id\":\"1994\",\"type\":\"ResetTool\"},{\"attributes\":{},\"id\":\"2045\",\"type\":\"AllLabels\"},{\"attributes\":{},\"id\":\"1976\",\"type\":\"DataRange1d\"},{\"attributes\":{},\"id\":\"1629\",\"type\":\"UnionRenderers\"},{\"attributes\":{\"bottom_units\":\"screen\",\"fill_alpha\":0.5,\"fill_color\":\"lightgrey\",\"left_units\":\"screen\",\"level\":\"overlay\",\"line_alpha\":1.0,\"line_color\":\"black\",\"line_dash\":[4,4],\"line_width\":2,\"right_units\":\"screen\",\"syncable\":false,\"top_units\":\"screen\"},\"id\":\"1996\",\"type\":\"BoxAnnotation\"},{\"attributes\":{},\"id\":\"1630\",\"type\":\"Selection\"},{\"attributes\":{\"fill_alpha\":{\"value\":0.1},\"fill_color\":{\"value\":\"#1f77b4\"},\"line_alpha\":{\"value\":0.1},\"line_color\":{\"value\":\"#1f77b4\"},\"size\":{\"value\":10},\"x\":{\"field\":\"x\"},\"y\":{\"field\":\"y\"}},\"id\":\"2006\",\"type\":\"Circle\"}],\"root_ids\":[\"1971\"]},\"title\":\"Bokeh Application\",\"version\":\"2.3.0\"}};\n",
       "  var render_items = [{\"docid\":\"cfa993b9-999c-404f-96ae-e117a15bac39\",\"root_ids\":[\"1971\"],\"roots\":{\"1971\":\"af5fea81-1977-45b2-bc38-8256bb7caee7\"}}];\n",
       "  root.Bokeh.embed.embed_items_notebook(docs_json, render_items);\n",
       "\n",
       "  }\n",
       "  if (root.Bokeh !== undefined) {\n",
       "    embed_document(root);\n",
       "  } else {\n",
       "    var attempts = 0;\n",
       "    var timer = setInterval(function(root) {\n",
       "      if (root.Bokeh !== undefined) {\n",
       "        clearInterval(timer);\n",
       "        embed_document(root);\n",
       "      } else {\n",
       "        attempts++;\n",
       "        if (attempts > 100) {\n",
       "          clearInterval(timer);\n",
       "          console.log(\"Bokeh: ERROR: Unable to run BokehJS code because BokehJS library is missing\");\n",
       "        }\n",
       "      }\n",
       "    }, 10, root)\n",
       "  }\n",
       "})(window);"
      ],
      "application/vnd.bokehjs_exec.v0+json": ""
     },
     "metadata": {
      "application/vnd.bokehjs_exec.v0+json": {
       "id": "1971"
      }
     },
     "output_type": "display_data"
    }
   ],
   "source": [
    "# Initialize our plot figure\n",
    "p = figure(title='Some points map')\n",
    "\n",
    "# Add the points to the map from our 'psource' ColumnDataSource -object\n",
    "p.circle('x', 'y', source=psource, size=10)\n",
    "\n",
    "# Show it\n",
    "show(p)"
   ]
  },
  {
   "cell_type": "markdown",
   "metadata": {},
   "source": [
    "Now the last thing is to save our map as html file into our computer."
   ]
  },
  {
   "cell_type": "code",
   "execution_count": 27,
   "metadata": {},
   "outputs": [
    {
     "data": {
      "text/plain": [
       "'C:\\\\Users\\\\ngaik\\\\Documents\\\\gis-training\\\\6_visualizations\\\\more_points.html'"
      ]
     },
     "execution_count": 27,
     "metadata": {},
     "output_type": "execute_result"
    }
   ],
   "source": [
    "# Output filepath\n",
    "outfp = 'more_points.html'\n",
    "\n",
    "# Save the map\n",
    "bokeh.io.output_file(filename=outfp, title='More points map')\n",
    "save(p, filename=outfp)\n"
   ]
  },
  {
   "cell_type": "markdown",
   "metadata": {},
   "source": [
    "## Adding interactivity to the map\n",
    "In Bokeh there are specific set of plot tools that you can add to the plot. Actually all the buttons that you see on the right side of the plot are exactly such tools. It is e.g. possible to interactively show information about the plot objects to the user when placing mouse over an object as you can see from the example on top of this page. The tool that shows information from the plot objects is an inspector called HoverTool that annotate or otherwise report information about the plot, based on the current cursor position.\n",
    "\n",
    "Let’s see now how this can be done.\n",
    "\n",
    "First, we need to initialize `HooverTool`"
   ]
  },
  {
   "cell_type": "code",
   "execution_count": 29,
   "metadata": {},
   "outputs": [],
   "source": [
    "my_hover = HoverTool()"
   ]
  },
  {
   "cell_type": "markdown",
   "metadata": {},
   "source": [
    "Then, we need to tell to the HoverTool that what information it should show to us. These are defined with tooltips like this:"
   ]
  },
  {
   "cell_type": "code",
   "execution_count": 39,
   "metadata": {},
   "outputs": [],
   "source": [
    "my_hover.tooltips = [('Address', '@addr'), ('ID', '@id')]"
   ]
  },
  {
   "cell_type": "markdown",
   "metadata": {},
   "source": [
    "From the above we can see that tooltip should be defined with a list of tuple(s) where the first item is the name or label for the information that will be shown, and the second item is the column-name where that information should be read in your data. The @ character in front of the column-name is important because it tells that the information should be taken from a column named as the text that comes after the character.\n",
    "\n",
    "Lastly we need to add this new tool into our current plot."
   ]
  },
  {
   "cell_type": "code",
   "execution_count": 40,
   "metadata": {},
   "outputs": [],
   "source": [
    "p.add_tools(my_hover)"
   ]
  },
  {
   "cell_type": "markdown",
   "metadata": {},
   "source": [
    "Great! Let’s check again our map version"
   ]
  },
  {
   "cell_type": "code",
   "execution_count": 41,
   "metadata": {},
   "outputs": [
    {
     "data": {
      "text/html": [
       "\n",
       "\n",
       "\n",
       "\n",
       "\n",
       "\n",
       "  <div class=\"bk-root\" id=\"329c8c17-fbd4-4278-9028-3e86acf07402\" data-root-id=\"1971\"></div>\n"
      ]
     },
     "metadata": {},
     "output_type": "display_data"
    },
    {
     "data": {
      "application/javascript": [
       "(function(root) {\n",
       "  function embed_document(root) {\n",
       "    \n",
       "  var docs_json = {\"77d21fde-aa99-45e0-9717-9bef3fc1bcc0\":{\"defs\":[{\"extends\":null,\"module\":null,\"name\":\"DataModel\",\"overrides\":[],\"properties\":[]}],\"roots\":{\"references\":[{\"attributes\":{\"below\":[{\"id\":\"1982\"}],\"center\":[{\"id\":\"1985\"},{\"id\":\"1989\"}],\"left\":[{\"id\":\"1986\"}],\"renderers\":[{\"id\":\"2007\"}],\"title\":{\"id\":\"1972\"},\"toolbar\":{\"id\":\"1997\"},\"x_range\":{\"id\":\"1974\"},\"x_scale\":{\"id\":\"1978\"},\"y_range\":{\"id\":\"1976\"},\"y_scale\":{\"id\":\"1980\"}},\"id\":\"1971\",\"subtype\":\"Figure\",\"type\":\"Plot\"},{\"attributes\":{},\"id\":\"1978\",\"type\":\"LinearScale\"},{\"attributes\":{\"source\":{\"id\":\"1626\"}},\"id\":\"2008\",\"type\":\"CDSView\"},{\"attributes\":{\"data_source\":{\"id\":\"1626\"},\"glyph\":{\"id\":\"2005\"},\"hover_glyph\":null,\"muted_glyph\":null,\"nonselection_glyph\":{\"id\":\"2006\"},\"view\":{\"id\":\"2008\"}},\"id\":\"2007\",\"type\":\"GlyphRenderer\"},{\"attributes\":{\"formatter\":{\"id\":\"2040\"},\"major_label_policy\":{\"id\":\"2042\"},\"ticker\":{\"id\":\"1987\"}},\"id\":\"1986\",\"type\":\"LinearAxis\"},{\"attributes\":{\"data\":{\"addr\":[\"It\\u00e4merenkatu 14, 00101 Helsinki, Finland\",\"Kampinkuja 1, 00100 Helsinki, Finland\",\"Kaivokatu 8, 00101 Helsinki, Finland\",\"Hermannin rantatie 1, 00580 Helsinki, Finland\",\"Tyynenmerenkatu 9, 00220 Helsinki, Finland\",\"Kontulantie 18, 00940 Helsinki, Finland\",\"It\\u00e4v\\u00e4yl\\u00e4 3, 00950 Helsinki, Finland\",\"Tapulikaupungintie 3, 00750 Helsinki, Finland\",\"Sompionpolku 2, 00730 Helsinki, Finland\",\"Atomitie 5, 00370 Helsinki, Finland\",\"Rautatientori 1, 00100 Helsinki, Finland\",\"Kuparitie 8, 00440 Helsinki, Finland\",\"Rumpupolku 8, 00420 Helsinki, Finland\",\"M\\u00e4kitorpantie 1, 00620 Helsinki, Finland\",\"Malminkaari 15, 00700 Helsinki, Finland\",\"Kyl\\u00e4tie 23, 00320 Helsinki, Finland\",\"Malminkartanontie 17, 00410 Helsinki, Finland\",\"Oulunkyl\\u00e4n tori 2b, 00640 Helsinki, Finland\",\"Ratapihantie 6, 00101 Helsinki, Finland\",\"Pit\\u00e4j\\u00e4nm\\u00e4entie 15, 00370 Helsinki, Finland\",\"Eskolantie 2, 00720 Helsinki, Finland\",\"Tattariharjuntie, 00700 Helsinki, Finland\",\"Tallinnanaukio 1, 00930 Helsinki, Finland\",\"Tyynylaavantie 7, 00980 Helsinki, Finland\",\"Myllypurontie 5, 00920 Helsinki, Finland\",\"Mellunm\\u00e4enraitio 6, 00970 Helsinki, Finland\",\"Vaasanpolku 2, 00101 Helsinki, Finland\",\"Hiiht\\u00e4j\\u00e4ntie 2, 00810 Helsinki, Finland\",\"Ukko-Pekan porras 2, 00570 Helsinki, Finland\",\"Siltasaarenkatu 16, 00530 Helsinki, Finland\",\"Urho Kekkosen katu 1, 00100 Helsinki, Finland\",\"Ruoholahdenkatu 17, 00101 Helsinki, Finland\",\"Tyynenmerenkatu 3, 00220 Helsinki, Finland\",\"Vilhonkatu 4, 00101 Helsinki, Finland\"],\"address\":[\"Ruoholahti, 14, It\\u00e4merenkatu, Ruoholahti, L\\u00e4nsisatama, Etel\\u00e4inen suurpiiri, Helsinki, Helsingin seutukunta, Uusimaa, Etel\\u00e4-Suomen aluehallintovirasto, Manner-Suomi, 00180, Suomi / Finland\",\"Kamppi, 1, Kampinkuja, Kamppi, Etel\\u00e4inen suurpiiri, Helsinki, Helsingin seutukunta, Uusimaa, Etel\\u00e4-Suomen aluehallintovirasto, Manner-Suomi, 00100, Suomi / Finland\",\"Kauppakeskus Citycenter, 8, Kaivokatu, Keskusta, Kluuvi, Etel\\u00e4inen suurpiiri, Helsinki, Helsingin seutukunta, Uusimaa, Etel\\u00e4-Suomen aluehallintovirasto, Manner-Suomi, 00100, Suomi / Finland\",\"Hermannin rantatie, Hermanninm\\u00e4ki, Hermanni, Keskinen suurpiiri, Helsinki, Helsingin seutukunta, Uusimaa, Etel\\u00e4-Suomen aluehallintovirasto, Manner-Suomi, 00580, Suomi / Finland\",\"Hesburger, 9, Tyynenmerenkatu, J\\u00e4tk\\u00e4saari, L\\u00e4nsisatama, Etel\\u00e4inen suurpiiri, Helsinki, Helsingin seutukunta, Uusimaa, Etel\\u00e4-Suomen aluehallintovirasto, Manner-Suomi, 00220, Suomi / Finland\",\"18, Kontulantie, Kontula, Mellunkyl\\u00e4, It\\u00e4inen suurpiiri, Helsinki, Helsingin seutukunta, Uusimaa, Etel\\u00e4-Suomen aluehallintovirasto, Manner-Suomi, 00940, Suomi / Finland\",\"It\\u00e4v\\u00e4yl\\u00e4, Vartioharju, Vartiokyl\\u00e4, It\\u00e4inen suurpiiri, Helsinki, Helsingin seutukunta, Uusimaa, Etel\\u00e4-Suomen aluehallintovirasto, Manner-Suomi, 00950, Suomi / Finland\",\"Tapulikaupungintie, Tapulikaupunki, Suutarila, Koillinen suurpiiri, Helsinki, Helsingin seutukunta, Uusimaa, Etel\\u00e4-Suomen aluehallintovirasto, Manner-Suomi, 00750, Suomi / Finland\",\"Sompionpolku, Tapanila, Tapaninkyl\\u00e4, Koillinen suurpiiri, Helsinki, Helsingin seutukunta, Uusimaa, Etel\\u00e4-Suomen aluehallintovirasto, Manner-Suomi, 00730, Suomi / Finland\",\"5, Atomitie, Pit\\u00e4j\\u00e4nm\\u00e4en teollisuusalue, Pit\\u00e4j\\u00e4nm\\u00e4ki, L\\u00e4ntinen suurpiiri, Helsinki, Helsingin seutukunta, Uusimaa, Etel\\u00e4-Suomen aluehallintovirasto, Manner-Suomi, 00370, Suomi / Finland\",\"Rautatientori, 2, Kaivokatu, Keskusta, Kluuvi, Etel\\u00e4inen suurpiiri, Helsinki, Helsingin seutukunta, Uusimaa, Etel\\u00e4-Suomen aluehallintovirasto, Manner-Suomi, 00100, Suomi / Finland\",\"Kuparitie, Lassila, Haaga, L\\u00e4ntinen suurpiiri, Helsinki, Helsingin seutukunta, Uusimaa, Etel\\u00e4-Suomen aluehallintovirasto, Manner-Suomi, 00440, Suomi / Finland\",\"Rumpupolku, Kannelm\\u00e4ki, Kaarela, L\\u00e4ntinen suurpiiri, Helsinki, Helsingin seutukunta, Uusimaa, Etel\\u00e4-Suomen aluehallintovirasto, Manner-Suomi, 00420, Suomi / Finland\",\"K-Supermarket Mustapekka, 1, M\\u00e4kitorpantie, Patola, Oulunkyl\\u00e4, Pohjoinen suurpiiri, Helsinki, Helsingin seutukunta, Uusimaa, Etel\\u00e4-Suomen aluehallintovirasto, Manner-Suomi, 00620, Suomi / Finland\",\"15, Malminkaari, Ala-Malmi, Malmi, Koillinen suurpiiri, Helsinki, Helsingin seutukunta, Uusimaa, Etel\\u00e4-Suomen aluehallintovirasto, Manner-Suomi, 00700, Suomi / Finland\",\"23, Kyl\\u00e4tie, Etel\\u00e4-Haaga, Haaga, L\\u00e4ntinen suurpiiri, Helsinki, Helsingin seutukunta, Uusimaa, Etel\\u00e4-Suomen aluehallintovirasto, Manner-Suomi, 00320, Suomi / Finland\",\"Malminkartanontie, Malminkartano, Kaarela, L\\u00e4ntinen suurpiiri, Helsinki, Helsingin seutukunta, Uusimaa, Etel\\u00e4-Suomen aluehallintovirasto, Manner-Suomi, 00410, Suomi / Finland\",\"Oulunkyl\\u00e4n tori, Patola, Oulunkyl\\u00e4, Pohjoinen suurpiiri, Helsinki, Helsingin seutukunta, Uusimaa, Etel\\u00e4-Suomen aluehallintovirasto, Manner-Suomi, 00640, Suomi / Finland\",\"6, Ratapihantie, It\\u00e4-Pasila, Pasila, Keskinen suurpiiri, Helsinki, Helsingin seutukunta, Uusimaa, Etel\\u00e4-Suomen aluehallintovirasto, Manner-Suomi, 00077, Suomi / Finland\",\"Pizza Benitto, 15, Pit\\u00e4j\\u00e4nm\\u00e4entie, Reimarla, Pit\\u00e4j\\u00e4nm\\u00e4ki, L\\u00e4ntinen suurpiiri, Helsinki, Helsingin seutukunta, Uusimaa, Etel\\u00e4-Suomen aluehallintovirasto, Manner-Suomi, 00370, Suomi / Finland\",\"K-Market Pukinm\\u00e4ki, 2, Eskolantie, Savela, Pukinm\\u00e4ki, Koillinen suurpiiri, Helsinki, Helsingin seutukunta, Uusimaa, Etel\\u00e4-Suomen aluehallintovirasto, Manner-Suomi, 00720, Suomi / Finland\",\"Tattariharjuntie, Ala-Malmi, Malmi, Koillinen suurpiiri, Helsinki, Helsingin seutukunta, Uusimaa, Etel\\u00e4-Suomen aluehallintovirasto, Manner-Suomi, 00700, Suomi / Finland\",\"Danske Bank, 1, Tallinnanaukio, It\\u00e4keskus, Vartiokyl\\u00e4, It\\u00e4inen suurpiiri, Helsinki, Helsingin seutukunta, Uusimaa, Etel\\u00e4-Suomen aluehallintovirasto, Manner-Suomi, 00930, Suomi / Finland\",\"Tyynylaavantie, Keski-Vuosaari, Vuosaari, It\\u00e4inen suurpiiri, Helsinki, Helsingin seutukunta, Uusimaa, Etel\\u00e4-Suomen aluehallintovirasto, Manner-Suomi, 00980, Suomi / Finland\",\"Myllypurontie, Myllypuro, Vartiokyl\\u00e4, It\\u00e4inen suurpiiri, Helsinki, Helsingin seutukunta, Uusimaa, Etel\\u00e4-Suomen aluehallintovirasto, Manner-Suomi, 00920, Suomi / Finland\",\"Mellunm\\u00e4enraitio, Mellunm\\u00e4ki, Mellunkyl\\u00e4, It\\u00e4inen suurpiiri, Helsinki, Helsingin seutukunta, Uusimaa, Etel\\u00e4-Suomen aluehallintovirasto, Manner-Suomi, 00970, Suomi / Finland\",\"Vaasanpolku, Harju, Alppiharju, Keskinen suurpiiri, Helsinki, Helsingin seutukunta, Uusimaa, Etel\\u00e4-Suomen aluehallintovirasto, Manner-Suomi, 00500, Suomi / Finland\",\"Alko Herttoniemi Hertta, 2, Hiiht\\u00e4j\\u00e4ntie, L\\u00e4nsi-Herttoniemi, Herttoniemi, Kaakkoinen suurpiiri, Helsinki, Helsingin seutukunta, Uusimaa, Etel\\u00e4-Suomen aluehallintovirasto, Manner-Suomi, 00810, Suomi / Finland\",\"Metro Kulosaari, 2, Ukko-Pekan porras, Kulosaari, Kaakkoinen suurpiiri, Helsinki, Helsingin seutukunta, Uusimaa, Etel\\u00e4-Suomen aluehallintovirasto, Manner-Suomi, 00570, Suomi / Finland\",\"Instrumentarium Hakaniemi, 16, Siltasaarenkatu, Siltasaari, Kallio, Keskinen suurpiiri, Helsinki, Helsingin seutukunta, Uusimaa, Etel\\u00e4-Suomen aluehallintovirasto, Manner-Suomi, 00530, Suomi / Finland\",\"Kampin keskus, 1, Urho Kekkosen katu, Kamppi, Etel\\u00e4inen suurpiiri, Helsinki, Helsingin seutukunta, Uusimaa, Etel\\u00e4-Suomen aluehallintovirasto, Manner-Suomi, 00100, Suomi / Finland\",\"Ruoholahdenkatu, Hietalahti, Kamppi, Etel\\u00e4inen suurpiiri, Helsinki, Helsingin seutukunta, Uusimaa, Etel\\u00e4-Suomen aluehallintovirasto, Manner-Suomi, 00180, Suomi / Finland\",\"Easy Cycles, 3, Tyynenmerenkatu, J\\u00e4tk\\u00e4saari, L\\u00e4nsisatama, Etel\\u00e4inen suurpiiri, Helsinki, Helsingin seutukunta, Uusimaa, Etel\\u00e4-Suomen aluehallintovirasto, Manner-Suomi, 00220, Suomi / Finland\",\"Oluthuone Kaisla, 4, Vilhonkatu, Kaisaniemi, Kluuvi, Etel\\u00e4inen suurpiiri, Helsinki, Helsingin seutukunta, Uusimaa, Etel\\u00e4-Suomen aluehallintovirasto, Manner-Suomi, 00100, Suomi / Finland\"],\"id\":[1000,1001,1002,1003,1005,1006,1007,1008,1009,1010,1011,1012,1013,1014,1015,1016,1017,1018,1019,1020,1021,1022,1023,1024,1025,1026,1027,1028,1029,1030,1031,1032,1033,1034],\"index\":[0,1,2,3,4,5,6,7,8,9,10,11,12,13,14,15,16,17,18,19,20,21,22,23,24,25,26,27,28,29,30,31,32,33],\"x\":{\"__ndarray__\":\"gHIlTGLqOEDm9txTg+44QBkqFDwZ8ThAtGREWEP6OEDae0z/7es4QJYaCtXsFDlAnYlE/B4cOUBxZ3Cl6Ag5QNsLFphfBzlA92MvjznfOEBGyVC6mfA4QE35aw0A4jhA1tC80ujgOEDz8FR2sPI4QJg76TNWAzlAb6hwBunkOEBF1hpK7d04QG6h0Fc19zhARnZKrDHvOEA6+qk7YNw4QI4Y4v1d/jhAHcHXIUgFOUAQxB5/DhQ5QBoJfmXvIjlAlG07yEYTOUAER7h/Gxw5QAhUpGcf9jhAc7GzMisHOUA5WKQuvgE5QGziicUU8zhAiqyiqeDuOEB7Ngb4yew4QJT9Tu7S6zhAWf1sP3TyOEA=\",\"dtype\":\"float64\",\"order\":\"little\",\"shape\":[34]},\"y\":{\"__ndarray__\":\"PpRoyeMUTkAkpvqEohVOQF2htNy+FU5ABZYSOMgYTkAFwHgGDRROQMKcRZQbHk5A0Lx3L1IcTkAaOtEJ/CJOQOEjB5GxIU5AYwys43gcTkDS3/AnzxVOQBhiUAGLHU5AM4HHXL4eTkADk8CLYxxOQHLFIAssIE5AzPdCt80bTkATNvIvOCBOQLjI4qNqHU5AC/VPy2oZTkC5iO/ErBxOQJQZyuQvH05AbKaMySwfTkArildZ2xpOQJRGcTOBGk5Ae9FovL4cTkAlZqzscR5OQDHvcaYJGE5AfWjVnd0YTkDs2RjgJxhOQAPqzaj5Fk5AuEX0xqQVTkBcWDfeHRVOQIwXZvxWFE5AvoAD/wAWTkA=\",\"dtype\":\"float64\",\"order\":\"little\",\"shape\":[34]}},\"selected\":{\"id\":\"1630\"},\"selection_policy\":{\"id\":\"1629\"}},\"id\":\"1626\",\"type\":\"ColumnDataSource\"},{\"attributes\":{\"axis\":{\"id\":\"1986\"},\"dimension\":1,\"ticker\":null},\"id\":\"1989\",\"type\":\"Grid\"},{\"attributes\":{},\"id\":\"1983\",\"type\":\"BasicTicker\"},{\"attributes\":{\"text\":\"Some points map\"},\"id\":\"1972\",\"type\":\"Title\"},{\"attributes\":{\"axis\":{\"id\":\"1982\"},\"ticker\":null},\"id\":\"1985\",\"type\":\"Grid\"},{\"attributes\":{},\"id\":\"1980\",\"type\":\"LinearScale\"},{\"attributes\":{},\"id\":\"2040\",\"type\":\"BasicTickFormatter\"},{\"attributes\":{},\"id\":\"1995\",\"type\":\"HelpTool\"},{\"attributes\":{\"formatter\":{\"id\":\"2043\"},\"major_label_policy\":{\"id\":\"2045\"},\"ticker\":{\"id\":\"1983\"}},\"id\":\"1982\",\"type\":\"LinearAxis\"},{\"attributes\":{},\"id\":\"2042\",\"type\":\"AllLabels\"},{\"attributes\":{},\"id\":\"1987\",\"type\":\"BasicTicker\"},{\"attributes\":{\"callback\":null,\"tooltips\":[[\"Address\",\"@addr\"],[\"ID\",\"@id\"]]},\"id\":\"2321\",\"type\":\"HoverTool\"},{\"attributes\":{\"active_multi\":null,\"tools\":[{\"id\":\"1990\"},{\"id\":\"1991\"},{\"id\":\"1992\"},{\"id\":\"1993\"},{\"id\":\"1994\"},{\"id\":\"1995\"},{\"id\":\"2321\"},{\"id\":\"2321\"},{\"id\":\"2321\"},{\"id\":\"2321\"}]},\"id\":\"1997\",\"type\":\"Toolbar\"},{\"attributes\":{},\"id\":\"1991\",\"type\":\"WheelZoomTool\"},{\"attributes\":{},\"id\":\"1990\",\"type\":\"PanTool\"},{\"attributes\":{\"fill_color\":{\"value\":\"#1f77b4\"},\"line_color\":{\"value\":\"#1f77b4\"},\"size\":{\"value\":10},\"x\":{\"field\":\"x\"},\"y\":{\"field\":\"y\"}},\"id\":\"2005\",\"type\":\"Circle\"},{\"attributes\":{\"overlay\":{\"id\":\"1996\"}},\"id\":\"1992\",\"type\":\"BoxZoomTool\"},{\"attributes\":{},\"id\":\"1993\",\"type\":\"SaveTool\"},{\"attributes\":{},\"id\":\"2043\",\"type\":\"BasicTickFormatter\"},{\"attributes\":{},\"id\":\"1974\",\"type\":\"DataRange1d\"},{\"attributes\":{},\"id\":\"1994\",\"type\":\"ResetTool\"},{\"attributes\":{},\"id\":\"2045\",\"type\":\"AllLabels\"},{\"attributes\":{},\"id\":\"1976\",\"type\":\"DataRange1d\"},{\"attributes\":{},\"id\":\"1629\",\"type\":\"UnionRenderers\"},{\"attributes\":{\"bottom_units\":\"screen\",\"fill_alpha\":0.5,\"fill_color\":\"lightgrey\",\"left_units\":\"screen\",\"level\":\"overlay\",\"line_alpha\":1.0,\"line_color\":\"black\",\"line_dash\":[4,4],\"line_width\":2,\"right_units\":\"screen\",\"syncable\":false,\"top_units\":\"screen\"},\"id\":\"1996\",\"type\":\"BoxAnnotation\"},{\"attributes\":{},\"id\":\"1630\",\"type\":\"Selection\"},{\"attributes\":{\"fill_alpha\":{\"value\":0.1},\"fill_color\":{\"value\":\"#1f77b4\"},\"line_alpha\":{\"value\":0.1},\"line_color\":{\"value\":\"#1f77b4\"},\"size\":{\"value\":10},\"x\":{\"field\":\"x\"},\"y\":{\"field\":\"y\"}},\"id\":\"2006\",\"type\":\"Circle\"}],\"root_ids\":[\"1971\"]},\"title\":\"Bokeh Application\",\"version\":\"2.3.0\"}};\n",
       "  var render_items = [{\"docid\":\"77d21fde-aa99-45e0-9717-9bef3fc1bcc0\",\"root_ids\":[\"1971\"],\"roots\":{\"1971\":\"329c8c17-fbd4-4278-9028-3e86acf07402\"}}];\n",
       "  root.Bokeh.embed.embed_items_notebook(docs_json, render_items);\n",
       "\n",
       "  }\n",
       "  if (root.Bokeh !== undefined) {\n",
       "    embed_document(root);\n",
       "  } else {\n",
       "    var attempts = 0;\n",
       "    var timer = setInterval(function(root) {\n",
       "      if (root.Bokeh !== undefined) {\n",
       "        clearInterval(timer);\n",
       "        embed_document(root);\n",
       "      } else {\n",
       "        attempts++;\n",
       "        if (attempts > 100) {\n",
       "          clearInterval(timer);\n",
       "          console.log(\"Bokeh: ERROR: Unable to run BokehJS code because BokehJS library is missing\");\n",
       "        }\n",
       "      }\n",
       "    }, 10, root)\n",
       "  }\n",
       "})(window);"
      ],
      "application/vnd.bokehjs_exec.v0+json": ""
     },
     "metadata": {
      "application/vnd.bokehjs_exec.v0+json": {
       "id": "1971"
      }
     },
     "output_type": "display_data"
    }
   ],
   "source": [
    "show(p)"
   ]
  },
  {
   "cell_type": "markdown",
   "metadata": {},
   "source": [
    "## Line map\n",
    "Now we have made a nice point map out of a Shapefile. Let’s see how we can make an interactive map out of a Shapefile that represents metro lines in Helsinki. We follow the same steps than before, i.e. \n",
    "\n",
    "1) read the data,   \n",
    "2) calculate x and y coordinates,   \n",
    "3) convert the DataFrame into a ColumnDataSource,  \n",
    "4) make the map and save it as html.\n",
    "\n",
    "Read the data using geopandas which is the first step."
   ]
  },
  {
   "cell_type": "code",
   "execution_count": 43,
   "metadata": {},
   "outputs": [
    {
     "ename": "DriverError",
     "evalue": "..\\data\\Helsinki_metro\\metro.shp: No such file or directory",
     "output_type": "error",
     "traceback": [
      "\u001b[1;31m---------------------------------------------------------------------------\u001b[0m",
      "\u001b[1;31mCPLE_OpenFailedError\u001b[0m                      Traceback (most recent call last)",
      "\u001b[1;32mfiona/_shim.pyx\u001b[0m in \u001b[0;36mfiona._shim.gdal_open_vector\u001b[1;34m()\u001b[0m\n",
      "\u001b[1;32mfiona/_err.pyx\u001b[0m in \u001b[0;36mfiona._err.exc_wrap_pointer\u001b[1;34m()\u001b[0m\n",
      "\u001b[1;31mCPLE_OpenFailedError\u001b[0m: ..\\data\\Helsinki_metro\\metro.shp: No such file or directory",
      "\nDuring handling of the above exception, another exception occurred:\n",
      "\u001b[1;31mDriverError\u001b[0m                               Traceback (most recent call last)",
      "\u001b[1;32m<ipython-input-43-d30a8322a71a>\u001b[0m in \u001b[0;36m<module>\u001b[1;34m\u001b[0m\n\u001b[0;32m      3\u001b[0m \u001b[1;33m\u001b[0m\u001b[0m\n\u001b[0;32m      4\u001b[0m \u001b[1;31m# Read the data\u001b[0m\u001b[1;33m\u001b[0m\u001b[1;33m\u001b[0m\u001b[1;33m\u001b[0m\u001b[0m\n\u001b[1;32m----> 5\u001b[1;33m \u001b[0mmetro\u001b[0m \u001b[1;33m=\u001b[0m \u001b[0mgpd\u001b[0m\u001b[1;33m.\u001b[0m\u001b[0mread_file\u001b[0m\u001b[1;33m(\u001b[0m\u001b[0mos\u001b[0m\u001b[1;33m.\u001b[0m\u001b[0mpath\u001b[0m\u001b[1;33m.\u001b[0m\u001b[0mjoin\u001b[0m\u001b[1;33m(\u001b[0m\u001b[1;33m*\u001b[0m\u001b[0mmetro_fp\u001b[0m\u001b[1;33m)\u001b[0m\u001b[1;33m)\u001b[0m\u001b[1;33m\u001b[0m\u001b[1;33m\u001b[0m\u001b[0m\n\u001b[0m\u001b[0;32m      6\u001b[0m \u001b[1;33m\u001b[0m\u001b[0m\n\u001b[0;32m      7\u001b[0m \u001b[1;31m# Let's see what we have\u001b[0m\u001b[1;33m\u001b[0m\u001b[1;33m\u001b[0m\u001b[1;33m\u001b[0m\u001b[0m\n",
      "\u001b[1;32m~\\.conda\\envs\\gisenv\\lib\\site-packages\\geopandas\\io\\file.py\u001b[0m in \u001b[0;36m_read_file\u001b[1;34m(filename, bbox, mask, rows, **kwargs)\u001b[0m\n\u001b[0;32m    158\u001b[0m \u001b[1;33m\u001b[0m\u001b[0m\n\u001b[0;32m    159\u001b[0m     \u001b[1;32mwith\u001b[0m \u001b[0mfiona_env\u001b[0m\u001b[1;33m(\u001b[0m\u001b[1;33m)\u001b[0m\u001b[1;33m:\u001b[0m\u001b[1;33m\u001b[0m\u001b[1;33m\u001b[0m\u001b[0m\n\u001b[1;32m--> 160\u001b[1;33m         \u001b[1;32mwith\u001b[0m \u001b[0mreader\u001b[0m\u001b[1;33m(\u001b[0m\u001b[0mpath_or_bytes\u001b[0m\u001b[1;33m,\u001b[0m \u001b[1;33m**\u001b[0m\u001b[0mkwargs\u001b[0m\u001b[1;33m)\u001b[0m \u001b[1;32mas\u001b[0m \u001b[0mfeatures\u001b[0m\u001b[1;33m:\u001b[0m\u001b[1;33m\u001b[0m\u001b[1;33m\u001b[0m\u001b[0m\n\u001b[0m\u001b[0;32m    161\u001b[0m \u001b[1;33m\u001b[0m\u001b[0m\n\u001b[0;32m    162\u001b[0m             \u001b[1;31m# In a future Fiona release the crs attribute of features will\u001b[0m\u001b[1;33m\u001b[0m\u001b[1;33m\u001b[0m\u001b[1;33m\u001b[0m\u001b[0m\n",
      "\u001b[1;32m~\\.conda\\envs\\gisenv\\lib\\site-packages\\fiona\\env.py\u001b[0m in \u001b[0;36mwrapper\u001b[1;34m(*args, **kwargs)\u001b[0m\n\u001b[0;32m    398\u001b[0m     \u001b[1;32mdef\u001b[0m \u001b[0mwrapper\u001b[0m\u001b[1;33m(\u001b[0m\u001b[1;33m*\u001b[0m\u001b[0margs\u001b[0m\u001b[1;33m,\u001b[0m \u001b[1;33m**\u001b[0m\u001b[0mkwargs\u001b[0m\u001b[1;33m)\u001b[0m\u001b[1;33m:\u001b[0m\u001b[1;33m\u001b[0m\u001b[1;33m\u001b[0m\u001b[0m\n\u001b[0;32m    399\u001b[0m         \u001b[1;32mif\u001b[0m \u001b[0mlocal\u001b[0m\u001b[1;33m.\u001b[0m\u001b[0m_env\u001b[0m\u001b[1;33m:\u001b[0m\u001b[1;33m\u001b[0m\u001b[1;33m\u001b[0m\u001b[0m\n\u001b[1;32m--> 400\u001b[1;33m             \u001b[1;32mreturn\u001b[0m \u001b[0mf\u001b[0m\u001b[1;33m(\u001b[0m\u001b[1;33m*\u001b[0m\u001b[0margs\u001b[0m\u001b[1;33m,\u001b[0m \u001b[1;33m**\u001b[0m\u001b[0mkwargs\u001b[0m\u001b[1;33m)\u001b[0m\u001b[1;33m\u001b[0m\u001b[1;33m\u001b[0m\u001b[0m\n\u001b[0m\u001b[0;32m    401\u001b[0m         \u001b[1;32melse\u001b[0m\u001b[1;33m:\u001b[0m\u001b[1;33m\u001b[0m\u001b[1;33m\u001b[0m\u001b[0m\n\u001b[0;32m    402\u001b[0m             \u001b[1;32mif\u001b[0m \u001b[0misinstance\u001b[0m\u001b[1;33m(\u001b[0m\u001b[0margs\u001b[0m\u001b[1;33m[\u001b[0m\u001b[1;36m0\u001b[0m\u001b[1;33m]\u001b[0m\u001b[1;33m,\u001b[0m \u001b[0mstr\u001b[0m\u001b[1;33m)\u001b[0m\u001b[1;33m:\u001b[0m\u001b[1;33m\u001b[0m\u001b[1;33m\u001b[0m\u001b[0m\n",
      "\u001b[1;32m~\\.conda\\envs\\gisenv\\lib\\site-packages\\fiona\\__init__.py\u001b[0m in \u001b[0;36mopen\u001b[1;34m(fp, mode, driver, schema, crs, encoding, layer, vfs, enabled_drivers, crs_wkt, **kwargs)\u001b[0m\n\u001b[0;32m    254\u001b[0m \u001b[1;33m\u001b[0m\u001b[0m\n\u001b[0;32m    255\u001b[0m         \u001b[1;32mif\u001b[0m \u001b[0mmode\u001b[0m \u001b[1;32min\u001b[0m \u001b[1;33m(\u001b[0m\u001b[1;34m'a'\u001b[0m\u001b[1;33m,\u001b[0m \u001b[1;34m'r'\u001b[0m\u001b[1;33m)\u001b[0m\u001b[1;33m:\u001b[0m\u001b[1;33m\u001b[0m\u001b[1;33m\u001b[0m\u001b[0m\n\u001b[1;32m--> 256\u001b[1;33m             c = Collection(path, mode, driver=driver, encoding=encoding,\n\u001b[0m\u001b[0;32m    257\u001b[0m                            layer=layer, enabled_drivers=enabled_drivers, **kwargs)\n\u001b[0;32m    258\u001b[0m         \u001b[1;32melif\u001b[0m \u001b[0mmode\u001b[0m \u001b[1;33m==\u001b[0m \u001b[1;34m'w'\u001b[0m\u001b[1;33m:\u001b[0m\u001b[1;33m\u001b[0m\u001b[1;33m\u001b[0m\u001b[0m\n",
      "\u001b[1;32m~\\.conda\\envs\\gisenv\\lib\\site-packages\\fiona\\collection.py\u001b[0m in \u001b[0;36m__init__\u001b[1;34m(self, path, mode, driver, schema, crs, encoding, layer, vsi, archive, enabled_drivers, crs_wkt, ignore_fields, ignore_geometry, **kwargs)\u001b[0m\n\u001b[0;32m    160\u001b[0m             \u001b[1;32mif\u001b[0m \u001b[0mself\u001b[0m\u001b[1;33m.\u001b[0m\u001b[0mmode\u001b[0m \u001b[1;33m==\u001b[0m \u001b[1;34m'r'\u001b[0m\u001b[1;33m:\u001b[0m\u001b[1;33m\u001b[0m\u001b[1;33m\u001b[0m\u001b[0m\n\u001b[0;32m    161\u001b[0m                 \u001b[0mself\u001b[0m\u001b[1;33m.\u001b[0m\u001b[0msession\u001b[0m \u001b[1;33m=\u001b[0m \u001b[0mSession\u001b[0m\u001b[1;33m(\u001b[0m\u001b[1;33m)\u001b[0m\u001b[1;33m\u001b[0m\u001b[1;33m\u001b[0m\u001b[0m\n\u001b[1;32m--> 162\u001b[1;33m                 \u001b[0mself\u001b[0m\u001b[1;33m.\u001b[0m\u001b[0msession\u001b[0m\u001b[1;33m.\u001b[0m\u001b[0mstart\u001b[0m\u001b[1;33m(\u001b[0m\u001b[0mself\u001b[0m\u001b[1;33m,\u001b[0m \u001b[1;33m**\u001b[0m\u001b[0mkwargs\u001b[0m\u001b[1;33m)\u001b[0m\u001b[1;33m\u001b[0m\u001b[1;33m\u001b[0m\u001b[0m\n\u001b[0m\u001b[0;32m    163\u001b[0m             \u001b[1;32melif\u001b[0m \u001b[0mself\u001b[0m\u001b[1;33m.\u001b[0m\u001b[0mmode\u001b[0m \u001b[1;32min\u001b[0m \u001b[1;33m(\u001b[0m\u001b[1;34m'a'\u001b[0m\u001b[1;33m,\u001b[0m \u001b[1;34m'w'\u001b[0m\u001b[1;33m)\u001b[0m\u001b[1;33m:\u001b[0m\u001b[1;33m\u001b[0m\u001b[1;33m\u001b[0m\u001b[0m\n\u001b[0;32m    164\u001b[0m                 \u001b[0mself\u001b[0m\u001b[1;33m.\u001b[0m\u001b[0msession\u001b[0m \u001b[1;33m=\u001b[0m \u001b[0mWritingSession\u001b[0m\u001b[1;33m(\u001b[0m\u001b[1;33m)\u001b[0m\u001b[1;33m\u001b[0m\u001b[1;33m\u001b[0m\u001b[0m\n",
      "\u001b[1;32mfiona/ogrext.pyx\u001b[0m in \u001b[0;36mfiona.ogrext.Session.start\u001b[1;34m()\u001b[0m\n",
      "\u001b[1;32mfiona/_shim.pyx\u001b[0m in \u001b[0;36mfiona._shim.gdal_open_vector\u001b[1;34m()\u001b[0m\n",
      "\u001b[1;31mDriverError\u001b[0m: ..\\data\\Helsinki_metro\\metro.shp: No such file or directory"
     ]
    }
   ],
   "source": [
    "# File path\n",
    "metro_fp = [\"..\", \"data\", \"Helsinki_metro\", \"metro.shp\"]\n",
    "\n",
    "# Read the data\n",
    "metro = gpd.read_file(os.path.join(*metro_fp))\n",
    "\n",
    "# Let's see what we have\n",
    "metro.head()"
   ]
  },
  {
   "cell_type": "markdown",
   "metadata": {},
   "source": [
    "We have the address and id columns plus the geometry column as attributes.\n",
    "\n",
    "Second step is where **calculate the x and y coordinates of the nodes of our lines**.\n",
    "\n",
    "Let’s create our own function called `getLineCoords()` in a similar manner as previously but now we need to modify it a bit so that we can get coordinates out of the Shapely LineString object.\n",
    "\n",
    "\n"
   ]
  },
  {
   "cell_type": "code",
   "execution_count": null,
   "metadata": {},
   "outputs": [],
   "source": [
    "def getLineCoords(None):\n",
    "    \"\"\"Returns a list of coordinates ('x' or 'y') of a LineString geometry\"\"\"\n",
    "\n",
    "    "
   ]
  },
  {
   "cell_type": "markdown",
   "metadata": {},
   "source": [
    "Let’s now apply our function in a similar manner as previously."
   ]
  },
  {
   "cell_type": "code",
   "execution_count": null,
   "metadata": {},
   "outputs": [],
   "source": [
    "# Calculate x coordinates of the line\n",
    "metro['x'] = None\n",
    "\n",
    "# Calculate y coordinates of the line\n",
    "metro['y'] = None\n",
    "\n",
    "# Let's see what we have now\n",
    "metro.head()"
   ]
  },
  {
   "cell_type": "markdown",
   "metadata": {},
   "source": [
    "The third step. Convert the DataFrame (without geometry column) into a ColumnDataSource which, as you remember, is a Bokeh-specific way of storing the data."
   ]
  },
  {
   "cell_type": "code",
   "execution_count": null,
   "metadata": {},
   "outputs": [],
   "source": [
    "# Make a copy and drop the geometry column\n",
    "m_df = None\n",
    "\n",
    "# Point DataSource\n",
    "msource = None"
   ]
  },
  {
   "cell_type": "markdown",
   "metadata": {},
   "source": [
    "Finally, we can make a map of the metro line and save it in a similar manner as earlier but now instead of plotting circle we need to use a `.multiline()` -object. Let’s define the `line_width` to be 3."
   ]
  },
  {
   "cell_type": "code",
   "execution_count": null,
   "metadata": {},
   "outputs": [],
   "source": [
    "# Initialize our plot figure\n",
    "\n",
    "\n",
    "# Add the lines to the map from our 'msource' ColumnDataSource -object\n",
    "\n",
    "\n",
    "# Show it\n"
   ]
  },
  {
   "cell_type": "markdown",
   "metadata": {},
   "source": [
    "## Polygon map with Points and Lines\n",
    "\n",
    "It is of course possible to add different layers on top of each other. Let’s visualize a map showing accessibility in Helsinki Region and place a metro line and the address points on top of that.\n",
    "\n",
    "1st step: Import necessary modules and read the Shapefiles."
   ]
  },
  {
   "cell_type": "code",
   "execution_count": null,
   "metadata": {},
   "outputs": [],
   "source": [
    "# File paths\n",
    "grid_fp = [\"..\", \"data\", \"Travel_times\", \"TravelTimes_to_5975375_RailwayStation.shp\"]\n",
    "point_fp = [\"..\", \"data\", \"Addresses\", \"addresses.shp\"]\n",
    "metro_fp = [\"..\", \"data\", \"Helsinki_metro\", \"metro.shp\"]\n",
    "\n",
    "# Read files\n",
    "grid = gpd.read_file(os.path.join(*grid_fp))\n",
    "points = gpd.read_file(os.path.join(*point_fp))\n",
    "metro = gpd.read_file(os.path.join(*metro_fp))"
   ]
  },
  {
   "cell_type": "markdown",
   "metadata": {},
   "source": [
    "As usual, we need to make sure that the coordinate reference system is the same in every one of the layers. Let’s use the CRS of the grid layer and apply it to our points and metro line."
   ]
  },
  {
   "cell_type": "code",
   "execution_count": null,
   "metadata": {},
   "outputs": [],
   "source": [
    "# Get the CRS of our grid\n",
    "CRS = None\n",
    "\n"
   ]
  },
  {
   "cell_type": "code",
   "execution_count": null,
   "metadata": {},
   "outputs": [],
   "source": [
    "# Convert the geometries of metro line and points into that one\n",
    "points = None\n",
    "metro = None"
   ]
  },
  {
   "cell_type": "markdown",
   "metadata": {},
   "source": [
    "Let's check"
   ]
  },
  {
   "cell_type": "code",
   "execution_count": null,
   "metadata": {},
   "outputs": [],
   "source": [
    "# Check if CRS are equal\n"
   ]
  },
  {
   "cell_type": "markdown",
   "metadata": {},
   "source": [
    "Let’s proceed and parse the x and y values of our grid. Let’s create own function for that as well."
   ]
  },
  {
   "cell_type": "code",
   "execution_count": null,
   "metadata": {},
   "outputs": [],
   "source": [
    "def getPolyCoords(None):\n",
    "    \"\"\"Returns the coordinates ('x' or 'y') of edges of a Polygon exterior\"\"\"\n",
    "\n",
    "    # Parse the exterior of the coordinate\n",
    "\n",
    "\n",
    "        # Get the x coordinates of the exterior\n",
    "\n",
    "        \n",
    "        # Get the y coordinates of the exterior\n"
   ]
  },
  {
   "cell_type": "markdown",
   "metadata": {},
   "source": [
    "2nd step: Let’s now apply the functions that we have created and parse the x and y coordinates for all of our datasets."
   ]
  },
  {
   "cell_type": "code",
   "execution_count": null,
   "metadata": {},
   "outputs": [],
   "source": [
    "# Get the Polygon x and y coordinates\n",
    "grid['x'] = None\n",
    "grid['y'] = None\n",
    "\n",
    "# Calculate x and y coordinates of the line\n",
    "metro['x'] = None\n",
    "metro['y'] = None\n",
    "\n",
    "# Calculate x and y coordinates of the points\n",
    "points['x'] = None\n",
    "points['y'] = None"
   ]
  },
  {
   "cell_type": "markdown",
   "metadata": {},
   "source": [
    "Now we have x and y coordinates for all of our datasets. Let’s see how our grid coordinates look like."
   ]
  },
  {
   "cell_type": "code",
   "execution_count": null,
   "metadata": {},
   "outputs": [],
   "source": [
    "# Show only head of x and y columns\n"
   ]
  },
  {
   "cell_type": "markdown",
   "metadata": {},
   "source": [
    "Let’s now classify the travel times of our grid int 5 minute intervals until 200 minutes using a mapsal classifier called `User_Defined` that allows to set our own criteria for class intervals. But first we need to replace the No Data values with a large number so that they wouldn’t be seen as the “best” accessible areas."
   ]
  },
  {
   "cell_type": "code",
   "execution_count": null,
   "metadata": {},
   "outputs": [],
   "source": []
  },
  {
   "cell_type": "code",
   "execution_count": null,
   "metadata": {},
   "outputs": [],
   "source": [
    "# Replace No Data values (-1) with large number (999)\n",
    "grid = None\n",
    "\n",
    "# Classify our travel times into 5 minute classes until 200 minutes\n",
    "# Create a list of values where minumum value is 5, maximum value is 200 and step is 5.\n",
    "breaks = None\n",
    "\n",
    "# Initialize the classifier and apply it\n",
    "classifier = None\n",
    "pt_classif = None\n",
    "\n",
    "# Rename the classified column\n",
    "pt_classif.columns = None\n",
    "\n",
    "# Join it back to the grid layer\n",
    "grid = None"
   ]
  },
  {
   "cell_type": "code",
   "execution_count": null,
   "metadata": {},
   "outputs": [],
   "source": [
    "# Let's check what we have\n"
   ]
  },
  {
   "cell_type": "markdown",
   "metadata": {},
   "source": [
    "3rd step: Let’s now convert our GeoDataFrames into Bokeh ColumnDataSources (without geometry columns)"
   ]
  },
  {
   "cell_type": "code",
   "execution_count": null,
   "metadata": {},
   "outputs": [],
   "source": [
    "# Make a copy, drop the geometry column and create ColumnDataSource\n",
    "m_df = None\n",
    "msource = None\n",
    "\n",
    "# Make a copy, drop the geometry column and create ColumnDataSource\n",
    "p_df = None\n",
    "psource = None\n",
    "\n",
    "# Make a copy, drop the geometry column and create ColumnDataSource\n",
    "g_df = None\n",
    "gsource = None"
   ]
  },
  {
   "cell_type": "markdown",
   "metadata": {},
   "source": [
    "4th step: For visualizing the Polygons we need to define the color palette that we are going to use. There are many different ones available but we are now going to use a palette called `RdYlBu` and use eleven color-classes for the values (defined as `RdYlBu11`). Let’s prepare our color_mapper."
   ]
  },
  {
   "cell_type": "code",
   "execution_count": null,
   "metadata": {},
   "outputs": [],
   "source": [
    "# Let's first do some coloring magic that converts the color palet into map numbers (it's okey not to understand)\n",
    "\n",
    "\n",
    "# Create the color mapper\n",
    "color_mapper = None"
   ]
  },
  {
   "cell_type": "markdown",
   "metadata": {},
   "source": [
    "Now we are ready to visualize our polygons and add the metro line and the points on top of that. Polygons are visualized using patches objects in Bokeh."
   ]
  },
  {
   "cell_type": "code",
   "execution_count": null,
   "metadata": {},
   "outputs": [],
   "source": [
    "# Initialize our figure\n",
    "\n",
    "\n",
    "# Plot grid\n",
    "\n",
    "\n",
    "\n",
    "# Add metro on top of the same figure\n",
    "\n",
    "\n",
    "# Add points on top (as black points)\n",
    "\n",
    "\n",
    "# Show it\n"
   ]
  }
 ],
 "metadata": {
  "kernelspec": {
   "display_name": "Python 3",
   "language": "python",
   "name": "python3"
  },
  "language_info": {
   "codemirror_mode": {
    "name": "ipython",
    "version": 3
   },
   "file_extension": ".py",
   "mimetype": "text/x-python",
   "name": "python",
   "nbconvert_exporter": "python",
   "pygments_lexer": "ipython3",
   "version": "3.9.2"
  }
 },
 "nbformat": 4,
 "nbformat_minor": 2
}
