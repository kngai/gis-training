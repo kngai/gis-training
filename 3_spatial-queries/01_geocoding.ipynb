{
 "cells": [
  {
   "cell_type": "markdown",
   "metadata": {},
   "source": [
    "# Geocoding \n",
    "\n",
    "**Credit:**\n",
    "\n",
    "[Vuokko Heikinheimo, Henrikki Tenkanen](https://automating-gis-processes.github.io/)  \n",
    "Department of Geosciences & Geography, University of Helsinki  "
   ]
  },
  {
   "cell_type": "markdown",
   "metadata": {},
   "source": [
    "Geocoding is the process of transforming place names or addresses into coordinates. In this lesson we will learn how to geocode addresses using Geopandas and [geopy](https://geopy.readthedocs.io/en/stable/).\n",
    "\n",
    "Geopy and other geocoding libaries (such as [geocoder](http://geocoder.readthedocs.io/))\n",
    "make it easy to locate the coordinates of addresses, cities, countries, and landmarks across the globe using web services (\"geocoders\"). In practice, geocoders are often Application Programming Interfaces (APIs) where you can send requests, and receive responses in the form of place names, addresses and coordinates.\n",
    "\n",
    "Geopy offers access to several geocoding services, including:\n",
    "\n",
    "* [ESRI ArcGIS](https://developers.arcgis.com/rest/geocode/api-reference/overview-world-geocoding-service.htm)\n",
    "* [Baidu Maps](http://lbsyun.baidu.com/index.php?title=webapi/guide/webservice-geocoding)\n",
    "* [Bing](https://msdn.microsoft.com/en-us/library/ff701715.aspx)\n",
    "* [GeocodeFarm](https://www.geocode.farm/geocoding/free-api-documentation/)\n",
    "* [GeoNames](http://www.geonames.org/export/geonames-search.html)\n",
    "* [Google Geocoding API (V3)](https://developers.google.com/maps/documentation/geocoding/)\n",
    "* [HERE](https://developer.here.com/documentation/geocoder/)\n",
    "* [IGN France](https://geoservices.ign.fr/documentation/geoservices/index.html)\n",
    "* [Mapquest](https://developer.mapquest.com/documentation/open/)\n",
    "* [OpenCage](https://opencagedata.com/api)\n",
    "* [OpenMapQuest](http://developer.mapquest.com/web/products/open/geocoding-service)\n",
    "* [Open Street Map Nominatim](https://wiki.openstreetmap.org/wiki/Nominatim)\n",
    "* [What3words](https://developer.what3words.com/public-api/docsv2#overview)\n",
    "* [Yandex](https://tech.yandex.com/maps/doc/geocoder/desc/concepts/input_params-docpage/)\n",
    "\n",
    "Check the [geopy documentation](https://geopy.readthedocs.io/en/stable/) for more details about how to use each service via Python.\n",
    "\n",
    "As you see, there are plenty of geocoders where to choose from! The quality of the geocoders might differ depending on the underlying data. For example, some addresses might exists on OpenStreetMap, but not on Google Maps and thus they can be geocoded using the Nominatim geocoder, but not using the Google Geocoding API - and vice versa.\n",
    "\n",
    "Geocoding services might require an **API key** in order to use them. (i.e. you need to register for the service before you can access results from their API). Furthermore, **rate limiting** also restrict the use of these services. The geocoding process might end up in an error if you are making too many requests in a short time period (eg. trying to geocode large number of addresses). See hints for dealing with rate limiting when geocoding pandas DataFrames from the [geopy documentation](https://geopy.readthedocs.io/en/stable/).\n",
    "If you pay for the geocoding service, you can naturally make more requests to the API.\n",
    "\n",
    "In this lesson we will use the Nominatim geocoder for locating a relatively small number of addresses. Usage of the Nominatim geocoding service is rate-limited to 1 request per second (3600 / hour). You can read more about Nominatim usage policy [here](https://operations.osmfoundation.org/policies/nominatim/).\n",
    "\n",
    "Luckily, Nominatim, which is a geocoder based on OpenStreetMap data does not require a API key to use their service\n",
    "if it is used to geocode only a small number of addresses.\n",
    "\n",
    "\n",
    "**NOTE**\n",
    "\n",
    "As per [geopy documentation for the Nominatim geocoder](https://geopy.readthedocs.io/en/stable/#nominatim) we need to specify a custom `user_agent` parameter when making requests not to violate the Nominatim Usage Policy.\n"
   ]
  },
  {
   "cell_type": "markdown",
   "metadata": {},
   "source": [
    "## Geocoding in Geopandas\n",
    "\n",
    "It is possible to do [geocoding in Geopandas](http://geopandas.org/geocoding.html) through geopy. Geopandas has a function called `geocode()` that can geocode a list of addresses (strings) and return a GeoDataFrame containing the resulting point objects in ``geometry`` column. \n",
    "\n",
    "Let's try this out.\n",
    "\n",
    "We will geocode addresses stored in a text file called `addresses.txt`. These addresses are located in the Helsinki Region in Southern Finland.\n",
    "\n",
    "The first rows of the data look like this:\n",
    "\n",
    "```\n",
    "id;addr\n",
    "1000;Itämerenkatu 14, 00101 Helsinki, Finland\n",
    "1001;Kampinkuja 1, 00100 Helsinki, Finland\n",
    "1002;Kaivokatu 8, 00101 Helsinki, Finland\n",
    "1003;Hermannin rantatie 1, 00580 Helsinki, Finland\n",
    "```\n",
    "\n",
    "We have an `id` for each row and an address on column `addr`.\n",
    "\n",
    "Let's first read the data into a Pandas DataFrame using the `read_csv()` -function:"
   ]
  },
  {
   "cell_type": "code",
   "execution_count": 2,
   "metadata": {},
   "outputs": [],
   "source": [
    "# Import necessary modules\n",
    "import os\n",
    "\n",
    "import geopandas as gpd\n",
    "import pandas as pd\n",
    "\n",
    "from shapely.geometry import Point\n",
    "from geopandas.tools import geocode\n"
   ]
  },
  {
   "cell_type": "code",
   "execution_count": 3,
   "metadata": {},
   "outputs": [],
   "source": [
    "# Filepath\n",
    "fp = [\"..\", \"data\", \"Addresses\", \"addresses.txt\"]\n",
    "input_file = os.path.join(*fp)\n",
    "\n",
    "# Read the data\n",
    "data = pd.read_csv(input_file, sep=\";\")"
   ]
  },
  {
   "cell_type": "markdown",
   "metadata": {},
   "source": [
    "Let's check that we imported the file correctly:"
   ]
  },
  {
   "cell_type": "code",
   "execution_count": 4,
   "metadata": {},
   "outputs": [
    {
     "data": {
      "text/html": [
       "<div>\n",
       "<style scoped>\n",
       "    .dataframe tbody tr th:only-of-type {\n",
       "        vertical-align: middle;\n",
       "    }\n",
       "\n",
       "    .dataframe tbody tr th {\n",
       "        vertical-align: top;\n",
       "    }\n",
       "\n",
       "    .dataframe thead th {\n",
       "        text-align: right;\n",
       "    }\n",
       "</style>\n",
       "<table border=\"1\" class=\"dataframe\">\n",
       "  <thead>\n",
       "    <tr style=\"text-align: right;\">\n",
       "      <th></th>\n",
       "      <th>id</th>\n",
       "      <th>addr</th>\n",
       "    </tr>\n",
       "  </thead>\n",
       "  <tbody>\n",
       "    <tr>\n",
       "      <th>0</th>\n",
       "      <td>1000</td>\n",
       "      <td>Itämerenkatu 14, 00101 Helsinki, Finland</td>\n",
       "    </tr>\n",
       "    <tr>\n",
       "      <th>1</th>\n",
       "      <td>1001</td>\n",
       "      <td>Kampinkuja 1, 00100 Helsinki, Finland</td>\n",
       "    </tr>\n",
       "    <tr>\n",
       "      <th>2</th>\n",
       "      <td>1002</td>\n",
       "      <td>Kaivokatu 8, 00101 Helsinki, Finland</td>\n",
       "    </tr>\n",
       "    <tr>\n",
       "      <th>3</th>\n",
       "      <td>1003</td>\n",
       "      <td>Hermannin rantatie 1, 00580 Helsinki, Finland</td>\n",
       "    </tr>\n",
       "    <tr>\n",
       "      <th>4</th>\n",
       "      <td>1005</td>\n",
       "      <td>Tyynenmerenkatu 9, 00220 Helsinki, Finland</td>\n",
       "    </tr>\n",
       "  </tbody>\n",
       "</table>\n",
       "</div>"
      ],
      "text/plain": [
       "     id                                           addr\n",
       "0  1000       Itämerenkatu 14, 00101 Helsinki, Finland\n",
       "1  1001          Kampinkuja 1, 00100 Helsinki, Finland\n",
       "2  1002           Kaivokatu 8, 00101 Helsinki, Finland\n",
       "3  1003  Hermannin rantatie 1, 00580 Helsinki, Finland\n",
       "4  1005     Tyynenmerenkatu 9, 00220 Helsinki, Finland"
      ]
     },
     "execution_count": 4,
     "metadata": {},
     "output_type": "execute_result"
    }
   ],
   "source": [
    "data.head()"
   ]
  },
  {
   "cell_type": "markdown",
   "metadata": {},
   "source": [
    "## Geocode addresses using Nominatim\n",
    "\n",
    "Now we have our data in a pandas DataFrame and we can geocode our addresses using the [geopandas geocoding function](http://geopandas.org/reference/geopandas.tools.geocode.html#geopandas-tools-geocode) that uses `geopy` package in the background. \n",
    "\n",
    "- Let's import the geocoding function and geocode the addresses (column `addr`) using Nominatim. \n",
    "- Remember to provide a custom string (name of your application) in the `user_agent` parameter.\n",
    "- If needed, you can add the `timeout`-parameter which specifies how many seconds we will wait for a response from the service."
   ]
  },
  {
   "cell_type": "code",
   "execution_count": 7,
   "metadata": {
    "jupyter": {
     "outputs_hidden": false
    }
   },
   "outputs": [],
   "source": [
    "# Geocode addresses using Nominatim. Remember to provide a custom \"application name\" in the user_agent parameter!\n",
    "geo = geocode(data['addr'], provider='nominatim', user_agent='gis-training-kevin', timeout=30)"
   ]
  },
  {
   "cell_type": "code",
   "execution_count": 14,
   "metadata": {},
   "outputs": [
    {
     "data": {
      "text/plain": [
       "<AxesSubplot:>"
      ]
     },
     "execution_count": 14,
     "metadata": {},
     "output_type": "execute_result"
    },
    {
     "data": {
      "image/png": "[encoded data removed]",
      "text/plain": [
       "<Figure size 432x288 with 1 Axes>"
      ]
     },
     "metadata": {
      "needs_background": "light"
     },
     "output_type": "display_data"
    }
   ],
   "source": [
    "# geo.head()\n",
    "geo.plot()"
   ]
  },
  {
   "cell_type": "markdown",
   "metadata": {},
   "source": [
    "And Voilà! As a result we have a GeoDataFrame that contains our original\n",
    "address and a 'geometry' column containing Shapely Point -objects that\n",
    "we can use for exporting the addresses to a Shapefile for example.\n",
    "However, the ``id`` column is not there. Thus, we need to join the\n",
    "information from ``data`` into our new GeoDataFrame ``geo``, thus making\n",
    "a **Table Join**."
   ]
  },
  {
   "cell_type": "markdown",
   "metadata": {},
   "source": [
    "<div class=\"alert alert-info\">\n",
    "\n",
    "**Rate-limiting**\n",
    "\n",
    "When geocoding a large dataframe, you might encounter an error when geocoding. In case you get a time out error, try first using the `timeout` parameter as we did above (allow the service a bit more time to respond). In case of Too Many Requests error, you have hit the rate-limit of the service, and you should slow down your requests. To our convenience, geopy provides additional tools for taking into account rate limits in geocoding services. This script adapts the usage of [geopy RateLimiter](https://geopy.readthedocs.io/en/stable/#geopy.extra.rate_limiter.RateLimiter) to our input data:\n",
    "\n",
    "```\n",
    "from geopy.geocoders import Nominatim\n",
    "from geopy.extra.rate_limiter import RateLimiter\n",
    "from shapely.geometry import Point\n",
    "\n",
    "# Initiate geocoder\n",
    "geolocator = Nominatim(user_agent='gis_training')\n",
    "\n",
    "# Create a geopy rate limiter:\n",
    "geocode_with_delay = RateLimiter(geolocator.geocode, min_delay_seconds=1)\n",
    "\n",
    "# Apply the geocoder with delay using the rate limiter:\n",
    "data['temp'] = data['addr'].apply(geocode_with_delay)\n",
    "\n",
    "# Get point coordinates from the GeoPy location object on each row:\n",
    "data[\"coords\"] = data['temp'].apply(lambda loc: tuple(loc.point) if loc else None)\n",
    "\n",
    "# Create shapely point objects to geometry column:\n",
    "data[\"geometry\"] = data[\"coords\"].apply(Point)\n",
    "```\n",
    "All in all, remember that Nominatim is not meant for super heavy use. \n",
    "</div>\n"
   ]
  },
  {
   "cell_type": "markdown",
   "metadata": {},
   "source": [
    "## Table join\n",
    "<div class=\"alert alert-info\">\n",
    "\n",
    "**Table joins in pandas**\n",
    "    \n",
    "For a comprehensive overview of different ways of combining DataFrames and Series based on set theory, have a look at pandas documentation about [merge, join and concatenate](https://pandas.pydata.org/pandas-docs/stable/user_guide/merging.html).\n",
    "\n",
    "\n",
    "</div>\n",
    "\n",
    "\n",
    "Table joins are really common procedures when doing GIS analyses. Combining data from different tables based on common\n",
    "**key** attribute can be done easily in pandas/geopandas using the [merge()](https://pandas.pydata.org/pandas-docs/stable/generated/pandas.DataFrame.merge.html) -function.\n",
    "\n",
    "However, sometimes it is useful to join two tables together based on the **index** of those DataFrames. In such case, we assume\n",
    "that there is **same number of records** in our DataFrames and that the **order of the records should be the same** in both DataFrames.\n",
    "\n",
    "We can use this approach to join information from the original data to our geocoded addresses row-by-row \n",
    "``join()`` -function which merges the two DataFrames together\n",
    "based on index by default. This approach works correctly because the order of the geocoded addresses in ``geo`` DataFrame is the same as in our original ``data`` DataFrame."
   ]
  },
  {
   "cell_type": "code",
   "execution_count": 9,
   "metadata": {
    "jupyter": {
     "outputs_hidden": false
    }
   },
   "outputs": [
    {
     "data": {
      "text/html": [
       "<div>\n",
       "<style scoped>\n",
       "    .dataframe tbody tr th:only-of-type {\n",
       "        vertical-align: middle;\n",
       "    }\n",
       "\n",
       "    .dataframe tbody tr th {\n",
       "        vertical-align: top;\n",
       "    }\n",
       "\n",
       "    .dataframe thead th {\n",
       "        text-align: right;\n",
       "    }\n",
       "</style>\n",
       "<table border=\"1\" class=\"dataframe\">\n",
       "  <thead>\n",
       "    <tr style=\"text-align: right;\">\n",
       "      <th></th>\n",
       "      <th>geometry</th>\n",
       "      <th>address</th>\n",
       "      <th>id</th>\n",
       "      <th>addr</th>\n",
       "    </tr>\n",
       "  </thead>\n",
       "  <tbody>\n",
       "    <tr>\n",
       "      <th>0</th>\n",
       "      <td>POINT (24.91556 60.16320)</td>\n",
       "      <td>Ruoholahti, 14, Itämerenkatu, Ruoholahti, Läns...</td>\n",
       "      <td>1000</td>\n",
       "      <td>Itämerenkatu 14, 00101 Helsinki, Finland</td>\n",
       "    </tr>\n",
       "    <tr>\n",
       "      <th>1</th>\n",
       "      <td>POINT (24.93169 60.16902)</td>\n",
       "      <td>Kamppi, 1, Kampinkuja, Kamppi, Eteläinen suurp...</td>\n",
       "      <td>1001</td>\n",
       "      <td>Kampinkuja 1, 00100 Helsinki, Finland</td>\n",
       "    </tr>\n",
       "    <tr>\n",
       "      <th>2</th>\n",
       "      <td>POINT (24.94179 60.16989)</td>\n",
       "      <td>Kauppakeskus Citycenter, 8, Kaivokatu, Keskust...</td>\n",
       "      <td>1002</td>\n",
       "      <td>Kaivokatu 8, 00101 Helsinki, Finland</td>\n",
       "    </tr>\n",
       "    <tr>\n",
       "      <th>3</th>\n",
       "      <td>POINT (24.97759 60.19361)</td>\n",
       "      <td>Hermannin rantatie, Hermanninmäki, Hermanni, K...</td>\n",
       "      <td>1003</td>\n",
       "      <td>Hermannin rantatie 1, 00580 Helsinki, Finland</td>\n",
       "    </tr>\n",
       "    <tr>\n",
       "      <th>4</th>\n",
       "      <td>POINT (24.92160 60.15665)</td>\n",
       "      <td>Hesburger, 9, Tyynenmerenkatu, Jätkäsaari, Län...</td>\n",
       "      <td>1005</td>\n",
       "      <td>Tyynenmerenkatu 9, 00220 Helsinki, Finland</td>\n",
       "    </tr>\n",
       "  </tbody>\n",
       "</table>\n",
       "</div>"
      ],
      "text/plain": [
       "                    geometry  \\\n",
       "0  POINT (24.91556 60.16320)   \n",
       "1  POINT (24.93169 60.16902)   \n",
       "2  POINT (24.94179 60.16989)   \n",
       "3  POINT (24.97759 60.19361)   \n",
       "4  POINT (24.92160 60.15665)   \n",
       "\n",
       "                                             address    id  \\\n",
       "0  Ruoholahti, 14, Itämerenkatu, Ruoholahti, Läns...  1000   \n",
       "1  Kamppi, 1, Kampinkuja, Kamppi, Eteläinen suurp...  1001   \n",
       "2  Kauppakeskus Citycenter, 8, Kaivokatu, Keskust...  1002   \n",
       "3  Hermannin rantatie, Hermanninmäki, Hermanni, K...  1003   \n",
       "4  Hesburger, 9, Tyynenmerenkatu, Jätkäsaari, Län...  1005   \n",
       "\n",
       "                                            addr  \n",
       "0       Itämerenkatu 14, 00101 Helsinki, Finland  \n",
       "1          Kampinkuja 1, 00100 Helsinki, Finland  \n",
       "2           Kaivokatu 8, 00101 Helsinki, Finland  \n",
       "3  Hermannin rantatie 1, 00580 Helsinki, Finland  \n",
       "4     Tyynenmerenkatu 9, 00220 Helsinki, Finland  "
      ]
     },
     "execution_count": 9,
     "metadata": {},
     "output_type": "execute_result"
    }
   ],
   "source": [
    "join = geo.join(data)\n",
    "join.head()"
   ]
  },
  {
   "cell_type": "markdown",
   "metadata": {},
   "source": [
    "Let's also check the data type of our new ``join`` table."
   ]
  },
  {
   "cell_type": "code",
   "execution_count": 10,
   "metadata": {
    "jupyter": {
     "outputs_hidden": false
    }
   },
   "outputs": [
    {
     "data": {
      "text/plain": [
       "geopandas.geodataframe.GeoDataFrame"
      ]
     },
     "execution_count": 10,
     "metadata": {},
     "output_type": "execute_result"
    }
   ],
   "source": [
    "type(join)"
   ]
  },
  {
   "cell_type": "markdown",
   "metadata": {},
   "source": [
    "As a result we have a new GeoDataFrame called ``join`` where we now have\n",
    "all original columns plus a new column for ``geometry``. **Note!** If you would do the join the other way around, i.e. `data.join(geo)`, the output would be a pandas DataFrame, not a GeoDataFrame!\n",
    "\n"
   ]
  },
  {
   "cell_type": "markdown",
   "metadata": {},
   "source": [
    "Now it is easy to save our address points into a Shapefile"
   ]
  },
  {
   "cell_type": "code",
   "execution_count": 11,
   "metadata": {},
   "outputs": [],
   "source": [
    "# Output file path\n",
    "fp = [\"..\", \"data\", \"Addresses\", \"addresses.shp\"]\n",
    "out_file = os.path.join(*fp)\n",
    "\n",
    "# Save to Shapefile\n",
    "join.to_file(out_file)"
   ]
  },
  {
   "cell_type": "markdown",
   "metadata": {},
   "source": [
    "That's it. Now we have successfully geocoded those addresses into Points\n",
    "and made a Shapefile out of them. Easy isn't it!"
   ]
  },
  {
   "cell_type": "markdown",
   "metadata": {},
   "source": [
    "### Notes about Nominatim\n",
    "\n",
    "Nominatim works relatively nicely if you have well defined and well-known addresses such as the ones that we used in this tutorial. In practice, the address needs to exist in the OpenStreetMap database. Sometimes, however, you might want to geocode a \"point-of-interest\", such as a museum, only based on it's name. If the museum name is not on OpenStreetMap, Nominatim won't provide any results for it, but you might be able to geocode the place using some other geocoder such as the [Google Geocoding API (V3)](https://developers.google.com/maps/documentation/geocoding/), which requires an API key."
   ]
  },
  {
   "cell_type": "code",
   "execution_count": null,
   "metadata": {},
   "outputs": [],
   "source": []
  }
 ],
 "metadata": {
  "anaconda-cloud": {},
  "kernelspec": {
   "display_name": "Python 3",
   "language": "python",
   "name": "python3"
  },
  "language_info": {
   "codemirror_mode": {
    "name": "ipython",
    "version": 3
   },
   "file_extension": ".py",
   "mimetype": "text/x-python",
   "name": "python",
   "nbconvert_exporter": "python",
   "pygments_lexer": "ipython3",
   "version": "3.9.2"
  }
 },
 "nbformat": 4,
 "nbformat_minor": 4
}
